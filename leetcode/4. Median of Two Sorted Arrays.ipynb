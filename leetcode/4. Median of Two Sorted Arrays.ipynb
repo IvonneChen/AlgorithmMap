{
 "cells": [
  {
   "cell_type": "markdown",
   "metadata": {},
   "source": [
    "# 问题：4. Median of Two Sorted Arrays\n",
    "# Problem: [4. Median of Two Sorted Arrays](https://leetcode.com/problems/median-of-two-sorted-arrays/description/)\n",
    "\n",
    "## 描述 Description\n",
    "> ### There are two sorted arrays nums1 and nums2 of size m and n respectively.\n",
    "\n",
    "> ### Find the median of the two sorted arrays. The overall run time complexity should be O(log (m+n))."
   ]
  },
  {
   "cell_type": "markdown",
   "metadata": {},
   "source": [
    "## 例子 Example"
   ]
  },
  {
   "cell_type": "markdown",
   "metadata": {},
   "source": [
    "> ![example](https://github.com/Decalogue/AlgorithmMap/blob/master/img/leetcode/4.png \"example\")"
   ]
  },
  {
   "cell_type": "markdown",
   "metadata": {},
   "source": [
    "## 分析 Analysis"
   ]
  },
  {
   "cell_type": "markdown",
   "metadata": {},
   "source": [
    "核心思想：\n",
    "> 思路1：二分查找第k小数\n",
    ">> 时间复杂度：O(log(m+n))\n",
    ">> 空间复杂度：O(1)\n",
    "\n",
    "> 思路2：先合并为一个有序数组，再找中位数（时间复杂度不满足题意）\n",
    ">> 时间复杂度：O(n)\n",
    ">> 空间复杂度：O(n)"
   ]
  },
  {
   "cell_type": "markdown",
   "metadata": {},
   "source": [
    "## 定义 Definition"
   ]
  },
  {
   "cell_type": "markdown",
   "metadata": {},
   "source": [
    "### Python"
   ]
  },
  {
   "cell_type": "code",
   "execution_count": 1,
   "metadata": {
    "collapsed": true
   },
   "outputs": [],
   "source": [
    "class Solution:\n",
    "    def findMedianSortedArrays(self, nums1, nums2):\n",
    "        \"\"\"\n",
    "        :type nums1: List[int]\n",
    "        :type nums2: List[int]\n",
    "        :rtype: float\n",
    "        \"\"\""
   ]
  },
  {
   "cell_type": "markdown",
   "metadata": {},
   "source": [
    "### C++"
   ]
  },
  {
   "cell_type": "markdown",
   "metadata": {},
   "source": [
    "```c++\n",
    "class Solution {  \n",
    "public:  \n",
    "    double findMedianSortedArrays(vector<int>& nums1, vector<int>& nums2) {\n",
    "    \n",
    "    }\n",
    "};\n",
    "```"
   ]
  },
  {
   "cell_type": "markdown",
   "metadata": {},
   "source": [
    "### Java"
   ]
  },
  {
   "cell_type": "markdown",
   "metadata": {},
   "source": [
    "```java\n",
    "class Solution {\n",
    "    public double findMedianSortedArrays(int[] nums1, int[] nums2) {\n",
    "        \n",
    "    }\n",
    "}\n",
    "```"
   ]
  },
  {
   "cell_type": "markdown",
   "metadata": {},
   "source": [
    "## 解决方案 Solution"
   ]
  },
  {
   "cell_type": "markdown",
   "metadata": {},
   "source": [
    "### 1.二分查找第k小数\n",
    "\n",
    "> 时间复杂度：O(log(m+n))\n",
    "> 空间复杂度：O(1)\n",
    "\n",
    "对于一个长度为 n 的已排序数列 a，若 n 为奇数，中位数为 a[n/2+1], 若 n 为偶数，则中位数 (a[n/2]+a[n/2+1])/2\n",
    "如果我们可以在两个数列中求出第 k 小的元素，便可以解决该问题\n",
    "不妨设数列 A 元素个数为 n，数列 B 元素个数为 m，各自升序排序，求第 k 小元素\n",
    "取A[k/2] B[k/2] 比较，如果 A[k/2] > B[k/2]，那么，所求的元素必然不在B的前 k/2 个元素中(证明反证法)\n",
    "反之，必然不在A的前 k/2个元素中，于是我们可以将 A 或 B 数列的前 k/2 元素删去，求剩下两个数列的 k-k/2 小元素，于是得到了数据规模变小的同类问题，递归解决\n",
    "如果 k/2 大于某数列个数，所求元素必然不在另一数列的前 k/2 个元素中，同上操作就好。\n",
    "\n",
    "[讲解更清晰 Solution3](https://www.jianshu.com/p/9bd57fd52062)"
   ]
  },
  {
   "cell_type": "markdown",
   "metadata": {},
   "source": [
    "### Python"
   ]
  },
  {
   "cell_type": "code",
   "execution_count": null,
   "metadata": {
    "collapsed": true
   },
   "outputs": [],
   "source": []
  },
  {
   "cell_type": "markdown",
   "metadata": {},
   "source": [
    "### C++"
   ]
  },
  {
   "cell_type": "markdown",
   "metadata": {},
   "source": [
    "```c++\n",
    "class Solution1 {  \n",
    "public:  \n",
    "    double findMedianSortedArrays(vector<int>& nums1, vector<int>& nums2) {  \n",
    "        // write your code here  \n",
    "        int len1=nums1.size();  \n",
    "        int len2=nums2.size();  \n",
    "        int len=len1+len2;  \n",
    "        if(len & 1){  \n",
    "            return findKth(nums1,0,nums2,0,len/2+1);  \n",
    "        }  \n",
    "        return (findKth(nums1,0,nums2,0,len/2)+findKth(nums1,0,nums2,0,len/2+1))/2;  \n",
    "    }  \n",
    "  \n",
    "    double findKth(vector<int>& nums1,int i1,vector<int>& nums2,int i2,int k){  \n",
    "        if(i1>=nums1.size()){  \n",
    "            return nums2[i2+k-1];  \n",
    "        }  \n",
    "        if(i2>=nums2.size()){  \n",
    "            return nums1[i1+k-1];  \n",
    "        }  \n",
    "        if(k==1){  \n",
    "            return min(nums1[i1],nums2[i2]);  \n",
    "        }  \n",
    "  \n",
    "        int key1=i1+k/2-1>=nums1.size()?INT_MAX:nums1[i1+k/2-1];  \n",
    "        int key2=i2+k/2-1>=nums2.size()?INT_MAX:nums2[i2+k/2-1];  \n",
    "        if(key1<key2){  \n",
    "            return findKth(nums1,i1+k/2,nums2,i2,k-k/2);  \n",
    "        }else{  \n",
    "            return findKth(nums1,i1,nums2,i2+k/2,k-k/2);  \n",
    "        }  \n",
    "    }  \n",
    "  \n",
    "}; \n",
    "```"
   ]
  },
  {
   "cell_type": "markdown",
   "metadata": {},
   "source": [
    "```c++\n",
    "static const auto _____ = []()\n",
    "{\n",
    "        ios::sync_with_stdio(false);\n",
    "        cin.tie(nullptr);\n",
    "        return nullptr;\n",
    " }();\n",
    "class Solution2 {\n",
    "public:\n",
    "    double findMedianSortedArrays(vector<int>& nums1, vector<int>& nums2) {\n",
    "        int m = nums1.size(), n = nums2.size();\n",
    "        if (m > n) return findMedianSortedArrays(nums2, nums1);\n",
    "        int i, j, imin = 0, imax = m, half = (m + n + 1) / 2;\n",
    "        while (imin <= imax) {\n",
    "            i = (imin & imax) + ((imin ^ imax) >> 1);\n",
    "            j = half - i;\n",
    "            if (i > 0 && j < n && nums1[i - 1] > nums2[j]) imax = i - 1;\n",
    "            else if (j > 0 && i < m && nums2[j - 1] > nums1[i]) imin = i + 1;\n",
    "            else break;\n",
    "        }\n",
    "        int num1;\n",
    "        if (!i) num1 = nums2[j - 1];\n",
    "        else if (!j) num1 = nums1[i - 1]; \n",
    "        else num1 = max(nums1[i - 1], nums2[j - 1]);\n",
    "        if ((m + n) & 1) return num1;\n",
    "        int num2;\n",
    "        if (i == m) num2 = nums2[j];\n",
    "        else if (j == n) num2 = nums1[i];\n",
    "        else num2 = min(nums1[i], nums2[j]);\n",
    "        return (num1 + num2) / 2.0;\n",
    "    }\n",
    "};\n",
    "```"
   ]
  },
  {
   "cell_type": "markdown",
   "metadata": {},
   "source": [
    "[Solution3 原文链接](https://www.jianshu.com/p/9bd57fd52062)"
   ]
  },
  {
   "cell_type": "markdown",
   "metadata": {},
   "source": [
    "```c++\n",
    "class Solution3 {\n",
    "private:\n",
    "    double findKth(vector<int>& nums1, vector<int>& nums2, int start1, int len1, int start2, int len2, int k) {\n",
    "        if (len1 > len2) {\n",
    "            return findKth(nums2, nums1, start2, len2, start1, len1, k);\n",
    "        }\n",
    "\n",
    "        if (len1 == 0) {\n",
    "            return nums2[start2 + k - 1];\n",
    "        }\n",
    "\n",
    "        if (k == 1) {\n",
    "            return min(nums1[start1], nums2[start2]);\n",
    "        }\n",
    "\n",
    "        int p1 = min(max(k/2, 1), len1);\n",
    "        int p2 = k - p1;\n",
    "        if (nums1[start1 + p1 - 1] > nums2[start2 + p2 - 1]) {\n",
    "            return findKth(nums1, nums2, start1, len1, start2 + p2, len2 - p2, k - p2);\n",
    "        }\n",
    "        else if(nums1[start1 + p1 - 1] < nums2[start2 + p2 - 1]){\n",
    "            return findKth(nums1, nums2, start1 + p1, len1 - p1, start2, len2, k - p1);\n",
    "        }\n",
    "        else {\n",
    "            return nums1[start1 + p1 - 1];\n",
    "        }\n",
    "\n",
    "    }\n",
    "\n",
    "public:\n",
    "    double findMedianSortedArrays(vector<int>& nums1, vector<int>& nums2) {\n",
    "        int len = nums1.size() + nums2.size();\n",
    "\n",
    "        if (!(len & 0x01)) {\n",
    "            return (findKth(nums1, nums2, 0, nums1.size(), 0, nums2.size(), len / 2)\n",
    "                + findKth(nums1, nums2, 0, nums1.size(), 0, nums2.size(), len / 2 + 1)\n",
    "                ) / 2.0f;\n",
    "        }\n",
    "        else {\n",
    "            return findKth(nums1, nums2, 0, nums1.size(), 0, nums2.size(), len / 2 + 1);\n",
    "        }\n",
    "    }\n",
    "};\n",
    "```"
   ]
  },
  {
   "cell_type": "markdown",
   "metadata": {},
   "source": [
    "### Java"
   ]
  },
  {
   "cell_type": "markdown",
   "metadata": {},
   "source": [
    "```Java\n",
    "\n",
    "```"
   ]
  },
  {
   "cell_type": "markdown",
   "metadata": {},
   "source": [
    "### 2.先合并为一个有序数组，再找中位数（时间复杂度不满足题意）\n",
    "\n",
    "> 时间复杂度：O(n)\n",
    "> 空间复杂度：O(n)"
   ]
  },
  {
   "cell_type": "markdown",
   "metadata": {},
   "source": [
    "### Python"
   ]
  },
  {
   "cell_type": "code",
   "execution_count": null,
   "metadata": {
    "collapsed": true
   },
   "outputs": [],
   "source": []
  },
  {
   "cell_type": "markdown",
   "metadata": {},
   "source": [
    "### C++"
   ]
  },
  {
   "cell_type": "markdown",
   "metadata": {},
   "source": [
    "```c++\n",
    "static string s=[](){\n",
    "    std::ios::sync_with_stdio(false);\n",
    "    cin.tie(NULL);\n",
    "    return \"\";\n",
    "}();\n",
    "class Solution {\n",
    "public:\n",
    "    vector<int> mergeSort(vector<int>& nums1, vector<int>& nums2) {\n",
    "  int i = 0, j = 0;\n",
    "  int size1 = nums1.size();\n",
    "  int size2 = nums2.size();\n",
    "\n",
    "  vector<int> bothNums;\n",
    "\n",
    "  while (i < size1 && j < size2) {\n",
    "    if (nums1[i] < nums2[j]) {\n",
    "      bothNums.emplace_back(nums1[i]);\n",
    "      i++;\n",
    "    } else {\n",
    "      bothNums.emplace_back(nums2[j]);\n",
    "      j++;\n",
    "    }\n",
    "  }\n",
    "\n",
    "  // add what's left\n",
    "  while (i < size1) {\n",
    "    bothNums.emplace_back(nums1[i]);\n",
    "    i++;\n",
    "  }\n",
    "\n",
    "  while (j < size2) {\n",
    "    bothNums.emplace_back(nums2[j]);\n",
    "    j++;\n",
    "  }\n",
    "\n",
    "  return bothNums;\n",
    "}\n",
    "\n",
    "double findMedianSortedArrays(vector<int>& nums1, vector<int>& nums2) {\n",
    "// use mergesort to put them into one array\n",
    "// get the median of that new array\n",
    "  vector<int> combined = mergeSort(nums1, nums2);\n",
    "  double median;\n",
    "  if (combined.size() % 2 == 0) {\n",
    "    int index = combined.size() / 2 - 1;\n",
    "    median = (double)(combined.at(index) + combined.at(index + 1)) / 2;\n",
    "  } else {\n",
    "    int index = combined.size() / 2;\n",
    "    median = (double)combined.at(index);\n",
    "  }\n",
    "  return median;\n",
    "}\n",
    "};\n",
    "```"
   ]
  },
  {
   "cell_type": "markdown",
   "metadata": {},
   "source": [
    "### Java"
   ]
  },
  {
   "cell_type": "markdown",
   "metadata": {},
   "source": [
    "```Java\n",
    "\n",
    "```"
   ]
  },
  {
   "cell_type": "markdown",
   "metadata": {},
   "source": [
    "## 总结"
   ]
  },
  {
   "cell_type": "markdown",
   "metadata": {
    "collapsed": true
   },
   "source": [
    "### 1.看到这个问题，我最初是怎么思考的？我是怎么做的？遇到了哪些问题？\n",
    "> \n",
    "\n",
    "### 2.别人是怎么思考的？别人是怎么做的？\n",
    "> \n",
    "\n",
    "### 3.与他的做法相比，我有哪些可以提升的地方？\n",
    "> "
   ]
  },
  {
   "cell_type": "code",
   "execution_count": null,
   "metadata": {
    "collapsed": true
   },
   "outputs": [],
   "source": []
  }
 ],
 "metadata": {
  "kernelspec": {
   "display_name": "Python 3",
   "language": "python",
   "name": "python3"
  },
  "language_info": {
   "codemirror_mode": {
    "name": "ipython",
    "version": 3
   },
   "file_extension": ".py",
   "mimetype": "text/x-python",
   "name": "python",
   "nbconvert_exporter": "python",
   "pygments_lexer": "ipython3",
   "version": "3.6.1"
  }
 },
 "nbformat": 4,
 "nbformat_minor": 2
}
