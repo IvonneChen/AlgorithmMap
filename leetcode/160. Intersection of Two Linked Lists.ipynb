{
 "cells": [
  {
   "cell_type": "markdown",
   "metadata": {},
   "source": [
    "# 问题：160. Intersection of Two Linked Lists\n",
    "# Problem: [160. Intersection of Two Linked Lists](https://leetcode.com/problems/intersection-of-two-linked-lists/description/)\n",
    "\n",
    "## 描述 Description\n",
    "> ### Write a program to find the node at which the intersection of two singly linked lists begins."
   ]
  },
  {
   "cell_type": "markdown",
   "metadata": {},
   "source": [
    "## 例子 Example"
   ]
  },
  {
   "cell_type": "markdown",
   "metadata": {},
   "source": [
    "> ![example](https://github.com/Decalogue/AlgorithmMap/blob/master/img/leetcode/160.png \"example\")"
   ]
  },
  {
   "cell_type": "markdown",
   "metadata": {},
   "source": [
    "## 分析 Analysis"
   ]
  },
  {
   "cell_type": "markdown",
   "metadata": {},
   "source": [
    "核心思想：\n",
    "> 思路1：先计算两个链表长度，对齐初始指针\n",
    ">> 时间复杂度：O(n)\n",
    ">> 空间复杂度：O(1)\n",
    "\n",
    "> 思路2：\n",
    ">> 时间复杂度：O(n)\n",
    ">> 空间复杂度：O(1)"
   ]
  },
  {
   "cell_type": "markdown",
   "metadata": {},
   "source": [
    "## 定义 Definition"
   ]
  },
  {
   "cell_type": "markdown",
   "metadata": {},
   "source": [
    "### Python"
   ]
  },
  {
   "cell_type": "code",
   "execution_count": 1,
   "metadata": {
    "collapsed": true
   },
   "outputs": [],
   "source": [
    "# Definition for singly-linked list.\n",
    "# class ListNode(object):\n",
    "#     def __init__(self, x):\n",
    "#         self.val = x\n",
    "#         self.next = None\n",
    "\n",
    "class Solution(object):\n",
    "    def getIntersectionNode(self, headA, headB):\n",
    "        \"\"\"\n",
    "        :type head1, head1: ListNode\n",
    "        :rtype: ListNode\n",
    "        \"\"\""
   ]
  },
  {
   "cell_type": "markdown",
   "metadata": {},
   "source": [
    "### C++"
   ]
  },
  {
   "cell_type": "markdown",
   "metadata": {},
   "source": [
    "```c++\n",
    "/**\n",
    " * Definition for singly-linked list.\n",
    " * struct ListNode {\n",
    " *     int val;\n",
    " *     ListNode *next;\n",
    " *     ListNode(int x) : val(x), next(NULL) {}\n",
    " * };\n",
    " */\n",
    "class Solution {\n",
    "public:\n",
    "    ListNode *getIntersectionNode(ListNode *headA, ListNode *headB) {\n",
    "        \n",
    "    }\n",
    "};\n",
    "```"
   ]
  },
  {
   "cell_type": "markdown",
   "metadata": {},
   "source": [
    "### Java"
   ]
  },
  {
   "cell_type": "markdown",
   "metadata": {},
   "source": [
    "```java\n",
    "/**\n",
    " * Definition for singly-linked list.\n",
    " * public class ListNode {\n",
    " *     int val;\n",
    " *     ListNode next;\n",
    " *     ListNode(int x) {\n",
    " *         val = x;\n",
    " *         next = null;\n",
    " *     }\n",
    " * }\n",
    " */\n",
    "public class Solution {\n",
    "    public ListNode getIntersectionNode(ListNode headA, ListNode headB) {\n",
    "        \n",
    "    }\n",
    "}\n",
    "```"
   ]
  },
  {
   "cell_type": "markdown",
   "metadata": {},
   "source": [
    "## 解决方案 Solution"
   ]
  },
  {
   "cell_type": "markdown",
   "metadata": {},
   "source": [
    "### 1.先计算两个链表长度，对齐初始指针\n",
    "\n",
    "> 时间复杂度：O(n)\n",
    "> 空间复杂度：O(1)"
   ]
  },
  {
   "cell_type": "markdown",
   "metadata": {},
   "source": [
    "### Python"
   ]
  },
  {
   "cell_type": "code",
   "execution_count": 2,
   "metadata": {
    "collapsed": true
   },
   "outputs": [],
   "source": [
    "class Solution(object): # my\n",
    "    def getIntersectionNode(self, headA, headB):\n",
    "        \"\"\"\n",
    "        :type head1, head1: ListNode\n",
    "        :rtype: ListNode\n",
    "        \"\"\"\n",
    "        if not headA or not headB:\n",
    "            return None\n",
    "        la = 0\n",
    "        lb = 0\n",
    "        ha = headA\n",
    "        hb = headB\n",
    "        while ha:\n",
    "            la += 1\n",
    "            ha = ha.next\n",
    "        while hb:\n",
    "            lb += 1\n",
    "            hb = hb.next\n",
    "        ha = headA\n",
    "        hb = headB\n",
    "        if la > lb:\n",
    "            for i in range(la - lb):\n",
    "                ha = ha.next\n",
    "        elif la < lb:\n",
    "            for i in range(lb - la):\n",
    "                hb = hb.next\n",
    "        while ha != hb:\n",
    "            ha = ha.next\n",
    "            hb = hb.next\n",
    "        return ha"
   ]
  },
  {
   "cell_type": "markdown",
   "metadata": {},
   "source": [
    "> ![160_1](https://github.com/Decalogue/AlgorithmMap/blob/master/img/leetcode/160_1.png \"160_1\")"
   ]
  },
  {
   "cell_type": "code",
   "execution_count": 3,
   "metadata": {
    "collapsed": true
   },
   "outputs": [],
   "source": [
    "class Solution(object): # others\n",
    "    def getLen(self,head):\n",
    "        counter = 0\n",
    "        while head:\n",
    "            counter += 1\n",
    "            head = head.next        \n",
    "        return counter\n",
    "    \n",
    "    def getNewHead(self,head,idx):\n",
    "        counter = 0\n",
    "        while counter < idx:\n",
    "            head = head.next\n",
    "            counter += 1\n",
    "        return head\n",
    "    \n",
    "    def getIntersectionNode(self, headA, headB):\n",
    "        \"\"\"\n",
    "        :type head1, head1: ListNode\n",
    "        :rtype: ListNode\n",
    "        \"\"\"\n",
    "        lenA = self.getLen(headA)\n",
    "        lenB = self.getLen(headB)\n",
    "        if lenA > lenB:\n",
    "            idxA = lenA - lenB\n",
    "            nodeA = self.getNewHead(headA,idxA)\n",
    "            nodeB = headB\n",
    "        else:\n",
    "            idxB = lenB - lenA\n",
    "            nodeB = self.getNewHead(headB,idxB)\n",
    "            nodeA = headA\n",
    "        while nodeA and nodeB:\n",
    "            if nodeA == nodeB:\n",
    "                return nodeA\n",
    "            nodeA = nodeA.next\n",
    "            nodeB = nodeB.next\n",
    "        else:\n",
    "            return None "
   ]
  },
  {
   "cell_type": "markdown",
   "metadata": {},
   "source": [
    "### C++"
   ]
  },
  {
   "cell_type": "markdown",
   "metadata": {},
   "source": [
    "```c++\n",
    "\n",
    "```"
   ]
  },
  {
   "cell_type": "markdown",
   "metadata": {},
   "source": [
    "### Java"
   ]
  },
  {
   "cell_type": "markdown",
   "metadata": {},
   "source": [
    "```java\n",
    "\n",
    "```"
   ]
  },
  {
   "cell_type": "markdown",
   "metadata": {},
   "source": [
    "### 2.\n",
    "\n",
    "> 时间复杂度：O(n)\n",
    "> 空间复杂度：O(1)"
   ]
  },
  {
   "cell_type": "markdown",
   "metadata": {},
   "source": [
    "### Python"
   ]
  },
  {
   "cell_type": "code",
   "execution_count": null,
   "metadata": {
    "collapsed": true
   },
   "outputs": [],
   "source": []
  },
  {
   "cell_type": "markdown",
   "metadata": {},
   "source": [
    "### C++"
   ]
  },
  {
   "cell_type": "markdown",
   "metadata": {},
   "source": [
    "```c++\n",
    "\n",
    "```"
   ]
  },
  {
   "cell_type": "markdown",
   "metadata": {},
   "source": [
    "### Java"
   ]
  },
  {
   "cell_type": "markdown",
   "metadata": {},
   "source": [
    "```Java\n",
    "\n",
    "```"
   ]
  },
  {
   "cell_type": "markdown",
   "metadata": {},
   "source": [
    "## 总结"
   ]
  },
  {
   "cell_type": "markdown",
   "metadata": {
    "collapsed": true
   },
   "source": [
    "### 1.看到这个问题，我最初是怎么思考的？我是怎么做的？遇到了哪些问题？\n",
    "> 思考：a.用 set 实现（不符合题意）b.先计算两个链表长度，对齐初始指针\n",
    "\n",
    "> 方法：先计算两个链表长度，对齐初始指针\n",
    "\n",
    "> 问题：边界条件判断 if not headA or not headB: return None\n",
    "\n",
    "### 2.别人是怎么思考的？别人是怎么做的？\n",
    "> 先计算两个链表长度，对齐初始指针\n",
    "\n",
    "### 3.与他的做法相比，我有哪些可以提升的地方？\n",
    "> 将整个函数拆分成几个意义明确的模块"
   ]
  },
  {
   "cell_type": "code",
   "execution_count": null,
   "metadata": {
    "collapsed": true
   },
   "outputs": [],
   "source": []
  }
 ],
 "metadata": {
  "kernelspec": {
   "display_name": "Python 3",
   "language": "python",
   "name": "python3"
  },
  "language_info": {
   "codemirror_mode": {
    "name": "ipython",
    "version": 3
   },
   "file_extension": ".py",
   "mimetype": "text/x-python",
   "name": "python",
   "nbconvert_exporter": "python",
   "pygments_lexer": "ipython3",
   "version": "3.6.1"
  }
 },
 "nbformat": 4,
 "nbformat_minor": 2
}
