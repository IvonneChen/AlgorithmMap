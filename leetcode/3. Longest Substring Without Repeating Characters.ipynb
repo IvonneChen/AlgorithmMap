{
 "cells": [
  {
   "cell_type": "markdown",
   "metadata": {},
   "source": [
    "# 问题：3. Longest Substring Without Repeating Characters 无重复字符的最长子串\n",
    "# Problem: [3. Longest Substring Without Repeating Characters](https://leetcode.com/problems/longest-substring-without-repeating-characters/description/)\n",
    "\n",
    "## 描述 Description\n",
    "> ### Given a string, find the length of the longest substring without repeating characters."
   ]
  },
  {
   "cell_type": "markdown",
   "metadata": {},
   "source": [
    "## 例子 Example"
   ]
  },
  {
   "cell_type": "markdown",
   "metadata": {},
   "source": [
    "> ![example](https://github.com/Decalogue/AlgorithmMap/blob/master/img/leetcode/3.png \"example\")"
   ]
  },
  {
   "cell_type": "markdown",
   "metadata": {},
   "source": [
    "## 分析 Analysis"
   ]
  },
  {
   "cell_type": "markdown",
   "metadata": {},
   "source": [
    "核心思想：\n",
    "> 思路1：直接循环\n",
    ">> 时间复杂度：O(n^2)\n",
    ">> 空间复杂度：O(1)\n",
    "\n",
    "> 思路2：滑动窗口（基于字典或集合）+ 优化\n",
    ">> 时间复杂度：O(n)\n",
    ">> 空间复杂度：O(n)"
   ]
  },
  {
   "cell_type": "markdown",
   "metadata": {},
   "source": [
    "## 定义 Definition"
   ]
  },
  {
   "cell_type": "markdown",
   "metadata": {},
   "source": [
    "### Python"
   ]
  },
  {
   "cell_type": "code",
   "execution_count": 6,
   "metadata": {
    "collapsed": true
   },
   "outputs": [],
   "source": [
    "class Solution(object):\n",
    "    def lengthOfLongestSubstring(self, s):\n",
    "        \"\"\"\n",
    "        :type s: str\n",
    "        :rtype: int\n",
    "        \"\"\""
   ]
  },
  {
   "cell_type": "markdown",
   "metadata": {},
   "source": [
    "### C++"
   ]
  },
  {
   "cell_type": "markdown",
   "metadata": {},
   "source": [
    "```c++\n",
    "class Solution {\n",
    "public:\n",
    "    int lengthOfLongestSubstring(string s) {\n",
    "        \n",
    "    }\n",
    "};\n",
    "```"
   ]
  },
  {
   "cell_type": "markdown",
   "metadata": {},
   "source": [
    "### Java"
   ]
  },
  {
   "cell_type": "markdown",
   "metadata": {},
   "source": [
    "```java\n",
    "class Solution {\n",
    "    public int lengthOfLongestSubstring(String s) {\n",
    "        \n",
    "    }\n",
    "}\n",
    "```"
   ]
  },
  {
   "cell_type": "markdown",
   "metadata": {},
   "source": [
    "## 解决方案 Solution"
   ]
  },
  {
   "cell_type": "markdown",
   "metadata": {},
   "source": [
    "### 1.直接循环\n",
    "\n",
    "> 时间复杂度：O(n^2)\n",
    "> 空间复杂度：O(1)"
   ]
  },
  {
   "cell_type": "markdown",
   "metadata": {},
   "source": [
    "### Python"
   ]
  },
  {
   "cell_type": "code",
   "execution_count": null,
   "metadata": {},
   "outputs": [],
   "source": [
    "class Solution(object):\n",
    "    def lengthOfLongestSubstring(self, s):\n",
    "        \"\"\"\n",
    "        :type s: str\n",
    "        :rtype: int\n",
    "        \"\"\"\n",
    "        temp = 0\n",
    "        l = 0\n",
    "        for i in range(len(s)):\n",
    "            for j in range(i+1, len(s)):\n",
    "                if s[j] not in s[i:j]:\n",
    "                    temp += 1\n",
    "                else:\n",
    "                    break\n",
    "            if l < temp:\n",
    "                l = temp\n",
    "            temp = 0\n",
    "        return l "
   ]
  },
  {
   "cell_type": "markdown",
   "metadata": {},
   "source": [
    "### C++"
   ]
  },
  {
   "cell_type": "markdown",
   "metadata": {},
   "source": [
    "```c++\n",
    "\n",
    "```"
   ]
  },
  {
   "cell_type": "markdown",
   "metadata": {},
   "source": [
    "### Java"
   ]
  },
  {
   "cell_type": "markdown",
   "metadata": {},
   "source": [
    "```java\n",
    "package TwoPointer;\n",
    "\n",
    "import java.util.HashSet;\n",
    "import java.util.Set;\n",
    "\n",
    "public class LongestSubstringWithoutRepeatingCharacters {\n",
    "    public int lengthOfLongestSubstring(String s) {\n",
    "        int n = s.length();\n",
    "        int res = 0;\n",
    "        for(int i=0;i<n;i++)\n",
    "            for(int j=i+1;j<n;j++)\n",
    "                if(noDupicate(s,i,j))\n",
    "                    res = Math.max(res, j-i+1);\n",
    "        return res;\n",
    "    }\n",
    "\n",
    "    private boolean noDupicate(String s, int left, int right) {\n",
    "        Set<Character> set = new HashSet<>();\n",
    "        \n",
    "        for(int i=left;i<=right;i++) {\n",
    "            if(set.contains(s.charAt(i)))\n",
    "                return false;\n",
    "            else {\n",
    "                set.add(s.charAt(i));\n",
    "            }\n",
    "        }\n",
    "        return true;\n",
    "    }\n",
    "}\n",
    "```"
   ]
  },
  {
   "cell_type": "markdown",
   "metadata": {},
   "source": [
    "### 2.滑动窗口（基于字典或集合）+ 优化\n",
    "\n",
    "> 时间复杂度：O(n)\n",
    "> 空间复杂度：O(n)"
   ]
  },
  {
   "cell_type": "markdown",
   "metadata": {},
   "source": [
    "### Python"
   ]
  },
  {
   "cell_type": "code",
   "execution_count": 9,
   "metadata": {},
   "outputs": [],
   "source": [
    "class Solution(object): # my 未优化\n",
    "    def lengthOfLongestSubstring(self, s):\n",
    "        \"\"\"\n",
    "        :type s: str\n",
    "        :rtype: int\n",
    "        \"\"\"\n",
    "        n = len(s)\n",
    "        if n <= 1:\n",
    "            return n\n",
    "        d = set()\n",
    "        # d = {}\n",
    "        res = 0\n",
    "        j = 0\n",
    "        for i in range(n):\n",
    "            while j < n and s[j] not in d:\n",
    "                d.add(s[j])\n",
    "                # d[s[j]] = 1\n",
    "                res = max(res, j - i + 1)\n",
    "                j += 1\n",
    "            d.remove(s[i])\n",
    "            # d.pop(s[i])\n",
    "        return res"
   ]
  },
  {
   "cell_type": "code",
   "execution_count": null,
   "metadata": {
    "collapsed": true
   },
   "outputs": [],
   "source": [
    "# 优化滑动窗口\n",
    "class Solution1:\n",
    "    def lengthOfLongestSubstring(self, s):\n",
    "        \"\"\"\n",
    "        :type s: str\n",
    "        :rtype: int\n",
    "        \"\"\"\n",
    "        l, res, last = -1, 0, {}\n",
    "        for i, v in enumerate(s):\n",
    "            if v in last and last[v] > l:\n",
    "                l = last[v]\n",
    "            elif i - l > res:\n",
    "                res = i - l\n",
    "            last[v] = i\n",
    "        return res\n",
    "\n",
    "class Solution2:\n",
    "    def lengthOfLongestSubstring(self, s):\n",
    "        \"\"\"\n",
    "        :type s: str\n",
    "        :rtype: int\n",
    "        \"\"\"\n",
    "        helper_dict = {}\n",
    "        longest_start = 0\n",
    "        longest_end = -1\n",
    "        current_start = 0\n",
    "        for char_index, char in enumerate(s):\n",
    "            if char not in helper_dict or helper_dict[char] < current_start:\n",
    "                helper_dict[char] = char_index\n",
    "            else:\n",
    "                current_start = helper_dict[char] + 1\n",
    "                helper_dict[char] = char_index\n",
    "            if char_index - current_start > longest_end - longest_start:\n",
    "                longest_start = current_start\n",
    "                longest_end = char_index\n",
    "        return longest_end - longest_start + 1"
   ]
  },
  {
   "cell_type": "markdown",
   "metadata": {},
   "source": [
    "### C++"
   ]
  },
  {
   "cell_type": "markdown",
   "metadata": {},
   "source": [
    "```c++\n",
    "\n",
    "```"
   ]
  },
  {
   "cell_type": "markdown",
   "metadata": {},
   "source": [
    "### Java"
   ]
  },
  {
   "cell_type": "markdown",
   "metadata": {},
   "source": [
    "[原文](https://www.jianshu.com/p/9188ff13280c)\n",
    "```java\n",
    "// 滑动窗口 + hashset\n",
    "class Solution1 {\n",
    "    public int lengthOfLongestSubstring(String s) {\n",
    "        int n = s.length();\n",
    "        Set<Character> set = new HashSet<>();\n",
    "        int j = 0;\n",
    "        int res = 0;\n",
    "        for(int i=0;i<n;i++) {\n",
    "            while(!set.contains(s.charAt(j)) && j<n) {\n",
    "                set.add(s.charAt(j));\n",
    "                res = Math.max(res, j-i+1);\n",
    "                j++;\n",
    "            }\n",
    "            set.remove(s.charAt(i));\n",
    "        }\n",
    "        return res;\n",
    "    }\n",
    "}\n",
    "\n",
    "// 优化滑动窗口\n",
    "class Solution2 {\n",
    "    public int lengthOfLongestSubstring(String s) {\n",
    "        int n = s.length(), ans = 0;\n",
    "        int[] index = new int[128]; // current index of character\n",
    "        // try to extend the range [i, j]\n",
    "        for (int j = 0, i = 0; j < n; j++) {\n",
    "            i = Math.max(index[s.charAt(j)], i);\n",
    "            ans = Math.max(ans, j - i + 1);\n",
    "            index[s.charAt(j)] = j + 1;\n",
    "        }\n",
    "        return ans;\n",
    "    }\n",
    "}\n",
    "```"
   ]
  },
  {
   "cell_type": "markdown",
   "metadata": {},
   "source": [
    "## 总结"
   ]
  },
  {
   "cell_type": "markdown",
   "metadata": {
    "collapsed": true
   },
   "source": [
    "### 1.看到这个问题，我最初是怎么思考的？我是怎么做的？遇到了哪些问题？\n",
    "> 思考：直接循环\n",
    "\n",
    "> 方法：两根指针，i 从 0 到 n-1，j 从 i+1 到 n-1 判断子串有没有重复字符\n",
    "\n",
    "> 问题：a.超时 b.索引\n",
    "\n",
    "### 2.别人是怎么思考的？别人是怎么做的？\n",
    "> 滑动窗口 + 优化\n",
    "\n",
    "### 3.与他的做法相比，我有哪些可以提升的地方？\n",
    "> 对滑动窗口法的熟悉应用：滑动窗口方法是一个抽象的概念，广泛应用于数组和 String 的问题上，一个窗口包含了一系列的元素，通过移动窗口两边的元素设计算法，所以叫滑动窗口法。"
   ]
  },
  {
   "cell_type": "code",
   "execution_count": null,
   "metadata": {
    "collapsed": true
   },
   "outputs": [],
   "source": []
  }
 ],
 "metadata": {
  "kernelspec": {
   "display_name": "Python 3",
   "language": "python",
   "name": "python3"
  },
  "language_info": {
   "codemirror_mode": {
    "name": "ipython",
    "version": 3
   },
   "file_extension": ".py",
   "mimetype": "text/x-python",
   "name": "python",
   "nbconvert_exporter": "python",
   "pygments_lexer": "ipython3",
   "version": "3.6.1"
  }
 },
 "nbformat": 4,
 "nbformat_minor": 2
}
