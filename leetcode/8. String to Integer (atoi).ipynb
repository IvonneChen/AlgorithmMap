{
 "cells": [
  {
   "cell_type": "markdown",
   "metadata": {},
   "source": [
    "# 问题：8. String to Integer (atoi)\n",
    "# Problem: [8. String to Integer (atoi)](https://leetcode.com/problems/string-to-integer-atoi/description/)\n",
    "\n",
    "## 描述 Description\n",
    "> ### Implement atoi which converts a string to an integer."
   ]
  },
  {
   "cell_type": "markdown",
   "metadata": {},
   "source": [
    "## 例子 Example"
   ]
  },
  {
   "cell_type": "markdown",
   "metadata": {},
   "source": [
    "> ![example_1](https://github.com/Decalogue/AlgorithmMap/blob/master/img/leetcode/8_1.png \"example\")\n",
    "> ![example_2](https://github.com/Decalogue/AlgorithmMap/blob/master/img/leetcode/8_2.png \"example\")"
   ]
  },
  {
   "cell_type": "markdown",
   "metadata": {},
   "source": [
    "## 分析 Analysis"
   ]
  },
  {
   "cell_type": "markdown",
   "metadata": {},
   "source": [
    "核心思想：\n",
    "> 思路1：遍历判断各种边界情况，然后转换\n",
    ">> 时间复杂度：O(n)\n",
    ">> 空间复杂度：O(1)\n",
    "\n",
    "> 思路2：遍历的同时进行转换\n",
    ">> 时间复杂度：O(n)\n",
    ">> 空间复杂度：O(1)"
   ]
  },
  {
   "cell_type": "markdown",
   "metadata": {},
   "source": [
    "## 定义 Definition"
   ]
  },
  {
   "cell_type": "markdown",
   "metadata": {},
   "source": [
    "### Python"
   ]
  },
  {
   "cell_type": "code",
   "execution_count": 1,
   "metadata": {
    "collapsed": true
   },
   "outputs": [],
   "source": [
    "class Solution(object):\n",
    "    def myAtoi(self, s):\n",
    "        \"\"\"\n",
    "        :type s: str\n",
    "        :rtype: int\n",
    "        \"\"\""
   ]
  },
  {
   "cell_type": "markdown",
   "metadata": {},
   "source": [
    "### C++"
   ]
  },
  {
   "cell_type": "markdown",
   "metadata": {},
   "source": [
    "```c++\n",
    "class Solution {\n",
    "public:\n",
    "    int myAtoi(string str) {\n",
    "        \n",
    "    }\n",
    "};\n",
    "```"
   ]
  },
  {
   "cell_type": "markdown",
   "metadata": {},
   "source": [
    "### Java"
   ]
  },
  {
   "cell_type": "markdown",
   "metadata": {},
   "source": [
    "```java\n",
    "class Solution {\n",
    "    public int myAtoi(String str) {\n",
    "        \n",
    "    }\n",
    "}\n",
    "```"
   ]
  },
  {
   "cell_type": "markdown",
   "metadata": {},
   "source": [
    "## 解决方案 Solution"
   ]
  },
  {
   "cell_type": "markdown",
   "metadata": {},
   "source": [
    "### 1.遍历判断各种边界情况，然后转换\n",
    "\n",
    "> 时间复杂度：O(n)\n",
    "> 空间复杂度：O(1)"
   ]
  },
  {
   "cell_type": "markdown",
   "metadata": {},
   "source": [
    "### Python"
   ]
  },
  {
   "cell_type": "code",
   "execution_count": 10,
   "metadata": {},
   "outputs": [],
   "source": [
    "class Solution(object): # my 可以通过，排在前 5%\n",
    "    def myAtoi(self, s):\n",
    "        \"\"\"\n",
    "        :type s: str\n",
    "        :rtype: int\n",
    "        \"\"\"\n",
    "        if not s:\n",
    "            return 0\n",
    "        INT_MIN = -2 ** 31\n",
    "        INT_MAX = 2 ** 31 - 1\n",
    "        s = s.lstrip()\n",
    "        if len(s) == 0:\n",
    "            return 0\n",
    "        temp = s[0]\n",
    "        if temp in ['-', '+'] and len(s) == 1:\n",
    "            return 0\n",
    "        elif temp not in ['-', '+'] and (temp < '0' or temp > '9'):\n",
    "            return 0\n",
    "        for k in s[1:]:\n",
    "            if '0' <= k <= '9' or k == '.':\n",
    "                temp += k\n",
    "            else:\n",
    "                break\n",
    "        if len(temp) == 1 and temp[0] in ['-', '+']:\n",
    "            return 0\n",
    "        elif '+' in temp and '-' in temp:\n",
    "            return 0\n",
    "        elif '.' in temp:\n",
    "            res = round(float(temp))\n",
    "        else:\n",
    "            res = int(temp)\n",
    "        if res < INT_MIN:\n",
    "            return INT_MIN\n",
    "        elif res > INT_MAX:\n",
    "            return INT_MAX\n",
    "        return res"
   ]
  },
  {
   "cell_type": "markdown",
   "metadata": {},
   "source": [
    "### C++"
   ]
  },
  {
   "cell_type": "markdown",
   "metadata": {},
   "source": [
    "```c++\n",
    "\n",
    "```"
   ]
  },
  {
   "cell_type": "markdown",
   "metadata": {},
   "source": [
    "### Java"
   ]
  },
  {
   "cell_type": "markdown",
   "metadata": {},
   "source": [
    "```java\n",
    "\n",
    "```"
   ]
  },
  {
   "cell_type": "markdown",
   "metadata": {},
   "source": [
    "### 2.遍历的同时进行转换\n",
    "\n",
    "> 时间复杂度：O(n)\n",
    "> 空间复杂度：O(1)"
   ]
  },
  {
   "cell_type": "markdown",
   "metadata": {},
   "source": [
    "### Python"
   ]
  },
  {
   "cell_type": "code",
   "execution_count": null,
   "metadata": {
    "collapsed": true
   },
   "outputs": [],
   "source": [
    "class Solution: # LeetCode 上的一个排在前 5% 的解法，但是重新提交不通过（无法处理 \"0-1\" 这种情况）\n",
    "    def myAtoi(self, s):\n",
    "        \"\"\"\n",
    "        :type s: str\n",
    "        :rtype: int\n",
    "        \"\"\"\n",
    "        base = \"0123456789\"\n",
    "        plus = \"+\"\n",
    "        minus = \"-\"\n",
    "        sum_s = 0\n",
    "        flag = 1\n",
    "        bit = 0\n",
    "        INT_MAX = 2147483647\n",
    "        INT_MIN = -2147483648\n",
    "        \n",
    "        if not s:\n",
    "            return 0\n",
    "        \n",
    "        if len(s) == 0:\n",
    "            return 0\n",
    "        \n",
    "        for letter in s.strip():\n",
    "            if letter in plus:\n",
    "                if bit == 0:\n",
    "                    bit = 1\n",
    "                    continue\n",
    "                else:\n",
    "                    break\n",
    "            elif letter in minus:\n",
    "                if bit == 0:\n",
    "                    bit = 1\n",
    "                    flag = -1\n",
    "                    continue\n",
    "                else:\n",
    "                    break\n",
    "            elif letter not in base:\n",
    "                break;\n",
    "            else:\n",
    "                sum_s *= 10\n",
    "                sum_s += int(letter)\n",
    "        \n",
    "        sum_s *= flag\n",
    "        \n",
    "        if(sum_s > INT_MAX):\n",
    "            return INT_MAX\n",
    "        \n",
    "        if(sum_s < INT_MIN):\n",
    "            return INT_MIN\n",
    "        \n",
    "        return sum_s"
   ]
  },
  {
   "cell_type": "markdown",
   "metadata": {},
   "source": [
    "### C++"
   ]
  },
  {
   "cell_type": "markdown",
   "metadata": {},
   "source": [
    "```c++\n",
    "\n",
    "```"
   ]
  },
  {
   "cell_type": "markdown",
   "metadata": {},
   "source": [
    "### Java"
   ]
  },
  {
   "cell_type": "markdown",
   "metadata": {},
   "source": [
    "```Java\n",
    "\n",
    "```"
   ]
  },
  {
   "cell_type": "markdown",
   "metadata": {},
   "source": [
    "## 总结"
   ]
  },
  {
   "cell_type": "markdown",
   "metadata": {
    "collapsed": true
   },
   "source": [
    "### 1.看到这个问题，我最初是怎么思考的？我是怎么做的？遇到了哪些问题？\n",
    "> 思考：遍历判断各种边界情况\n",
    "\n",
    "> 问题：边界情况考虑不全面\n",
    "\n",
    "### 2.别人是怎么思考的？别人是怎么做的？\n",
    "> 遍历的同时进行转换\n",
    "\n",
    "### 3.与他的做法相比，我有哪些可以提升的地方？\n",
    "> 代码逻辑更简洁明了"
   ]
  },
  {
   "cell_type": "code",
   "execution_count": null,
   "metadata": {
    "collapsed": true
   },
   "outputs": [],
   "source": []
  }
 ],
 "metadata": {
  "kernelspec": {
   "display_name": "Python 3",
   "language": "python",
   "name": "python3"
  },
  "language_info": {
   "codemirror_mode": {
    "name": "ipython",
    "version": 3
   },
   "file_extension": ".py",
   "mimetype": "text/x-python",
   "name": "python",
   "nbconvert_exporter": "python",
   "pygments_lexer": "ipython3",
   "version": "3.6.1"
  }
 },
 "nbformat": 4,
 "nbformat_minor": 2
}
