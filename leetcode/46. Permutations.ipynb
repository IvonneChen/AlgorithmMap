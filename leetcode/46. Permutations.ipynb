{
 "cells": [
  {
   "cell_type": "markdown",
   "metadata": {},
   "source": [
    "# 问题：46. Permutations 全排列\n",
    "# Problem: [46. Permutations](https://leetcode.com/problems/permutations/description/)\n",
    "\n",
    "## 描述 Description\n",
    "> ### Given a collection of distinct integers, return all possible permutations."
   ]
  },
  {
   "cell_type": "markdown",
   "metadata": {},
   "source": [
    "## 例子 Example"
   ]
  },
  {
   "cell_type": "markdown",
   "metadata": {},
   "source": [
    "> ![example](https://github.com/Decalogue/AlgorithmMap/blob/master/img/leetcode/46.png \"example\")"
   ]
  },
  {
   "cell_type": "markdown",
   "metadata": {},
   "source": [
    "## 分析 Analysis"
   ]
  },
  {
   "cell_type": "markdown",
   "metadata": {},
   "source": [
    "核心思想：\n",
    "> 思路1：递归\n",
    ">> 时间复杂度：O(n^2)\n",
    ">> 空间复杂度：O(n)\n",
    "\n",
    "> 思路2：\n",
    ">> 时间复杂度：O(n)\n",
    ">> 空间复杂度：O(n)"
   ]
  },
  {
   "cell_type": "markdown",
   "metadata": {},
   "source": [
    "## 定义 Definition"
   ]
  },
  {
   "cell_type": "markdown",
   "metadata": {},
   "source": [
    "### Python"
   ]
  },
  {
   "cell_type": "code",
   "execution_count": null,
   "metadata": {
    "collapsed": true
   },
   "outputs": [],
   "source": [
    "class Solution:\n",
    "    def permute(self, nums):\n",
    "        \"\"\"\n",
    "        :type nums: List[int]\n",
    "        :rtype: List[List[int]]\n",
    "        \"\"\""
   ]
  },
  {
   "cell_type": "markdown",
   "metadata": {},
   "source": [
    "### C++"
   ]
  },
  {
   "cell_type": "markdown",
   "metadata": {},
   "source": [
    "```c++\n",
    "class Solution {\n",
    "public:\n",
    "    vector<vector<int>> permute(vector<int>& nums) {\n",
    "        \n",
    "    }\n",
    "};\n",
    "```"
   ]
  },
  {
   "cell_type": "markdown",
   "metadata": {},
   "source": [
    "### Java"
   ]
  },
  {
   "cell_type": "markdown",
   "metadata": {},
   "source": [
    "```java\n",
    "class Solution {\n",
    "    public List<List<Integer>> permute(int[] nums) {\n",
    "        \n",
    "    }\n",
    "}\n",
    "```"
   ]
  },
  {
   "cell_type": "markdown",
   "metadata": {},
   "source": [
    "## 解决方案 Solution"
   ]
  },
  {
   "cell_type": "markdown",
   "metadata": {},
   "source": [
    "### 1.递归\n",
    "\n",
    "> 时间复杂度：O(n^2)\n",
    "> 空间复杂度：O(n)"
   ]
  },
  {
   "cell_type": "markdown",
   "metadata": {},
   "source": [
    "### Python"
   ]
  },
  {
   "cell_type": "code",
   "execution_count": 10,
   "metadata": {
    "collapsed": true
   },
   "outputs": [],
   "source": [
    "class Solution(object):\n",
    "    def permute(self, nums):\n",
    "        \"\"\"\n",
    "        :type nums: List[int]\n",
    "        :rtype: List[List[int]]\n",
    "        \"\"\"\n",
    "        if len(nums) <= 1: \n",
    "            return [nums]\n",
    "        res = []\n",
    "        used = {}\n",
    "        for i, num in enumerate(nums):\n",
    "            if num in used:\n",
    "                continue\n",
    "            used[num] = i\n",
    "            n = nums[:i] + nums[i+1:] # n是剩余数的list \n",
    "            for y in self.permute(n): # 直到函数有return，一个数的时候[nums]，所以y是list\n",
    "                res.append([num] + y)\n",
    "        return res"
   ]
  },
  {
   "cell_type": "code",
   "execution_count": 11,
   "metadata": {
    "collapsed": true
   },
   "outputs": [],
   "source": [
    "def test(nums=[]):\n",
    "    s = Solution()\n",
    "    print(s.permute(nums), '\\n')"
   ]
  },
  {
   "cell_type": "code",
   "execution_count": 12,
   "metadata": {},
   "outputs": [
    {
     "name": "stdout",
     "output_type": "stream",
     "text": [
      "[[2, 3, 3], [3, 2, 3], [3, 3, 2]] \n",
      "\n",
      "[[2, 7, 3], [2, 3, 7], [7, 2, 3], [7, 3, 2], [3, 2, 7], [3, 7, 2]] \n",
      "\n",
      "[[2, 7, 3, 5], [2, 7, 5, 3], [2, 3, 7, 5], [2, 3, 5, 7], [2, 5, 7, 3], [2, 5, 3, 7], [7, 2, 3, 5], [7, 2, 5, 3], [7, 3, 2, 5], [7, 3, 5, 2], [7, 5, 2, 3], [7, 5, 3, 2], [3, 2, 7, 5], [3, 2, 5, 7], [3, 7, 2, 5], [3, 7, 5, 2], [3, 5, 2, 7], [3, 5, 7, 2], [5, 2, 7, 3], [5, 2, 3, 7], [5, 7, 2, 3], [5, 7, 3, 2], [5, 3, 2, 7], [5, 3, 7, 2]] \n",
      "\n",
      "[[2, 7, 2, 5], [2, 7, 5, 2], [2, 2, 7, 5], [2, 2, 5, 7], [2, 5, 7, 2], [2, 5, 2, 7], [7, 2, 2, 5], [7, 2, 5, 2], [7, 5, 2, 2], [5, 2, 7, 2], [5, 2, 2, 7], [5, 7, 2, 2]] \n",
      "\n"
     ]
    }
   ],
   "source": [
    "test(nums=[2, 3, 3])\n",
    "test(nums=[2, 7, 3])\n",
    "test(nums=[2, 7, 3, 5])\n",
    "test(nums=[2, 7, 2, 5])"
   ]
  },
  {
   "cell_type": "markdown",
   "metadata": {},
   "source": [
    "### C++"
   ]
  },
  {
   "cell_type": "markdown",
   "metadata": {},
   "source": [
    "```c++\n",
    "\n",
    "```"
   ]
  },
  {
   "cell_type": "markdown",
   "metadata": {},
   "source": [
    "### Java"
   ]
  },
  {
   "cell_type": "markdown",
   "metadata": {},
   "source": [
    "```java\n",
    "\n",
    "```"
   ]
  },
  {
   "cell_type": "markdown",
   "metadata": {},
   "source": [
    "### 2.\n",
    "\n",
    "> 时间复杂度：O()\n",
    "> 空间复杂度：O()"
   ]
  },
  {
   "cell_type": "markdown",
   "metadata": {},
   "source": [
    "### Python"
   ]
  },
  {
   "cell_type": "code",
   "execution_count": null,
   "metadata": {
    "collapsed": true
   },
   "outputs": [],
   "source": []
  },
  {
   "cell_type": "markdown",
   "metadata": {},
   "source": [
    "### C++"
   ]
  },
  {
   "cell_type": "markdown",
   "metadata": {},
   "source": [
    "```c++\n",
    "\n",
    "```"
   ]
  },
  {
   "cell_type": "markdown",
   "metadata": {},
   "source": [
    "### Java"
   ]
  },
  {
   "cell_type": "markdown",
   "metadata": {},
   "source": [
    "```Java\n",
    "\n",
    "```"
   ]
  },
  {
   "cell_type": "markdown",
   "metadata": {},
   "source": [
    "## 总结"
   ]
  },
  {
   "cell_type": "markdown",
   "metadata": {
    "collapsed": true
   },
   "source": [
    "### 1.看到这个问题，我最初是怎么思考的？我是怎么做的？遇到了哪些问题？\n",
    "> \n",
    "\n",
    "### 2.别人是怎么思考的？别人是怎么做的？\n",
    "> \n",
    "\n",
    "### 3.与他的做法相比，我有哪些可以提升的地方？\n",
    "> "
   ]
  },
  {
   "cell_type": "code",
   "execution_count": null,
   "metadata": {
    "collapsed": true
   },
   "outputs": [],
   "source": []
  }
 ],
 "metadata": {
  "kernelspec": {
   "display_name": "Python 3",
   "language": "python",
   "name": "python3"
  },
  "language_info": {
   "codemirror_mode": {
    "name": "ipython",
    "version": 3
   },
   "file_extension": ".py",
   "mimetype": "text/x-python",
   "name": "python",
   "nbconvert_exporter": "python",
   "pygments_lexer": "ipython3",
   "version": "3.6.1"
  }
 },
 "nbformat": 4,
 "nbformat_minor": 2
}
