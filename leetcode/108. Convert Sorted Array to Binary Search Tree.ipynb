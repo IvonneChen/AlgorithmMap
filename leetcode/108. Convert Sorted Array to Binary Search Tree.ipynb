{
 "cells": [
  {
   "cell_type": "markdown",
   "metadata": {},
   "source": [
    "# 问题：108. 有序数组转换为平衡二叉树\n",
    "# Problem: [108. Convert Sorted Array to Binary Search Tree](https://leetcode.com/problems/convert-sorted-array-to-binary-search-tree/description/)\n",
    "\n",
    "## 描述 Description\n",
    "> ### Given an array where elements are sorted in ascending order, convert it to a height balanced BST.\n",
    "\n",
    "> ### For this problem, a height-balanced binary tree is defined as a binary tree in which the depth of the two subtrees of every node never differ by more than 1."
   ]
  },
  {
   "cell_type": "markdown",
   "metadata": {},
   "source": [
    "## 例子 Example"
   ]
  },
  {
   "cell_type": "markdown",
   "metadata": {},
   "source": [
    "> ![example](https://github.com/Decalogue/AlgorithmMap/blob/master/img/leetcode/108.png \"example\")"
   ]
  },
  {
   "cell_type": "markdown",
   "metadata": {},
   "source": [
    "## 分析 Analysis"
   ]
  },
  {
   "cell_type": "markdown",
   "metadata": {},
   "source": [
    "核心思想：\n",
    "> 思路：中序遍历\n",
    ">> 时间复杂度：O(n)\n",
    ">> 空间复杂度：O(n)"
   ]
  },
  {
   "cell_type": "markdown",
   "metadata": {},
   "source": [
    "## 定义 Definition"
   ]
  },
  {
   "cell_type": "markdown",
   "metadata": {},
   "source": [
    "### Python"
   ]
  },
  {
   "cell_type": "code",
   "execution_count": null,
   "metadata": {
    "collapsed": true
   },
   "outputs": [],
   "source": [
    "# Definition for a binary tree node.\n",
    "# class TreeNode(object):\n",
    "#     def __init__(self, x):\n",
    "#         self.val = x\n",
    "#         self.left = None\n",
    "#         self.right = None"
   ]
  },
  {
   "cell_type": "markdown",
   "metadata": {},
   "source": [
    "### C++"
   ]
  },
  {
   "cell_type": "markdown",
   "metadata": {},
   "source": [
    "```c++\n",
    "/**\n",
    " * Definition for a binary tree node.\n",
    " * struct TreeNode {\n",
    " *     int val;\n",
    " *     TreeNode *left;\n",
    " *     TreeNode *right;\n",
    " *     TreeNode(int x) : val(x), left(NULL), right(NULL) {}\n",
    " * };\n",
    " */\n",
    "```"
   ]
  },
  {
   "cell_type": "markdown",
   "metadata": {},
   "source": [
    "### Java"
   ]
  },
  {
   "cell_type": "markdown",
   "metadata": {},
   "source": [
    "```java\n",
    "/**\n",
    " * Definition for a binary tree node.\n",
    " * public class TreeNode {\n",
    " *     int val;\n",
    " *     TreeNode left;\n",
    " *     TreeNode right;\n",
    " *     TreeNode(int x) { val = x; }\n",
    " * }\n",
    " */\n",
    "```"
   ]
  },
  {
   "cell_type": "markdown",
   "metadata": {},
   "source": [
    "## 解决方案 Solution"
   ]
  },
  {
   "cell_type": "markdown",
   "metadata": {},
   "source": [
    "### 1.中序遍历（数组切分）\n",
    "\n",
    "> 时间复杂度：O(n)\n",
    "> 空间复杂度：O(n)"
   ]
  },
  {
   "cell_type": "markdown",
   "metadata": {},
   "source": [
    "### Python"
   ]
  },
  {
   "cell_type": "code",
   "execution_count": 1,
   "metadata": {
    "collapsed": true
   },
   "outputs": [],
   "source": [
    "class Solution(object):\n",
    "    def sortedArrayToBST(self, nums):\n",
    "        \"\"\"\n",
    "        :type nums: List[int]\n",
    "        :rtype: TreeNode\n",
    "        \"\"\"\n",
    "        if len(nums) == 0:\n",
    "            return None\n",
    "        elif len(nums) == 1:\n",
    "            return TreeNode(nums[0])\n",
    "        \n",
    "        mid = len(nums) / 2\n",
    "        root = TreeNode(nums[mid])\n",
    "        root.left = self.sortedArrayToBST(nums[:mid])\n",
    "        root.right = self.sortedArrayToBST(nums[mid+1:])\n",
    "        \n",
    "        return root"
   ]
  },
  {
   "cell_type": "markdown",
   "metadata": {},
   "source": [
    "### C++"
   ]
  },
  {
   "cell_type": "markdown",
   "metadata": {},
   "source": [
    "```c++\n",
    "class Solution {\n",
    "public:\n",
    "    TreeNode *sortedArrayToBST(vector<int>& nums) {\n",
    "        if(nums.size() == 0) return NULL;\n",
    "        if(nums.size() == 1) return new TreeNode(nums[0]);\n",
    "        \n",
    "        int m = nums.size()/2;\n",
    "        TreeNode* root = new TreeNode(nums[m]);\n",
    "        vector<int> left(nums.begin(), nums.begin()+m);\n",
    "        vector<int> right(nums.begin()+m+1, nums.end());\n",
    "        root->left = sortedArrayToBST(left);\n",
    "        root->right = sortedArrayToBST(right);\n",
    "        \n",
    "        return root;\n",
    "    }\n",
    "};\n",
    "```"
   ]
  },
  {
   "cell_type": "markdown",
   "metadata": {},
   "source": [
    "### Java"
   ]
  },
  {
   "cell_type": "markdown",
   "metadata": {},
   "source": [
    "```java\n",
    "class Solution {\n",
    "    public TreeNode sortedArrayToBST(int[] nums) { \n",
    "        if(nums == null || nums.length == 0)  \n",
    "            return null;\n",
    "        if(nums.length == 1) new TreeNode(nums[0]);  \n",
    "        int m = nums.length / 2;  \n",
    "        \n",
    "        TreeNode root = new TreeNode(nums[m]);\n",
    "        int[] nleft = new int[m];\n",
    "        System.arraycopy(nums, 0, nleft, 0, m);\n",
    "        /**\n",
    "        for(int i=0; i<m; i++) nleft[i] = nums[i];\n",
    "        */\n",
    "        int[] nright = new int[nums.length-m-1];\n",
    "        System.arraycopy(nums, m+1, nright, 0, nums.length-m-1);\n",
    "        /**\n",
    "        for(int j=0; j<nums.length-m-1; j++) nright[j] = nums[j+m+1];\n",
    "        */\n",
    "        root.left = sortedArrayToBST(nleft);\n",
    "        root.right = sortedArrayToBST(nright);\n",
    "        \n",
    "        return root;  \n",
    "    }  \n",
    "}\n",
    "```"
   ]
  },
  {
   "cell_type": "markdown",
   "metadata": {},
   "source": [
    "### 2.中序遍历（左右索引）\n",
    "\n",
    "> 时间复杂度：O(n)\n",
    "> 空间复杂度：O(n)"
   ]
  },
  {
   "cell_type": "markdown",
   "metadata": {},
   "source": [
    "### Python"
   ]
  },
  {
   "cell_type": "code",
   "execution_count": 2,
   "metadata": {
    "collapsed": true
   },
   "outputs": [],
   "source": [
    "class Solution(object):\n",
    "    def sortedArrayToBST(self, nums):\n",
    "        \"\"\"\n",
    "        :type nums: List[int]\n",
    "        :rtype: TreeNode\n",
    "        \"\"\"\n",
    "        if len(nums) == 0:\n",
    "            return None\n",
    "        return self.helper(nums, 0, len(nums)-1);\n",
    "    \n",
    "    def helper(self, nums, l, r):\n",
    "        if l > r:\n",
    "            return None\n",
    "        m = (l + r) / 2\n",
    "        root = TreeNode(nums[m])\n",
    "        root.left = self.helper(nums, l, m-1)\n",
    "        root.right = self.helper(nums, m+1, r)        \n",
    "        return root"
   ]
  },
  {
   "cell_type": "markdown",
   "metadata": {},
   "source": [
    "### C++"
   ]
  },
  {
   "cell_type": "markdown",
   "metadata": {},
   "source": [
    "```c++\n",
    "class Solution {\n",
    "public:\n",
    "    TreeNode* sortedArrayToBST(vector<int>& nums) {\n",
    "        return helper(nums, 0, nums.size()-1);\n",
    "    }\n",
    "    \n",
    "    TreeNode* helper(vector<int>& nums, int l, int r){ \n",
    "        if (l > r) return NULL;\n",
    "        \n",
    "        int m = (l + r) / 2;\n",
    "        TreeNode* root = new TreeNode(nums[m]);        \n",
    "        root->left = helper(nums, l, m-1);\n",
    "        root->right = helper(nums, m+1, r);\n",
    "        \n",
    "        return root;\n",
    "    }\n",
    "};\n",
    "```"
   ]
  },
  {
   "cell_type": "markdown",
   "metadata": {},
   "source": [
    "### Java"
   ]
  },
  {
   "cell_type": "markdown",
   "metadata": {},
   "source": [
    "```java\n",
    "class Solution {\n",
    "    public TreeNode sortedArrayToBST(int[] nums) { \n",
    "        if(nums == null || nums.length == 0)  \n",
    "            return null;  \n",
    "        return helper(nums, 0, nums.length-1);  \n",
    "    }\n",
    "    \n",
    "    private TreeNode helper(int[] nums, int l, int r)  \n",
    "    {  \n",
    "        if(l > r)  \n",
    "            return null;\n",
    "\n",
    "        int m = (l + r ) / 2;  \n",
    "        TreeNode root = new TreeNode(nums[m]);  \n",
    "        root.left = helper(nums, l, m-1);  \n",
    "        root.right = helper(nums, m+1, r);\n",
    "        \n",
    "        return root;  \n",
    "    }  \n",
    "}\n",
    "```"
   ]
  },
  {
   "cell_type": "markdown",
   "metadata": {},
   "source": [
    "## 总结"
   ]
  },
  {
   "cell_type": "markdown",
   "metadata": {
    "collapsed": true
   },
   "source": [
    "### 1.看到这个问题，我最初是怎么思考的？我是怎么做的？遇到了哪些问题？\n",
    "> 思考：二叉搜索树的中序遍历结果和有序数组一致，可以找到数组中间节点将其作为根节点，并分别递归根节点左右两边的数组产生左右子树。\n",
    "> 实现1（数组分片）\n",
    ">> Python：根据 len(nums)/2 找到中间节点，每次递归对数组分片产生左右两边的数组\n",
    "\n",
    ">> C++：根据 nums.size()/2 找到中间节点，每次递归用新的 vector 产生左右两边的数组\n",
    "\n",
    ">> Java：根据 nums.length/2 找到中间节点，每次递归用 System.arraycopy 产生左右两边的数组\n",
    "\n",
    "> 遇到的问题\n",
    ">> C++：对“vector(begin,end): 复制目标数组[begin,end)区间内的元素到 vector 中”不是很熟悉\n",
    "\n",
    ">> Java：System.arraycopy 的使用以及数组下标索引\n",
    "\n",
    "### 2.别人是怎么思考的？别人是怎么做的？遇到了哪些问题？\n",
    "> 例1：（逆向思考）这道题是要将有序数组转为二叉搜索树，所谓二叉搜索树，是一种始终满足左<根<右的特性，如果将二叉搜索树按中序遍历的话，得到的就是一个有序数组了。那么反过来，我们可以得知，根节点应该是有序数组的中间点，从中间点分开为左右两个有序数组，在分别找出其中间点作为原中间点的左右两个子节点，这不就是是二分查找法的核心思想么。所以这道题考的就是二分查找法，\n",
    "\n",
    "> 例2：（直接转换）这道题是二分查找树的题目，要把一个有序数组转换成一颗二分查找树。其实从本质来看，如果把一个数组看成一棵树（也就是以中点为根，左右为左右子树，依次下去）数组就等价于一个二分查找树。所以如果要构造这棵树，那就是把中间元素转化为根，然后递归构造左右子树。所以我们还是用二叉树递归的方法来实现，以根作为返回值，每层递归函数取中间元素，作为当前根和赋上结点值，然后左右结点接上左右区间的递归函数返回值。时间复杂度还是一次树遍历O(n)，总的空间复杂度是栈空间O(logn)加上结果的空间O(n)，额外空间是O(logn)，总体是O(n)。\n",
    "\n",
    "> 个人想法和例1一致。\n",
    "> 别人做法：1.数组分片（我采用）2.左右索引\n",
    "\n",
    "### 3.与他的做法相比，我有哪些可以提升的地方？\n",
    "> 我的做法“数组分片”相对于“左右索引”额外空间较大，而且增加了提取分片的时间。所以再给出实现2（左右索引）来对比练习。\n",
    "> 实现2（左右索引）根据左右索引 (l+r)/2 找到中间节点，每次递归更新左右索引\n",
    "\n",
    "### 4.整合升级，分享\n",
    "> 和大家分享以上思考和做法，类似问题：[109. Convert Sorted List to Binary Search Tree](https://github.com/Decalogue/AlgorithmMap/blob/master/leetcode/109.md)\n",
    "\n",
    "\n",
    "### 5.迭代第1步到第4步\n",
    "> "
   ]
  },
  {
   "cell_type": "code",
   "execution_count": null,
   "metadata": {
    "collapsed": true
   },
   "outputs": [],
   "source": []
  }
 ],
 "metadata": {
  "kernelspec": {
   "display_name": "Python 3",
   "language": "python",
   "name": "python3"
  },
  "language_info": {
   "codemirror_mode": {
    "name": "ipython",
    "version": 3
   },
   "file_extension": ".py",
   "mimetype": "text/x-python",
   "name": "python",
   "nbconvert_exporter": "python",
   "pygments_lexer": "ipython3",
   "version": "3.6.1"
  }
 },
 "nbformat": 4,
 "nbformat_minor": 2
}
