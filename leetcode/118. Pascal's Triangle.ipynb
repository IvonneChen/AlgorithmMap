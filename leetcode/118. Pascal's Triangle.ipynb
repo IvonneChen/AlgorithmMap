{
 "cells": [
  {
   "cell_type": "markdown",
   "metadata": {},
   "source": [
    "# 问题：118. Pascal's Triangle\n",
    "# Problem: [118. Pascal's Triangle](https://leetcode.com/problems/pascals-triangle/description/)\n",
    "\n",
    "## 描述 Description\n",
    "> ### Given a non-negative integer numRows, generate the first numRows of Pascal's triangle."
   ]
  },
  {
   "cell_type": "markdown",
   "metadata": {},
   "source": [
    "## 例子 Example"
   ]
  },
  {
   "cell_type": "markdown",
   "metadata": {},
   "source": [
    "> ![example_gif](https://github.com/Decalogue/AlgorithmMap/blob/master/img/leetcode/118.gif \"example\")\n",
    "> ![example](https://github.com/Decalogue/AlgorithmMap/blob/master/img/leetcode/118.png \"example\")"
   ]
  },
  {
   "cell_type": "markdown",
   "metadata": {},
   "source": [
    "## 分析 Analysis"
   ]
  },
  {
   "cell_type": "markdown",
   "metadata": {},
   "source": [
    "核心思想：\n",
    "> 思路1：自下而上构建\n",
    ">> 时间复杂度：O(n)\n",
    ">> 空间复杂度：O(n)\n",
    "\n",
    "> 思路2：map 映射\n",
    ">> 时间复杂度：O(n)\n",
    ">> 空间复杂度：O(n)"
   ]
  },
  {
   "cell_type": "markdown",
   "metadata": {},
   "source": [
    "## 定义 Definition"
   ]
  },
  {
   "cell_type": "markdown",
   "metadata": {},
   "source": [
    "### Python"
   ]
  },
  {
   "cell_type": "code",
   "execution_count": 1,
   "metadata": {
    "collapsed": true
   },
   "outputs": [],
   "source": [
    "class Solution:\n",
    "    def generate(self, numRows):\n",
    "        \"\"\"\n",
    "        :type numRows: int\n",
    "        :rtype: List[List[int]]\n",
    "        \"\"\""
   ]
  },
  {
   "cell_type": "markdown",
   "metadata": {},
   "source": [
    "### C++"
   ]
  },
  {
   "cell_type": "markdown",
   "metadata": {},
   "source": [
    "```c++\n",
    "class Solution {\n",
    "public:\n",
    "    vector<vector<int>> generate(int numRows) {\n",
    "        \n",
    "    }\n",
    "};\n",
    "```"
   ]
  },
  {
   "cell_type": "markdown",
   "metadata": {},
   "source": [
    "### Java"
   ]
  },
  {
   "cell_type": "markdown",
   "metadata": {},
   "source": [
    "```java\n",
    "class Solution {\n",
    "    public List<List<Integer>> generate(int numRows) {\n",
    "        \n",
    "    }\n",
    "}\n",
    "```"
   ]
  },
  {
   "cell_type": "markdown",
   "metadata": {},
   "source": [
    "## 解决方案 Solution"
   ]
  },
  {
   "cell_type": "markdown",
   "metadata": {},
   "source": [
    "### 1.自下而上构建\n",
    "\n",
    "> 时间复杂度：O(n)\n",
    "> 空间复杂度：O(n)"
   ]
  },
  {
   "cell_type": "markdown",
   "metadata": {},
   "source": [
    "### Python"
   ]
  },
  {
   "cell_type": "code",
   "execution_count": null,
   "metadata": {
    "collapsed": true
   },
   "outputs": [],
   "source": [
    "class Solution:\n",
    "    def generate(self, numRows):\n",
    "        \"\"\"\n",
    "        :type numRows: int\n",
    "        :rtype: List[List[int]]\n",
    "        \"\"\"\n",
    "        res = []\n",
    "        for i in range(numRows):\n",
    "            res.append([1])\n",
    "            for j in range(len(res[i-1])-1):\n",
    "                res[i].append(res[i-1][j] + res[i-1][j+1])\n",
    "            if i != 0:\n",
    "                res[i].append(1)\n",
    "        return res"
   ]
  },
  {
   "cell_type": "markdown",
   "metadata": {},
   "source": [
    "### C++"
   ]
  },
  {
   "cell_type": "markdown",
   "metadata": {},
   "source": [
    "```c++\n",
    "\n",
    "```"
   ]
  },
  {
   "cell_type": "markdown",
   "metadata": {},
   "source": [
    "### Java"
   ]
  },
  {
   "cell_type": "markdown",
   "metadata": {},
   "source": [
    "```java\n",
    "\n",
    "```"
   ]
  },
  {
   "cell_type": "markdown",
   "metadata": {},
   "source": [
    "### 2.map 映射\n",
    "\n",
    "> 时间复杂度：O(n)\n",
    "> 空间复杂度：O(n)"
   ]
  },
  {
   "cell_type": "markdown",
   "metadata": {},
   "source": [
    "### Python"
   ]
  },
  {
   "cell_type": "code",
   "execution_count": null,
   "metadata": {
    "collapsed": true
   },
   "outputs": [],
   "source": [
    "class Solution:\n",
    "    def generate(self, numRows):\n",
    "        \"\"\"\n",
    "        :type numRows: int\n",
    "        :rtype: List[List[int]]\n",
    "        \"\"\"\n",
    "        res = [[1]]\n",
    "        for i in range(1,numRows):\n",
    "            res.append(list(map(lambda x, y : x + y, res[-1]+[0], [0]+res[-1])))\n",
    "        return res[:numRows]"
   ]
  },
  {
   "cell_type": "markdown",
   "metadata": {},
   "source": [
    "### C++"
   ]
  },
  {
   "cell_type": "markdown",
   "metadata": {},
   "source": [
    "```c++\n",
    "\n",
    "```"
   ]
  },
  {
   "cell_type": "markdown",
   "metadata": {},
   "source": [
    "### Java"
   ]
  },
  {
   "cell_type": "markdown",
   "metadata": {},
   "source": [
    "```Java\n",
    "\n",
    "```"
   ]
  },
  {
   "cell_type": "markdown",
   "metadata": {},
   "source": [
    "## 总结"
   ]
  },
  {
   "cell_type": "markdown",
   "metadata": {
    "collapsed": true
   },
   "source": [
    "### 1.看到这个问题，我最初是怎么思考的？我是怎么做的？遇到了哪些问题？\n",
    "> 思考：每一步都是基于前一步的结果\n",
    "\n",
    "> 方法：自下而上构建\n",
    "\n",
    "> 问题：下标处理\n",
    "\n",
    "### 2.别人是怎么思考的？别人是怎么做的？\n",
    "> map 映射\n",
    "\n",
    "### 3.与他的做法相比，我有哪些可以提升的地方？\n",
    "> map 映射更简洁"
   ]
  },
  {
   "cell_type": "code",
   "execution_count": null,
   "metadata": {
    "collapsed": true
   },
   "outputs": [],
   "source": []
  }
 ],
 "metadata": {
  "kernelspec": {
   "display_name": "Python 3",
   "language": "python",
   "name": "python3"
  },
  "language_info": {
   "codemirror_mode": {
    "name": "ipython",
    "version": 3
   },
   "file_extension": ".py",
   "mimetype": "text/x-python",
   "name": "python",
   "nbconvert_exporter": "python",
   "pygments_lexer": "ipython3",
   "version": "3.6.1"
  }
 },
 "nbformat": 4,
 "nbformat_minor": 2
}
