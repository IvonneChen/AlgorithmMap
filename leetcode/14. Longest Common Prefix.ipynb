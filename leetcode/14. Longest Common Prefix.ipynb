{
 "cells": [
  {
   "cell_type": "markdown",
   "metadata": {},
   "source": [
    "# 问题：14. Longest Common Prefix 最长公共前缀\n",
    "# Problem: [14. Longest Common Prefix](https://leetcode.com/problems/longest-common-prefix/description/)\n",
    "\n",
    "## 描述 Description\n",
    "> ### Write a function to find the longest common prefix string amongst an array of strings.\n",
    "\n",
    "> ### If there is no common prefix, return an empty string \"\".\n",
    "\n",
    "> ### Note: All given inputs are in lowercase letters a-z."
   ]
  },
  {
   "cell_type": "markdown",
   "metadata": {},
   "source": [
    "## 例子 Example"
   ]
  },
  {
   "cell_type": "markdown",
   "metadata": {},
   "source": [
    "> ![example](https://github.com/Decalogue/AlgorithmMap/blob/master/img/leetcode/14.png \"example\")"
   ]
  },
  {
   "cell_type": "markdown",
   "metadata": {},
   "source": [
    "## 分析 Analysis"
   ]
  },
  {
   "cell_type": "markdown",
   "metadata": {},
   "source": [
    "核心思想：\n",
    "> 思路1：横向遍历\n",
    ">> 时间复杂度：O(n)\n",
    ">> 空间复杂度：O(1)\n",
    "\n",
    "> 思路2：纵向遍历\n",
    ">> 时间复杂度：O(n)\n",
    ">> 空间复杂度：O(1)\n",
    "\n",
    "> 思路3：分治法\n",
    ">> 时间复杂度：O(n)\n",
    ">> 空间复杂度：O(1)\n",
    "\n",
    "> 思路4：二分法\n",
    ">> 时间复杂度：O(n)\n",
    ">> 空间复杂度：O(1)"
   ]
  },
  {
   "cell_type": "markdown",
   "metadata": {},
   "source": [
    "## 定义 Definition"
   ]
  },
  {
   "cell_type": "markdown",
   "metadata": {},
   "source": [
    "### Python"
   ]
  },
  {
   "cell_type": "code",
   "execution_count": 1,
   "metadata": {
    "collapsed": true
   },
   "outputs": [],
   "source": [
    "class Solution:\n",
    "    def longestCommonPrefix(self, strs):\n",
    "        \"\"\"\n",
    "        :type strs: List[str]\n",
    "        :rtype: str\n",
    "        \"\"\""
   ]
  },
  {
   "cell_type": "markdown",
   "metadata": {},
   "source": [
    "### C++"
   ]
  },
  {
   "cell_type": "markdown",
   "metadata": {},
   "source": [
    "```c++\n",
    "class Solution {\n",
    "public:\n",
    "    string longestCommonPrefix(vector<string>& strs) {\n",
    "        \n",
    "    }\n",
    "};\n",
    "```"
   ]
  },
  {
   "cell_type": "markdown",
   "metadata": {},
   "source": [
    "### Java"
   ]
  },
  {
   "cell_type": "markdown",
   "metadata": {},
   "source": [
    "```java\n",
    "class Solution {\n",
    "    public String longestCommonPrefix(String[] strs) {\n",
    "        \n",
    "    }\n",
    "}\n",
    "```"
   ]
  },
  {
   "cell_type": "markdown",
   "metadata": {},
   "source": [
    "## 解决方案 Solution"
   ]
  },
  {
   "cell_type": "markdown",
   "metadata": {},
   "source": [
    "[转载 others](https://www.jianshu.com/p/63dcc0d7db75)"
   ]
  },
  {
   "cell_type": "markdown",
   "metadata": {},
   "source": [
    "### 1.横向遍历\n",
    "以第一个string为标准，依次判断是否是前缀，如果不是就减一，直到为前缀。\n",
    "\n",
    "> 时间复杂度：O(n)\n",
    "> 空间复杂度：O(1)"
   ]
  },
  {
   "cell_type": "markdown",
   "metadata": {},
   "source": [
    "### Python"
   ]
  },
  {
   "cell_type": "code",
   "execution_count": 3,
   "metadata": {},
   "outputs": [],
   "source": [
    "class Solution:\n",
    "    def longestCommonPrefix(self, strs):\n",
    "        \"\"\"\n",
    "        :type strs: List[str]\n",
    "        :rtype: str\n",
    "        \"\"\"\n",
    "        if len(strs) == 0:\n",
    "            return \"\"\n",
    "        elif len(strs) == 1:\n",
    "            return strs[0]\n",
    "        p = strs[0]\n",
    "        for i in range(1, len(strs)):\n",
    "            while not strs[i].startswith(p):\n",
    "                p = p[:-1]\n",
    "        return p"
   ]
  },
  {
   "cell_type": "markdown",
   "metadata": {},
   "source": [
    "### C++"
   ]
  },
  {
   "cell_type": "markdown",
   "metadata": {},
   "source": [
    "```c++\n",
    "\n",
    "```"
   ]
  },
  {
   "cell_type": "markdown",
   "metadata": {},
   "source": [
    "### Java"
   ]
  },
  {
   "cell_type": "markdown",
   "metadata": {},
   "source": [
    "```java\n",
    "class Solution {\n",
    "    public String longestCommonPrefix(String[] strs) {\n",
    "        if (strs.length == 0) return \"\";\n",
    "        String prefix = strs[0];\n",
    "        for (int i = 1; i < strs.length; i++)\n",
    "            while (strs[i].indexOf(prefix) != 0) {\n",
    "                prefix = prefix.substring(0, prefix.length() - 1);\n",
    "                if (prefix.isEmpty()) return \"\";\n",
    "            }        \n",
    "        return prefix;\n",
    "    }\n",
    "}\n",
    "```"
   ]
  },
  {
   "cell_type": "markdown",
   "metadata": {},
   "source": [
    "### 2.纵向遍历\n",
    "从第一个字符开始遍历，知道找到所有字符串出现不一样的字符为止\n",
    "\n",
    "> 时间复杂度：O(n)\n",
    "> 空间复杂度：O(1)"
   ]
  },
  {
   "cell_type": "markdown",
   "metadata": {},
   "source": [
    "### Python"
   ]
  },
  {
   "cell_type": "code",
   "execution_count": null,
   "metadata": {
    "collapsed": true
   },
   "outputs": [],
   "source": []
  },
  {
   "cell_type": "markdown",
   "metadata": {},
   "source": [
    "### C++"
   ]
  },
  {
   "cell_type": "markdown",
   "metadata": {},
   "source": [
    "```c++\n",
    "\n",
    "```"
   ]
  },
  {
   "cell_type": "markdown",
   "metadata": {},
   "source": [
    "### Java"
   ]
  },
  {
   "cell_type": "markdown",
   "metadata": {},
   "source": [
    "```Java\n",
    "public String longestCommonPrefix(String[] strs) {\n",
    "    if (strs == null || strs.length == 0) return \"\";\n",
    "    for (int i = 0; i < strs[0].length() ; i++){\n",
    "        char c = strs[0].charAt(i);\n",
    "        for (int j = 1; j < strs.length; j ++) {\n",
    "            if (i == strs[j].length() || strs[j].charAt(i) != c)\n",
    "                return strs[0].substring(0, i);             \n",
    "        }\n",
    "    }\n",
    "    return strs[0];\n",
    "}\n",
    "```"
   ]
  },
  {
   "cell_type": "markdown",
   "metadata": {},
   "source": [
    "### 3.分治法\n",
    "\n",
    "> 时间复杂度：O(n)\n",
    "> 空间复杂度：O(1)"
   ]
  },
  {
   "cell_type": "markdown",
   "metadata": {},
   "source": [
    "### Python"
   ]
  },
  {
   "cell_type": "code",
   "execution_count": null,
   "metadata": {
    "collapsed": true
   },
   "outputs": [],
   "source": []
  },
  {
   "cell_type": "markdown",
   "metadata": {},
   "source": [
    "### C++"
   ]
  },
  {
   "cell_type": "markdown",
   "metadata": {},
   "source": [
    "```c++\n",
    "\n",
    "```"
   ]
  },
  {
   "cell_type": "markdown",
   "metadata": {},
   "source": [
    "### Java"
   ]
  },
  {
   "cell_type": "markdown",
   "metadata": {},
   "source": [
    "```Java\n",
    "public String longestCommonPrefix(String[] strs) {\n",
    "    if (strs == null || strs.length == 0) return \"\";    \n",
    "        return longestCommonPrefix(strs, 0 , strs.length - 1);\n",
    "}\n",
    "\n",
    "private String longestCommonPrefix(String[] strs, int l, int r) {\n",
    "    if (l == r) {\n",
    "        return strs[l];\n",
    "    }\n",
    "    else {\n",
    "        int mid = (l + r)/2;\n",
    "        String lcpLeft =   longestCommonPrefix(strs, l , mid);\n",
    "        String lcpRight =  longestCommonPrefix(strs, mid + 1,r);\n",
    "        return commonPrefix(lcpLeft, lcpRight);\n",
    "   }\n",
    "}\n",
    "\n",
    "String commonPrefix(String left,String right) {\n",
    "    int min = Math.min(left.length(), right.length());       \n",
    "    for (int i = 0; i < min; i++) {\n",
    "        if ( left.charAt(i) != right.charAt(i) )\n",
    "            return left.substring(0, i);\n",
    "    }\n",
    "    return left.substring(0, min);\n",
    "}\n",
    "```"
   ]
  },
  {
   "cell_type": "markdown",
   "metadata": {},
   "source": [
    "### 4.二分法\n",
    "\n",
    "> 时间复杂度：O(n)\n",
    "> 空间复杂度：O(1)"
   ]
  },
  {
   "cell_type": "markdown",
   "metadata": {},
   "source": [
    "### Python"
   ]
  },
  {
   "cell_type": "code",
   "execution_count": null,
   "metadata": {
    "collapsed": true
   },
   "outputs": [],
   "source": []
  },
  {
   "cell_type": "markdown",
   "metadata": {},
   "source": [
    "### C++"
   ]
  },
  {
   "cell_type": "markdown",
   "metadata": {},
   "source": [
    "```c++\n",
    "\n",
    "```"
   ]
  },
  {
   "cell_type": "markdown",
   "metadata": {},
   "source": [
    "### Java"
   ]
  },
  {
   "cell_type": "markdown",
   "metadata": {},
   "source": [
    "```java\n",
    "public String longestCommonPrefix(String[] strs) {\n",
    "    if (strs == null || strs.length == 0)\n",
    "        return \"\";\n",
    "    int minLen = Integer.MAX_VALUE;\n",
    "    for (String str : strs)\n",
    "        minLen = Math.min(minLen, str.length());\n",
    "    int low = 1;\n",
    "    int high = minLen;\n",
    "    while (low <= high) {\n",
    "        int middle = (low + high) / 2;\n",
    "        if (isCommonPrefix(strs, middle))\n",
    "            low = middle + 1;\n",
    "        else\n",
    "            high = middle - 1;\n",
    "    }\n",
    "    return strs[0].substring(0, (low + high) / 2);\n",
    "}\n",
    "\n",
    "private boolean isCommonPrefix(String[] strs, int len){\n",
    "    String str1 = strs[0].substring(0,len);\n",
    "    for (int i = 1; i < strs.length; i++)\n",
    "        if (!strs[i].startsWith(str1))\n",
    "            return false;\n",
    "    return true;\n",
    "}\n",
    "```"
   ]
  },
  {
   "cell_type": "markdown",
   "metadata": {},
   "source": [
    "## 总结"
   ]
  },
  {
   "cell_type": "markdown",
   "metadata": {
    "collapsed": true
   },
   "source": [
    "### 1.看到这个问题，我最初是怎么思考的？我是怎么做的？遇到了哪些问题？\n",
    "> 思考：横向遍历和纵向遍历\n",
    "\n",
    "> 方法：横向遍历\n",
    "\n",
    "> 问题：以第一个string为标准，依次判断是否是前缀，如果不是就减一，直到为前缀。（没有考虑到减一这个操作）\n",
    "\n",
    "### 2.别人是怎么思考的？别人是怎么做的？\n",
    "> 除了遍历还用到分治法和二分法\n",
    "\n",
    "### 3.与他的做法相比，我有哪些可以提升的地方？\n",
    "> 分析拆解问题并转化为常见数据结构算法的能力"
   ]
  },
  {
   "cell_type": "code",
   "execution_count": null,
   "metadata": {
    "collapsed": true
   },
   "outputs": [],
   "source": []
  }
 ],
 "metadata": {
  "kernelspec": {
   "display_name": "Python 3",
   "language": "python",
   "name": "python3"
  },
  "language_info": {
   "codemirror_mode": {
    "name": "ipython",
    "version": 3
   },
   "file_extension": ".py",
   "mimetype": "text/x-python",
   "name": "python",
   "nbconvert_exporter": "python",
   "pygments_lexer": "ipython3",
   "version": "3.6.1"
  }
 },
 "nbformat": 4,
 "nbformat_minor": 2
}
