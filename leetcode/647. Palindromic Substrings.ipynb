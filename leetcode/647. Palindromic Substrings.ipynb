{
 "cells": [
  {
   "cell_type": "markdown",
   "metadata": {},
   "source": [
    "# 问题：647. 回文子串\n",
    "# Problem: [647. Palindromic Substrings](https://leetcode.com/problems/palindromic-substrings/description/)\n",
    "\n",
    "## 描述 Description\n",
    "> ### Given a string, your task is to count how many palindromic substrings in this string.\n",
    "\n",
    "> ### The substrings with different start indexes or end indexes are counted as different substrings even they consist of same characters."
   ]
  },
  {
   "cell_type": "markdown",
   "metadata": {},
   "source": [
    "## 例子 Example"
   ]
  },
  {
   "cell_type": "markdown",
   "metadata": {},
   "source": [
    "> ![example](https://github.com/Decalogue/AlgorithmMap/blob/master/img/leetcode/647.png \"example\")"
   ]
  },
  {
   "cell_type": "markdown",
   "metadata": {},
   "source": [
    "## 分析 Analysis"
   ]
  },
  {
   "cell_type": "markdown",
   "metadata": {},
   "source": [
    "核心思想：\n",
    "> 思路1：直接循环求解\n",
    ">> 时间复杂度：O(n^2)\n",
    ">> 空间复杂度：O(1)\n",
    "\n",
    "> 思路2：中心枚举\n",
    ">> 时间复杂度：O(n^2)\n",
    ">> 空间复杂度：O(1)\n",
    "\n",
    "> 思路3：Manacher's Algorithm\n",
    ">> 时间复杂度：O(n)\n",
    ">> 空间复杂度：O(n)\n",
    "\n",
    "> 思路4：动态规划\n",
    ">> 时间复杂度：O(n^2)\n",
    ">> 空间复杂度：O(1)\n",
    "\n",
    "> 思路5：Discuss看到的一个解法\n",
    ">> 时间复杂度：O(n^2)\n",
    ">> 空间复杂度：O(1)"
   ]
  },
  {
   "cell_type": "markdown",
   "metadata": {},
   "source": [
    "## 定义 Definition"
   ]
  },
  {
   "cell_type": "markdown",
   "metadata": {},
   "source": [
    "### Python"
   ]
  },
  {
   "cell_type": "markdown",
   "metadata": {
    "collapsed": true
   },
   "source": [
    "```python\n",
    "class Solution:\n",
    "    def countSubstrings(self, s):\n",
    "```"
   ]
  },
  {
   "cell_type": "markdown",
   "metadata": {},
   "source": [
    "### C++"
   ]
  },
  {
   "cell_type": "markdown",
   "metadata": {},
   "source": [
    "```c++\n",
    "class Solution {\n",
    "public:\n",
    "    int countSubstrings(string s) {\n",
    "        \n",
    "    }\n",
    "};\n",
    "```"
   ]
  },
  {
   "cell_type": "markdown",
   "metadata": {},
   "source": [
    "### Java"
   ]
  },
  {
   "cell_type": "markdown",
   "metadata": {},
   "source": [
    "```java\n",
    "class Solution {\n",
    "    public int countSubstrings(String s) {\n",
    "        \n",
    "    }\n",
    "}\n",
    "```"
   ]
  },
  {
   "cell_type": "markdown",
   "metadata": {},
   "source": [
    "## 解决方案 Solution"
   ]
  },
  {
   "cell_type": "markdown",
   "metadata": {},
   "source": [
    "### 1.直接循环求解\n",
    "\n",
    "> 时间复杂度：O(n^2)\n",
    "> 空间复杂度：O(1)"
   ]
  },
  {
   "cell_type": "markdown",
   "metadata": {},
   "source": [
    "### Python"
   ]
  },
  {
   "cell_type": "code",
   "execution_count": null,
   "metadata": {
    "collapsed": true
   },
   "outputs": [],
   "source": []
  },
  {
   "cell_type": "markdown",
   "metadata": {},
   "source": [
    "### C++"
   ]
  },
  {
   "cell_type": "markdown",
   "metadata": {},
   "source": [
    "```c++\n",
    "\n",
    "```"
   ]
  },
  {
   "cell_type": "markdown",
   "metadata": {},
   "source": [
    "### Java"
   ]
  },
  {
   "cell_type": "markdown",
   "metadata": {},
   "source": [
    "```java\n",
    "\n",
    "```"
   ]
  },
  {
   "cell_type": "markdown",
   "metadata": {},
   "source": [
    "### 2.中心枚举\n",
    "\n",
    "> 时间复杂度：O(n^2)\n",
    "> 空间复杂度：O(1)\n",
    "\n",
    "通过枚举字符串子串的中心而不是起点，向两边同时扩散，依然是逐一判断子串的回文性。这种优化算法比之前第一种算法在最坏的情况下（即只有一种字符的字符串）效率会有很大程度的上升。"
   ]
  },
  {
   "cell_type": "markdown",
   "metadata": {},
   "source": [
    "### Python"
   ]
  },
  {
   "cell_type": "code",
   "execution_count": 5,
   "metadata": {
    "collapsed": true
   },
   "outputs": [],
   "source": [
    "# TODO 待修改为返回回文子串个数\n",
    "class Solution:\n",
    "    def longest_palindrome(self, s):\n",
    "        \"\"\"\n",
    "        :type s: str\n",
    "        :rtype: str\n",
    "        \"\"\"\n",
    "        l = len(s)\n",
    "        max_length = 0\n",
    "        palindromic = ''\n",
    "        radius = []\n",
    "        for i in range(l):\n",
    "            x = 1\n",
    "            while (i - x) >= 0 and (i + x) < l:\n",
    "                if s[i + x] == s[i - x]:\n",
    "                    x += 1\n",
    "                else:\n",
    "                    break\n",
    "            x -= 1\n",
    "            if 2 * x + 1 > max_length:\n",
    "                max_length = 2 * x + 1\n",
    "                palindromic = s[i - x:i + x + 1]\n",
    "            x = 0\n",
    "            if (i + 1) < l:\n",
    "                while (i - x) >= 0 and (i + 1 + x) < l:\n",
    "                    if s[i + 1 + x] == s[i - x]:\n",
    "                        x += 1\n",
    "                    else:\n",
    "                        break\n",
    "            x -= 1\n",
    "            if 2 * x + 2 > max_length:\n",
    "                max_length = 2 * x + 2\n",
    "                palindromic = s[i - x:i + x + 2]\n",
    "        if palindromic == '':\n",
    "            palindromic = s[0]\n",
    "        return palindromic"
   ]
  },
  {
   "cell_type": "markdown",
   "metadata": {},
   "source": [
    "### C++"
   ]
  },
  {
   "cell_type": "markdown",
   "metadata": {},
   "source": [
    "```c++\n",
    "\n",
    "```"
   ]
  },
  {
   "cell_type": "markdown",
   "metadata": {},
   "source": [
    "### Java"
   ]
  },
  {
   "cell_type": "markdown",
   "metadata": {},
   "source": [
    "```Java\n",
    "\n",
    "```"
   ]
  },
  {
   "cell_type": "markdown",
   "metadata": {},
   "source": [
    "### 3.Manacher’s Algorithm\n",
    "\n",
    "> 时间复杂度：O(n)\n",
    "> 空间复杂度：O(n)\n",
    "\n",
    "主要步骤:\n",
    "\n",
    "1.预处理：将所有可能的奇数/偶数长度的回文子串都转换成奇数长度：在 s 每个字符两边都插入一个特殊符号之后变成新 ns。abba => #a#b#b#a#， aba => #a#b#a#。为了进一步减少编码的复杂度，可以在字符串的开始和结尾加入另一个特殊字符，这样就不用特殊处理越界问题，比如 aba => @#a#b#a#$。\n",
    "\n",
    "2.用数组 radius[i] 来记录以字符 ns[i] 为中心的最长回文子串向左/右扩张的长度（不包括 ns[i]），radius[i] 正好是原字符串中回文串的总长度。增加两个辅助变量 center 和 right，其中 center 为已知的（右边界最大）的回文子串的中心，right 则为 center + radius[center]，也就是这个子串的右边界。\n",
    "\n",
    "在算法中,center 和 right 是一直更新的，其表示，以 center 为起点，半径为 right 作用范围内能够包含的区间,即[center - right, center + right]。\n",
    "\n",
    "如果 right > i，那么 radius[i] >= min(radius[2 * center - i], right - i)，其中i与j关于 center 对称。\n",
    "\n",
    "a.当 right - i > radius[j] 的时候，以 ns[j] 为中心的回文子串包含在以 ns[center] 为中心的回文子串中，由于 i 和 j 对称，以 ns[i] 为中心的回文子串必然包含在以 ns[center] 为中心的回文子串中，所以必有 radius[i] = radius[j] = radius[2 * center - i]，如下图：\n",
    "\n",
    "> ![manacher_1](https://github.com/Decalogue/AlgorithmMap/blob/master/img/leetcode/647_manacher_1.png \"manacher\")\n",
    "\n",
    "当 radius[j] >= right - i 的时候，以 ns[j] 为中心的回文子串不一定完全包含于以 ns[center] 为中心的回文子串中，但是基于对称性可知，下图中两个绿框所包围的部分是相同的，也就是说以 ns[i] 为中心的回文子串，其向右至少会扩张到 right 的位置，也就是说 radius[i] >= right - i。至于 right 之后的部分是否对称，就只能继续去匹配了。\n",
    "\n",
    "> ![manacher_2](https://github.com/Decalogue/AlgorithmMap/blob/master/img/leetcode/647_manacher_2.png \"manacher\")\n",
    "\n",
    "b.如果 right <= i，正在处理的字符不在以 center 为起点的作用区间范围内，则无法用到上一次处理的结果，此时只能去匹配。"
   ]
  },
  {
   "cell_type": "markdown",
   "metadata": {},
   "source": [
    "### Python"
   ]
  },
  {
   "cell_type": "code",
   "execution_count": 1,
   "metadata": {
    "collapsed": true
   },
   "outputs": [],
   "source": [
    "class Solution:\n",
    "    def countSubstrings(self, s):\n",
    "        def manachers(s):\n",
    "            # 字符串处理，用特殊字符隔离字符串，方便处理偶数子串\n",
    "            ns = '@#' + '#'.join(s) + '#$'\n",
    "            # radius[i] 来记录以字符 ns[i] 为中心的最长回文子串向左/右扩张的长度（不包括 ns[i]）\n",
    "            radius = [0] * len(ns)\n",
    "            center = right = 0\n",
    "            # maxd = 0 # 记录最长的回文子串长度\n",
    "            for i in range(1, len(ns) - 1):\n",
    "                # 字符i在 center 的作用范围内，可以利用之前的结果\n",
    "                if right > i:\n",
    "                    radius[i] = min(right - i, radius[2 * center - i])\n",
    "                # 字符i不在 center 的作用范围内，继续匹配\n",
    "                while ns[i + radius[i] + 1] == ns[i - radius[i] - 1]:\n",
    "                    radius[i] += 1\n",
    "                # 更新 center 及其区间\n",
    "                if i + radius[i] > right:\n",
    "                    center, right = i, i + radius[i]\n",
    "                # maxd = max(maxd, radius[i])\n",
    "            # return maxd\n",
    "        # return manachers(s) # 最长的回文子串长度\n",
    "            return radius\n",
    "        # 长度为 v 的回文串有 int((v+1)/2) 个子串\n",
    "        return sum(int((v+1)/2) for v in manachers(s)) # 回文子串的个数（索引不同内容相同子串视为不同子串）"
   ]
  },
  {
   "cell_type": "markdown",
   "metadata": {},
   "source": [
    "### C++"
   ]
  },
  {
   "cell_type": "markdown",
   "metadata": {},
   "source": [
    "```c++\n",
    "\n",
    "```"
   ]
  },
  {
   "cell_type": "markdown",
   "metadata": {},
   "source": [
    "### Java"
   ]
  },
  {
   "cell_type": "markdown",
   "metadata": {},
   "source": [
    "```Java\n",
    "\n",
    "```"
   ]
  },
  {
   "cell_type": "markdown",
   "metadata": {},
   "source": [
    "### 4.动态规划\n",
    "\n",
    "> 时间复杂度：O(n^2)\n",
    "> 空间复杂度：O(1)"
   ]
  },
  {
   "cell_type": "markdown",
   "metadata": {},
   "source": [
    "### Python"
   ]
  },
  {
   "cell_type": "code",
   "execution_count": null,
   "metadata": {
    "collapsed": true
   },
   "outputs": [],
   "source": []
  },
  {
   "cell_type": "markdown",
   "metadata": {},
   "source": [
    "### C++"
   ]
  },
  {
   "cell_type": "markdown",
   "metadata": {},
   "source": [
    "```c++\n",
    "\n",
    "```"
   ]
  },
  {
   "cell_type": "markdown",
   "metadata": {},
   "source": [
    "### Java"
   ]
  },
  {
   "cell_type": "markdown",
   "metadata": {},
   "source": [
    "```Java\n",
    "\n",
    "```"
   ]
  },
  {
   "cell_type": "markdown",
   "metadata": {},
   "source": [
    "### 5.Discuss看到的一个解法\n",
    "\n",
    "> 时间复杂度：O(n^2)\n",
    "> 空间复杂度：O(1)"
   ]
  },
  {
   "cell_type": "markdown",
   "metadata": {},
   "source": [
    "### Python"
   ]
  },
  {
   "cell_type": "code",
   "execution_count": null,
   "metadata": {
    "collapsed": true
   },
   "outputs": [],
   "source": []
  },
  {
   "cell_type": "markdown",
   "metadata": {},
   "source": [
    "### C++"
   ]
  },
  {
   "cell_type": "markdown",
   "metadata": {},
   "source": [
    "```c++\n",
    "\n",
    "```"
   ]
  },
  {
   "cell_type": "markdown",
   "metadata": {},
   "source": [
    "### Java"
   ]
  },
  {
   "cell_type": "markdown",
   "metadata": {},
   "source": [
    "```Java\n",
    "\n",
    "```"
   ]
  },
  {
   "cell_type": "markdown",
   "metadata": {},
   "source": [
    "## 总结"
   ]
  },
  {
   "cell_type": "markdown",
   "metadata": {
    "collapsed": true
   },
   "source": [
    "### 1.看到这个问题，我最初是怎么思考的？我是怎么做的？遇到了哪些问题？\n",
    "> \n",
    "\n",
    "### 2.别人是怎么思考的？别人是怎么做的？遇到了哪些问题？\n",
    "> \n",
    "\n",
    "### 3.与他的做法相比，我有哪些可以提升的地方？\n",
    "> \n",
    "\n",
    "### 4.整合升级，分享\n",
    "> \n",
    "\n",
    "### 5.迭代第1步到第4步\n",
    "> "
   ]
  },
  {
   "cell_type": "code",
   "execution_count": null,
   "metadata": {
    "collapsed": true
   },
   "outputs": [],
   "source": []
  }
 ],
 "metadata": {
  "kernelspec": {
   "display_name": "Python 3",
   "language": "python",
   "name": "python3"
  },
  "language_info": {
   "codemirror_mode": {
    "name": "ipython",
    "version": 3
   },
   "file_extension": ".py",
   "mimetype": "text/x-python",
   "name": "python",
   "nbconvert_exporter": "python",
   "pygments_lexer": "ipython3",
   "version": "3.6.1"
  }
 },
 "nbformat": 4,
 "nbformat_minor": 2
}
