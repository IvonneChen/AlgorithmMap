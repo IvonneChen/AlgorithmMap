{
 "cells": [
  {
   "cell_type": "markdown",
   "metadata": {},
   "source": [
    "# 问题：16. 3Sum Closest\n",
    "# Problem: [16. 3Sum Closest](https://leetcode.com/problems/3sum-closest/description/)\n",
    "\n",
    "## 描述 Description\n",
    "> ### Given an array nums of n integers and an integer target, find three integers in nums such that the sum is closest to target. Return the sum of the three integers.\n",
    "\n",
    "> ### You may assume that each input would have exactly one solution."
   ]
  },
  {
   "cell_type": "markdown",
   "metadata": {},
   "source": [
    "## 例子 Example"
   ]
  },
  {
   "cell_type": "markdown",
   "metadata": {},
   "source": [
    "> ![example](https://github.com/Decalogue/AlgorithmMap/blob/master/img/leetcode/16.png \"example\")"
   ]
  },
  {
   "cell_type": "markdown",
   "metadata": {},
   "source": [
    "## 分析 Analysis"
   ]
  },
  {
   "cell_type": "markdown",
   "metadata": {},
   "source": [
    "核心思想：\n",
    "> 思路1：从第一个元素开始，找剩下两个元素，分别用两根指针一头一尾，慢慢靠近。\n",
    ">> 时间复杂度：O(n^2)\n",
    ">> 空间复杂度：O(1)\n",
    "\n",
    "> 思路2：用字典 value2index\n",
    ">> 时间复杂度：O(n^2)\n",
    ">> 空间复杂度：O(1)"
   ]
  },
  {
   "cell_type": "markdown",
   "metadata": {},
   "source": [
    "## 定义 Definition"
   ]
  },
  {
   "cell_type": "markdown",
   "metadata": {},
   "source": [
    "### Python"
   ]
  },
  {
   "cell_type": "code",
   "execution_count": null,
   "metadata": {
    "collapsed": true
   },
   "outputs": [],
   "source": [
    "class Solution:\n",
    "    def threeSumClosest(self, nums, target):\n",
    "        \"\"\"\n",
    "        :type nums: List[int]\n",
    "        :type target: int\n",
    "        :rtype: int\n",
    "        \"\"\""
   ]
  },
  {
   "cell_type": "markdown",
   "metadata": {},
   "source": [
    "### C++"
   ]
  },
  {
   "cell_type": "markdown",
   "metadata": {},
   "source": [
    "```c++\n",
    "class Solution {\n",
    "public:\n",
    "    int threeSumClosest(vector<int>& nums, int target) {\n",
    "        \n",
    "    }\n",
    "};\n",
    "```"
   ]
  },
  {
   "cell_type": "markdown",
   "metadata": {},
   "source": [
    "### Java"
   ]
  },
  {
   "cell_type": "markdown",
   "metadata": {},
   "source": [
    "```java\n",
    "class Solution {\n",
    "    public int threeSumClosest(int[] nums, int target) {\n",
    "        \n",
    "    }\n",
    "}\n",
    "```"
   ]
  },
  {
   "cell_type": "markdown",
   "metadata": {},
   "source": [
    "## 解决方案 Solution"
   ]
  },
  {
   "cell_type": "markdown",
   "metadata": {},
   "source": [
    "### 1.从第一个元素开始，找剩下两个元素，分别用两根指针一头一尾，慢慢靠近。\n",
    "\n",
    "> 时间复杂度：O(n^2)\n",
    "> 空间复杂度：O(n)"
   ]
  },
  {
   "cell_type": "markdown",
   "metadata": {},
   "source": [
    "### Python"
   ]
  },
  {
   "cell_type": "code",
   "execution_count": 1,
   "metadata": {
    "collapsed": true
   },
   "outputs": [],
   "source": [
    "class Solution: # my\n",
    "    def threeSumClosest(self, nums, target):\n",
    "        \"\"\"\n",
    "        :type nums: List[int]\n",
    "        :type target: int\n",
    "        :rtype: int\n",
    "        \"\"\"\n",
    "        if len(nums) < 3:\n",
    "            return 0\n",
    "        nums.sort()\n",
    "        td = 2 ** 31 - 1\n",
    "        for i in range(len(nums)-2):\n",
    "            l, r = i + 1, len(nums) - 1\n",
    "            while l < r:\n",
    "                d = nums[i] + nums[l] + nums[r] - target\n",
    "                if abs(d) < abs(td):\n",
    "                    td = d\n",
    "                if d < 0:\n",
    "                    l += 1\n",
    "                elif d > 0:\n",
    "                    r -= 1\n",
    "                else:\n",
    "                    return target\n",
    "        return target + td"
   ]
  },
  {
   "cell_type": "code",
   "execution_count": 2,
   "metadata": {
    "collapsed": true
   },
   "outputs": [],
   "source": [
    "class Solution(object): # others\n",
    "    def threeSumClosest(self, nums, target):\n",
    "        \"\"\"\n",
    "        :type nums: List[int]\n",
    "        :type target: int\n",
    "        :rtype: int\n",
    "        \"\"\"\n",
    "        size = len(nums)\n",
    "        if size < 3:\n",
    "            return 0\n",
    "        nums.sort()\n",
    "        i = 0 # fix the first index\n",
    "        ans = nums[0] + nums[1] + nums[size - 1] # ans is used to record the solution\n",
    "        while i < size - 2:\n",
    "            tmp = target - nums[i]\n",
    "            j = i + 1\n",
    "            k = size - 1\n",
    "            while j < k:\n",
    "                if nums[j] + nums[k] == tmp:\n",
    "                    return target\n",
    "                if nums[j] + nums[k] > tmp:\n",
    "                    if nums[j] + nums[j + 1] >= tmp:\n",
    "                        if nums[j] + nums[j + 1] - tmp < abs(ans - target):\n",
    "                            ans = nums[i] + nums[j] + nums[j + 1]\n",
    "                        break\n",
    "                    tmpans = nums[i] + nums[j] + nums[k]\n",
    "                    if tmpans - target < abs(ans - target):\n",
    "                        ans = tmpans\n",
    "                    k -= 1\n",
    "                else:\n",
    "                    if nums[k] + nums[k - 1] <= tmp:\n",
    "                        if tmp - nums[k] -nums[k - 1] < abs(ans - target):\n",
    "                            ans = nums[i] + nums[k - 1] + nums[k]\n",
    "                        break\n",
    "                    tmpans = nums[i] + nums[j] + nums[k]\n",
    "                    if target - tmpans < abs(ans - target):\n",
    "                        ans = tmpans\n",
    "                    j += 1\n",
    "            i += 1\n",
    "            if ans == target:\n",
    "                return target\n",
    "        return ans"
   ]
  },
  {
   "cell_type": "markdown",
   "metadata": {},
   "source": [
    "### C++"
   ]
  },
  {
   "cell_type": "markdown",
   "metadata": {},
   "source": [
    "```c++\n",
    "\n",
    "```"
   ]
  },
  {
   "cell_type": "markdown",
   "metadata": {},
   "source": [
    "### Java"
   ]
  },
  {
   "cell_type": "markdown",
   "metadata": {},
   "source": [
    "```java\n",
    "public class Solution \n",
    "{\n",
    "    public int threeSumClosest(int[] nums, int target) \n",
    "    {\n",
    "        // sort the nums array\n",
    "        Arrays.sort(nums);\n",
    "        int closestSum = 0;\n",
    "        int diff = Integer.MAX_VALUE;\n",
    "        \n",
    "        \n",
    "        // iterate nums array, no need for the last two numbers because we need at least three numbers\n",
    "        for(int i=0; i<nums.length-2; i++)\n",
    "        {\n",
    "            int left = i + 1;\n",
    "            int right = nums.length - 1;\n",
    "            \n",
    "            // use two pointers to iterate rest array\n",
    "            while(left < right)\n",
    "            {\n",
    "                int temp_sum = nums[i] + nums[left] + nums[right];\n",
    "                int temp_diff = Math.abs(temp_sum - target);\n",
    "                // if find a new closer sum, then update sum and diff\n",
    "                if(temp_diff < diff)\n",
    "                {\n",
    "                    closestSum = temp_sum;\n",
    "                    diff = temp_diff;\n",
    "                }\n",
    "                \n",
    "                if(temp_sum < target) // meaning need larger sum\n",
    "                    left++;\n",
    "                else if(temp_sum > target) // meaning need smaller sum\n",
    "                    right--;\n",
    "                else // meaning temp_sum == target, this is the closestSum \n",
    "                    return temp_sum;\n",
    "            }\n",
    "        }\n",
    "        \n",
    "        return closestSum;\n",
    "    }\n",
    "}\n",
    "```"
   ]
  },
  {
   "cell_type": "markdown",
   "metadata": {},
   "source": [
    "### 2.\n",
    "\n",
    "> 时间复杂度：O()\n",
    "> 空间复杂度：O()"
   ]
  },
  {
   "cell_type": "markdown",
   "metadata": {},
   "source": [
    "### Python"
   ]
  },
  {
   "cell_type": "code",
   "execution_count": null,
   "metadata": {
    "collapsed": true
   },
   "outputs": [],
   "source": []
  },
  {
   "cell_type": "markdown",
   "metadata": {},
   "source": [
    "### C++"
   ]
  },
  {
   "cell_type": "markdown",
   "metadata": {},
   "source": [
    "```c++\n",
    "\n",
    "```"
   ]
  },
  {
   "cell_type": "markdown",
   "metadata": {},
   "source": [
    "### Java"
   ]
  },
  {
   "cell_type": "markdown",
   "metadata": {},
   "source": [
    "```Java\n",
    "\n",
    "```"
   ]
  },
  {
   "cell_type": "markdown",
   "metadata": {},
   "source": [
    "## 总结"
   ]
  },
  {
   "cell_type": "markdown",
   "metadata": {
    "collapsed": true
   },
   "source": [
    "### 1.看到这个问题，我最初是怎么思考的？我是怎么做的？遇到了哪些问题？\n",
    "> 思考：类似于 [15. 3Sum](https://leetcode.com/problems/3sum/description/)\n",
    "\n",
    "> 问题：对于 td 的设置和判断\n",
    "\n",
    "### 2.别人是怎么思考的？别人是怎么做的？\n",
    "> 利用 [1. Two Sum](https://leetcode.com/problems/two-sum/description/) 的方法，two pointers 来辅助，每次确定第一个数字，剩下的就是找两个数字之和的问题了 [原文](http://www.cnblogs.com/jimmycheng/p/7159535.html)\n",
    "\n",
    "### 3.与他的做法相比，我有哪些可以提升的地方？\n",
    "> 方案1.Java [原文](http://www.cnblogs.com/jimmycheng/p/7159535.html)"
   ]
  },
  {
   "cell_type": "code",
   "execution_count": null,
   "metadata": {
    "collapsed": true
   },
   "outputs": [],
   "source": []
  }
 ],
 "metadata": {
  "kernelspec": {
   "display_name": "Python 3",
   "language": "python",
   "name": "python3"
  },
  "language_info": {
   "codemirror_mode": {
    "name": "ipython",
    "version": 3
   },
   "file_extension": ".py",
   "mimetype": "text/x-python",
   "name": "python",
   "nbconvert_exporter": "python",
   "pygments_lexer": "ipython3",
   "version": "3.6.1"
  }
 },
 "nbformat": 4,
 "nbformat_minor": 2
}
