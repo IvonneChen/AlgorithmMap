{
 "cells": [
  {
   "cell_type": "markdown",
   "metadata": {},
   "source": [
    "# 问题：217. Contains Duplicate\n",
    "# Problem: [217. Contains Duplicate](https://leetcode.com/problems/contains-duplicate/description/)\n",
    "\n",
    "## 描述 Description\n",
    "> ### Given an array of integers, find if the array contains any duplicates.\n",
    "\n",
    "> ### Your function should return true if any value appears at least twice in the array, and it should return false if every element is distinct."
   ]
  },
  {
   "cell_type": "markdown",
   "metadata": {},
   "source": [
    "## 例子 Example"
   ]
  },
  {
   "cell_type": "markdown",
   "metadata": {},
   "source": [
    "> ![example](https://github.com/Decalogue/AlgorithmMap/blob/master/img/leetcode/217.png \"example\")"
   ]
  },
  {
   "cell_type": "markdown",
   "metadata": {},
   "source": [
    "## 分析 Analysis"
   ]
  },
  {
   "cell_type": "markdown",
   "metadata": {},
   "source": [
    "核心思想：\n",
    "> 思路1：哈希 用字典实现\n",
    ">> 时间复杂度：O(n)\n",
    ">> 空间复杂度：O(n)\n",
    "\n",
    "> 思路2：判断集合和原数组长度是否一致\n",
    ">> 时间复杂度：O(n)\n",
    ">> 空间复杂度：O(1)"
   ]
  },
  {
   "cell_type": "markdown",
   "metadata": {},
   "source": [
    "## 定义 Definition"
   ]
  },
  {
   "cell_type": "markdown",
   "metadata": {},
   "source": [
    "### Python"
   ]
  },
  {
   "cell_type": "code",
   "execution_count": null,
   "metadata": {
    "collapsed": true
   },
   "outputs": [],
   "source": [
    "class Solution:\n",
    "    def containsDuplicate(self, nums):\n",
    "        \"\"\"\n",
    "        :type nums: List[int]\n",
    "        :rtype: bool\n",
    "        \"\"\""
   ]
  },
  {
   "cell_type": "markdown",
   "metadata": {},
   "source": [
    "### C++"
   ]
  },
  {
   "cell_type": "markdown",
   "metadata": {},
   "source": [
    "```c++\n",
    "class Solution {\n",
    "public:\n",
    "    bool containsDuplicate(vector<int>& nums) {\n",
    "        \n",
    "    }\n",
    "};\n",
    "```"
   ]
  },
  {
   "cell_type": "markdown",
   "metadata": {},
   "source": [
    "### Java"
   ]
  },
  {
   "cell_type": "markdown",
   "metadata": {},
   "source": [
    "```java\n",
    "class Solution {\n",
    "    public boolean containsDuplicate(int[] nums) {\n",
    "        \n",
    "    }\n",
    "}\n",
    "```"
   ]
  },
  {
   "cell_type": "markdown",
   "metadata": {},
   "source": [
    "## 解决方案 Solution"
   ]
  },
  {
   "cell_type": "markdown",
   "metadata": {},
   "source": [
    "### 1.哈希 用字典实现\n",
    "\n",
    "> 时间复杂度：O(n)\n",
    "> 空间复杂度：O(n)"
   ]
  },
  {
   "cell_type": "markdown",
   "metadata": {},
   "source": [
    "### Python"
   ]
  },
  {
   "cell_type": "code",
   "execution_count": null,
   "metadata": {
    "collapsed": true
   },
   "outputs": [],
   "source": [
    "class Solution:\n",
    "    def containsDuplicate(self, nums):\n",
    "        \"\"\"\n",
    "        :type nums: List[int]\n",
    "        :rtype: bool\n",
    "        \"\"\"\n",
    "        d = {}\n",
    "        for i in nums:\n",
    "            if i in d:\n",
    "                return True\n",
    "            d[i] = 1\n",
    "        return False"
   ]
  },
  {
   "cell_type": "markdown",
   "metadata": {},
   "source": [
    "### C++"
   ]
  },
  {
   "cell_type": "markdown",
   "metadata": {},
   "source": [
    "```c++\n",
    "\n",
    "```"
   ]
  },
  {
   "cell_type": "markdown",
   "metadata": {},
   "source": [
    "### Java"
   ]
  },
  {
   "cell_type": "markdown",
   "metadata": {},
   "source": [
    "```java\n",
    "public class Solution {\n",
    "    public boolean containsDuplicate(int[] nums) {\n",
    "        byte[] mark = new byte[150000];\n",
    "        for (int i : nums) {\n",
    "            int j = i/8;\n",
    "            int k = i%8;\n",
    "            int check = 1<<k;\n",
    "            if ((mark[j] & check) != 0) {\n",
    "                return true;\n",
    "            }\n",
    "            mark[j]|=check;\n",
    "        }\n",
    "        return false;\n",
    "    }\n",
    "}\n",
    "```"
   ]
  },
  {
   "cell_type": "markdown",
   "metadata": {},
   "source": [
    "### 2.判断集合和原数组长度是否一致\n",
    "\n",
    "> 时间复杂度：O(n)\n",
    "> 空间复杂度：O(1)"
   ]
  },
  {
   "cell_type": "markdown",
   "metadata": {},
   "source": [
    "### Python"
   ]
  },
  {
   "cell_type": "code",
   "execution_count": 1,
   "metadata": {
    "collapsed": true
   },
   "outputs": [],
   "source": [
    "class Solution:\n",
    "    def containsDuplicate(self, nums):\n",
    "        if len(nums) < 2:\n",
    "            return False\n",
    "        return True if len(set(nums)) < len(nums) else False\n",
    "\n",
    "class Solution:\n",
    "    def containsDuplicate(self, nums):\n",
    "        num_set = set(nums)\n",
    "        if len(nums) == len(num_set):\n",
    "            return False\n",
    "        return True"
   ]
  },
  {
   "cell_type": "markdown",
   "metadata": {},
   "source": [
    "### C++"
   ]
  },
  {
   "cell_type": "markdown",
   "metadata": {},
   "source": [
    "```c++\n",
    "\n",
    "```"
   ]
  },
  {
   "cell_type": "markdown",
   "metadata": {},
   "source": [
    "### Java"
   ]
  },
  {
   "cell_type": "markdown",
   "metadata": {},
   "source": [
    "```Java\n",
    "\n",
    "```"
   ]
  },
  {
   "cell_type": "markdown",
   "metadata": {},
   "source": [
    "## 总结"
   ]
  },
  {
   "cell_type": "markdown",
   "metadata": {
    "collapsed": true
   },
   "source": [
    "### 1.看到这个问题，我最初是怎么思考的？我是怎么做的？遇到了哪些问题？\n",
    "> 思考：哈希，遍历时如果在哈希表中已经有了则返回 True\n",
    "\n",
    "> 方法：使用字典实现\n",
    "\n",
    "> 问题：需要辅助字典空间\n",
    "\n",
    "### 2.别人是怎么思考的？别人是怎么做的？\n",
    "> a.哈希 b.判断集合和原数组长度是否一致\n",
    "\n",
    "### 3.与他的做法相比，我有哪些可以提升的地方？\n",
    "> 对常见数据结构例如集合与数组的区别深入理解"
   ]
  },
  {
   "cell_type": "code",
   "execution_count": null,
   "metadata": {
    "collapsed": true
   },
   "outputs": [],
   "source": []
  }
 ],
 "metadata": {
  "kernelspec": {
   "display_name": "Python 3",
   "language": "python",
   "name": "python3"
  },
  "language_info": {
   "codemirror_mode": {
    "name": "ipython",
    "version": 3
   },
   "file_extension": ".py",
   "mimetype": "text/x-python",
   "name": "python",
   "nbconvert_exporter": "python",
   "pygments_lexer": "ipython3",
   "version": "3.6.1"
  }
 },
 "nbformat": 4,
 "nbformat_minor": 2
}
