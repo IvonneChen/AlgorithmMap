{
 "cells": [
  {
   "cell_type": "markdown",
   "metadata": {},
   "source": [
    "# 问题：70. Climbing Stairs\n",
    "# Problem: [70. Climbing Stairs](https://leetcode.com/problems/climbing-stairs/description/)\n",
    "\n",
    "## 描述 Description\n",
    "> ### You are climbing a stair case. It takes n steps to reach to the top. Each time you can either climb 1 or 2 steps. In how many distinct ways can you climb to the top?\n",
    "\n",
    "> ### Note: Given n will be a positive integer."
   ]
  },
  {
   "cell_type": "markdown",
   "metadata": {},
   "source": [
    "## 例子 Example"
   ]
  },
  {
   "cell_type": "markdown",
   "metadata": {},
   "source": [
    "> ![example](https://github.com/Decalogue/AlgorithmMap/blob/master/img/leetcode/70.png \"example\")"
   ]
  },
  {
   "cell_type": "markdown",
   "metadata": {},
   "source": [
    "## 分析 Analysis"
   ]
  },
  {
   "cell_type": "markdown",
   "metadata": {},
   "source": [
    "核心思想：\n",
    "> 思路1：动态规划\n",
    ">> 时间复杂度：O(n)\n",
    ">> 空间复杂度：O(1)\n",
    "\n",
    "> 思路2：递归，用字典存储已经计算过的值\n",
    ">> 时间复杂度：O(n)\n",
    ">> 空间复杂度：O(n)\n",
    "\n",
    "> 思路3：直接递归\n",
    ">> 时间复杂度：O(2^(n/2))<=T(n)<=O(2^n)\n",
    ">> 空间复杂度：O(1)"
   ]
  },
  {
   "cell_type": "markdown",
   "metadata": {},
   "source": [
    "## 定义 Definition"
   ]
  },
  {
   "cell_type": "markdown",
   "metadata": {},
   "source": [
    "### Python"
   ]
  },
  {
   "cell_type": "code",
   "execution_count": null,
   "metadata": {
    "collapsed": true
   },
   "outputs": [],
   "source": [
    "class Solution:\n",
    "    def climbStairs(self, n):\n",
    "        \"\"\"\n",
    "        :type n: int\n",
    "        :rtype: int\n",
    "        \"\"\""
   ]
  },
  {
   "cell_type": "markdown",
   "metadata": {},
   "source": [
    "### C++"
   ]
  },
  {
   "cell_type": "markdown",
   "metadata": {},
   "source": [
    "```c++\n",
    "class Solution {\n",
    "public:\n",
    "    int climbStairs(int n) {\n",
    "        \n",
    "    }\n",
    "};\n",
    "```"
   ]
  },
  {
   "cell_type": "markdown",
   "metadata": {},
   "source": [
    "### Java"
   ]
  },
  {
   "cell_type": "markdown",
   "metadata": {},
   "source": [
    "```java\n",
    "class Solution {\n",
    "    public int climbStairs(int n) {\n",
    "        \n",
    "    }\n",
    "```"
   ]
  },
  {
   "cell_type": "markdown",
   "metadata": {},
   "source": [
    "## 解决方案 Solution"
   ]
  },
  {
   "cell_type": "markdown",
   "metadata": {},
   "source": [
    "### 1.动态规划\n",
    "\n",
    "> 时间复杂度：O(n)\n",
    "> 空间复杂度：O(1)"
   ]
  },
  {
   "cell_type": "markdown",
   "metadata": {},
   "source": [
    "### Python"
   ]
  },
  {
   "cell_type": "code",
   "execution_count": 1,
   "metadata": {
    "collapsed": true
   },
   "outputs": [],
   "source": [
    "class Solution: # my\n",
    "    def climbStairs(self, n):\n",
    "        \"\"\"\n",
    "        :type n: int\n",
    "        :rtype: int\n",
    "        \"\"\"\n",
    "        if n <=1:\n",
    "            return 1\n",
    "        f0, f1 = 1, 1\n",
    "        for i in range(1, n):\n",
    "            temp = f1\n",
    "            f1 = f0 + f1\n",
    "            f0 = temp\n",
    "        return f1"
   ]
  },
  {
   "cell_type": "markdown",
   "metadata": {},
   "source": [
    "### C++"
   ]
  },
  {
   "cell_type": "markdown",
   "metadata": {},
   "source": [
    "```c++\n",
    "\n",
    "```"
   ]
  },
  {
   "cell_type": "markdown",
   "metadata": {},
   "source": [
    "### Java"
   ]
  },
  {
   "cell_type": "markdown",
   "metadata": {},
   "source": [
    "```java\n",
    "\n",
    "```"
   ]
  },
  {
   "cell_type": "markdown",
   "metadata": {},
   "source": [
    "### 2.递归，用字典存储已经计算过的值\n",
    "\n",
    "> 时间复杂度：O(n)\n",
    "> 空间复杂度：O(n)"
   ]
  },
  {
   "cell_type": "markdown",
   "metadata": {},
   "source": [
    "### Python"
   ]
  },
  {
   "cell_type": "code",
   "execution_count": 3,
   "metadata": {
    "collapsed": true
   },
   "outputs": [],
   "source": [
    "class Solution:\n",
    "    \n",
    "    dictionary = {}\n",
    "    def climbStairs(self, n):\n",
    "        \"\"\"\n",
    "        :type n: int\n",
    "        :rtype: int\n",
    "        \"\"\"\n",
    "        number = 0\n",
    "        if n == 0 or n == 1:\n",
    "            return 1\n",
    "        if n in self.dictionary:\n",
    "            return self.dictionary[n]\n",
    "        else:\n",
    "            number += self.climbStairs(n - 1) + self.climbStairs(n - 2)\n",
    "            self.dictionary[n] = number\n",
    "        return number"
   ]
  },
  {
   "cell_type": "markdown",
   "metadata": {},
   "source": [
    "### C++"
   ]
  },
  {
   "cell_type": "markdown",
   "metadata": {},
   "source": [
    "```c++\n",
    "\n",
    "```"
   ]
  },
  {
   "cell_type": "markdown",
   "metadata": {},
   "source": [
    "### Java"
   ]
  },
  {
   "cell_type": "markdown",
   "metadata": {},
   "source": [
    "```Java\n",
    "\n",
    "```"
   ]
  },
  {
   "cell_type": "markdown",
   "metadata": {},
   "source": [
    "### 3.直接递归\n",
    "\n",
    "> 时间复杂度：O(2^(n/2))<=T(n)<=O(2^n)\n",
    "> 空间复杂度：O(1)"
   ]
  },
  {
   "cell_type": "markdown",
   "metadata": {},
   "source": [
    "## 总结"
   ]
  },
  {
   "cell_type": "markdown",
   "metadata": {
    "collapsed": true
   },
   "source": [
    "### 1.看到这个问题，我最初是怎么思考的？我是怎么做的？遇到了哪些问题？\n",
    "> 思考：这个是斐波那契数列问题，可以用动态规划减少重复计算，达到 O(n) 的时间复杂度\n",
    "\n",
    "> 问题：指针设计\n",
    "\n",
    "### 2.别人是怎么思考的？别人是怎么做的？\n",
    "> a.递归，用字典存储已经计算过的值 b.动态规划 c.直接递归\n",
    "\n",
    "### 3.与他的做法相比，我有哪些可以提升的地方？\n",
    "> 用字典存储已经计算过的值可以提高效率"
   ]
  },
  {
   "cell_type": "code",
   "execution_count": null,
   "metadata": {
    "collapsed": true
   },
   "outputs": [],
   "source": []
  }
 ],
 "metadata": {
  "kernelspec": {
   "display_name": "Python 3",
   "language": "python",
   "name": "python3"
  },
  "language_info": {
   "codemirror_mode": {
    "name": "ipython",
    "version": 3
   },
   "file_extension": ".py",
   "mimetype": "text/x-python",
   "name": "python",
   "nbconvert_exporter": "python",
   "pygments_lexer": "ipython3",
   "version": "3.6.1"
  }
 },
 "nbformat": 4,
 "nbformat_minor": 2
}
