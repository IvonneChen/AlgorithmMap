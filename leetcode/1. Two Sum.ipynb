{
 "cells": [
  {
   "cell_type": "markdown",
   "metadata": {},
   "source": [
    "# 问题：1. Two Sum\n",
    "# Problem: [1. Two Sum](https://leetcode.com/problems/two-sum/description/)\n",
    "\n",
    "## 描述 Description\n",
    "> ### Given an array of integers, return indices of the two numbers such that they add up to a specific target.\n",
    "\n",
    "> ### You may assume that each input would have exactly one solution, and you may not use the same element twice."
   ]
  },
  {
   "cell_type": "markdown",
   "metadata": {},
   "source": [
    "## 例子 Example"
   ]
  },
  {
   "cell_type": "markdown",
   "metadata": {},
   "source": [
    "> ![example](https://github.com/Decalogue/AlgorithmMap/blob/master/img/leetcode/1.png \"example\")"
   ]
  },
  {
   "cell_type": "markdown",
   "metadata": {},
   "source": [
    "## 分析 Analysis"
   ]
  },
  {
   "cell_type": "markdown",
   "metadata": {},
   "source": [
    "核心思想：\n",
    "> 思路1：直接循环\n",
    ">> 时间复杂度：O(n^2)\n",
    ">> 空间复杂度：O(1)\n",
    "\n",
    "> 思路2：用字典 value2index\n",
    ">> 时间复杂度：O(n)\n",
    ">> 空间复杂度：O(n)\n",
    "\n",
    "> 思路3：排序后借助指针（可找到所有组合）\n",
    ">> 时间复杂度：O(排序) + O(n)\n",
    ">> 空间复杂度：O(n)"
   ]
  },
  {
   "cell_type": "markdown",
   "metadata": {},
   "source": [
    "## 定义 Definition"
   ]
  },
  {
   "cell_type": "markdown",
   "metadata": {},
   "source": [
    "### Python"
   ]
  },
  {
   "cell_type": "code",
   "execution_count": 1,
   "metadata": {
    "collapsed": true
   },
   "outputs": [],
   "source": [
    "class Solution(object):\n",
    "    def twoSum(self, nums, target):\n",
    "        \"\"\"\n",
    "        :type nums: List[int]\n",
    "        :type target: int\n",
    "        :rtype: List[int]\n",
    "        \"\"\""
   ]
  },
  {
   "cell_type": "markdown",
   "metadata": {},
   "source": [
    "### C++"
   ]
  },
  {
   "cell_type": "markdown",
   "metadata": {},
   "source": [
    "```c++\n",
    "class Solution {\n",
    "public:\n",
    "    vector<int> twoSum(vector<int>& nums, int target) {\n",
    "        \n",
    "    }\n",
    "};\n",
    "```"
   ]
  },
  {
   "cell_type": "markdown",
   "metadata": {},
   "source": [
    "### Java"
   ]
  },
  {
   "cell_type": "markdown",
   "metadata": {},
   "source": [
    "```java\n",
    "class Solution {\n",
    "    public int[] twoSum(int[] nums, int target) {\n",
    "        \n",
    "    }\n",
    "}\n",
    "```"
   ]
  },
  {
   "cell_type": "markdown",
   "metadata": {},
   "source": [
    "## 解决方案 Solution"
   ]
  },
  {
   "cell_type": "code",
   "execution_count": 18,
   "metadata": {
    "collapsed": true
   },
   "outputs": [],
   "source": [
    "def test(nums=[], target=None):\n",
    "    s = Solution()\n",
    "    print(s.twoSum(nums, target), '\\n')"
   ]
  },
  {
   "cell_type": "markdown",
   "metadata": {},
   "source": [
    "### 1.直接循环\n",
    "\n",
    "> 时间复杂度：O(n^2)\n",
    "> 空间复杂度：O(1)"
   ]
  },
  {
   "cell_type": "markdown",
   "metadata": {},
   "source": [
    "### Python"
   ]
  },
  {
   "cell_type": "code",
   "execution_count": 19,
   "metadata": {
    "collapsed": true
   },
   "outputs": [],
   "source": [
    "class Solution(object):\n",
    "    def twoSum(self, nums, target): # my\n",
    "        \"\"\"\n",
    "        :type nums: List[int]\n",
    "        :type target: int\n",
    "        :rtype: List[int]\n",
    "        \"\"\"\n",
    "        if not nums or target == None:\n",
    "            return None\n",
    "        for i, ni in enumerate(nums):\n",
    "            for j, nj in enumerate(nums[i+1:]):\n",
    "                if ni + nj == target:\n",
    "                    return [i, i+1+j]\n",
    "        return None\n",
    "    \n",
    "    def twoSum1(self, nums, target): # others'\n",
    "        \"\"\"\n",
    "        :type nums: List[int]\n",
    "        :type target: int\n",
    "        :rtype: List[int]\n",
    "        \"\"\"\n",
    "        for i in range(len(nums)-1):\n",
    "            for j in range(i+1, len(nums)):\n",
    "                if nums[i] + nums[j] == target:\n",
    "                    return [i, j]"
   ]
  },
  {
   "cell_type": "code",
   "execution_count": 21,
   "metadata": {},
   "outputs": [
    {
     "name": "stdout",
     "output_type": "stream",
     "text": [
      "None \n",
      "\n",
      "[0, 1] \n",
      "\n",
      "[1, 3] \n",
      "\n",
      "[0, 2] \n",
      "\n"
     ]
    }
   ],
   "source": [
    "test()\n",
    "test(nums=[2, 7, 11, 15], target=9)\n",
    "test(nums=[2, 7, 11, 15], target=22)\n",
    "test(nums=[-3, 4, 3, 90], target=0)"
   ]
  },
  {
   "cell_type": "markdown",
   "metadata": {},
   "source": [
    "### 2.用字典 value2index\n",
    "\n",
    "> 时间复杂度：O(n)\n",
    "> 空间复杂度：O(n)"
   ]
  },
  {
   "cell_type": "markdown",
   "metadata": {},
   "source": [
    "### Python"
   ]
  },
  {
   "cell_type": "code",
   "execution_count": null,
   "metadata": {
    "collapsed": true
   },
   "outputs": [],
   "source": [
    "class Solution(object):\n",
    "    def twoSum(self, nums, target):\n",
    "        \"\"\"\n",
    "        :type nums: List[int]\n",
    "        :type target: int\n",
    "        :rtype: List[int]\n",
    "        \"\"\"\n",
    "        d = {}\n",
    "        for i, num in enumerate(nums):\n",
    "            if target-num in d:\n",
    "                return i, d[target-num]\n",
    "            d[num] = i"
   ]
  },
  {
   "cell_type": "code",
   "execution_count": 22,
   "metadata": {},
   "outputs": [
    {
     "name": "stdout",
     "output_type": "stream",
     "text": [
      "None \n",
      "\n",
      "[0, 1] \n",
      "\n",
      "[1, 3] \n",
      "\n",
      "[0, 2] \n",
      "\n"
     ]
    }
   ],
   "source": [
    "test()\n",
    "test(nums=[2, 7, 11, 15], target=9)\n",
    "test(nums=[2, 7, 11, 15], target=22)\n",
    "test(nums=[-3, 4, 3, 90], target=0)"
   ]
  },
  {
   "cell_type": "markdown",
   "metadata": {},
   "source": [
    "### 3.排序后借助指针（可找到所有组合）\n",
    "\n",
    "> 时间复杂度：O(排序) + O(n)\n",
    "> 空间复杂度：O(n)"
   ]
  },
  {
   "cell_type": "markdown",
   "metadata": {},
   "source": [
    "### Python"
   ]
  },
  {
   "cell_type": "code",
   "execution_count": 28,
   "metadata": {
    "collapsed": true
   },
   "outputs": [],
   "source": [
    "class Solution(object):\n",
    "    def twoSum(self, nums, target):\n",
    "        nums.sort()\n",
    "        head = 0\n",
    "        tail = len(nums) - 1\n",
    "        # res = []\n",
    "        while head < tail:\n",
    "            if nums[head] + nums[tail] == target:\n",
    "                return [head, tail] # 找到一组就返回\n",
    "                # res.append([head, tail])\n",
    "                # head += 1\n",
    "                # tail -= 1\n",
    "            elif nums[head] + nums[tail] < target:\n",
    "                head += 1\n",
    "            else:\n",
    "                tail -= 1\n",
    "        # return res # 返回所有组合"
   ]
  },
  {
   "cell_type": "code",
   "execution_count": 29,
   "metadata": {},
   "outputs": [
    {
     "name": "stdout",
     "output_type": "stream",
     "text": [
      "None \n",
      "\n",
      "[0, 1] \n",
      "\n",
      "[1, 3] \n",
      "\n",
      "[0, 1] \n",
      "\n",
      "[0, 3] \n",
      "\n"
     ]
    }
   ],
   "source": [
    "test()\n",
    "test(nums=[2, 7, 11, 15], target=9)\n",
    "test(nums=[2, 7, 11, 15], target=22)\n",
    "test(nums=[-3, 4, 3, 90], target=0)\n",
    "test(nums=[2, 3, 6, 7, 11, 15], target=9)"
   ]
  },
  {
   "cell_type": "markdown",
   "metadata": {},
   "source": [
    "## 总结"
   ]
  },
  {
   "cell_type": "markdown",
   "metadata": {
    "collapsed": true
   },
   "source": [
    "### 1.看到这个问题，我最初是怎么思考的？我是怎么做的？遇到了哪些问题？\n",
    "> 思考：先实现直接循环的版本\n",
    "\n",
    "> 方法：直接循环，后一个值的循环区间在第一个值之后\n",
    "\n",
    "> 问题：a.第一次没考虑负数，例如[-3, 4, 3, 90]，用了 if ni > target: continue b.后一个值的循环区间是从 i+1 开始 c.使用 enumerate 时 return [i, i+1+j] 需要计算 i+1+j\n",
    "\n",
    "### 2.别人是怎么思考的？别人是怎么做的？\n",
    "> a.直接循环：使用 range 处理索引\n",
    "\n",
    "> b.字典 value2index：非常简洁高效，对于需要过程中记录索引采用了字典，查找快速\n",
    "\n",
    "> c.排序后借助指针（可找到所有组合）：很好的思路，数组排序后可简化操作\n",
    "\n",
    "### 3.与他的做法相比，我有哪些可以提升的地方？\n",
    "> a.对于 range 和 enumerate 的合理使用\n",
    "\n",
    "> b.对于列表等序列数据结构，如果需要过程中记录索引以及相关信息可以采用字典，这样可以将处理提高到线性速度，而且有利于查找\n",
    "\n",
    "> c.数组或链表数据结构大多都可采用指针来解决"
   ]
  },
  {
   "cell_type": "code",
   "execution_count": null,
   "metadata": {
    "collapsed": true
   },
   "outputs": [],
   "source": []
  }
 ],
 "metadata": {
  "kernelspec": {
   "display_name": "Python 3",
   "language": "python",
   "name": "python3"
  },
  "language_info": {
   "codemirror_mode": {
    "name": "ipython",
    "version": 3
   },
   "file_extension": ".py",
   "mimetype": "text/x-python",
   "name": "python",
   "nbconvert_exporter": "python",
   "pygments_lexer": "ipython3",
   "version": "3.6.1"
  }
 },
 "nbformat": 4,
 "nbformat_minor": 2
}
