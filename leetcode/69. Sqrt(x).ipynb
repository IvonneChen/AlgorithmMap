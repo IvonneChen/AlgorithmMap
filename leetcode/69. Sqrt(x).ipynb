{
 "cells": [
  {
   "cell_type": "markdown",
   "metadata": {},
   "source": [
    "# 问题：69. Sqrt(x)\n",
    "# Problem: [69. Sqrt(x)](https://leetcode.com/problems/sqrtx/description/)\n",
    "\n",
    "## 描述 Description\n",
    "> ### Implement int sqrt(int x).\n",
    "\n",
    "> ### Compute and return the square root of x, where x is guaranteed to be a non-negative integer.\n",
    "\n",
    "> ### Since the return type is an integer, the decimal digits are truncated and only the integer part of the result is returned."
   ]
  },
  {
   "cell_type": "markdown",
   "metadata": {},
   "source": [
    "## 例子 Example"
   ]
  },
  {
   "cell_type": "markdown",
   "metadata": {},
   "source": [
    "> ![example](https://github.com/Decalogue/AlgorithmMap/blob/master/img/leetcode/69.png \"example\")"
   ]
  },
  {
   "cell_type": "markdown",
   "metadata": {},
   "source": [
    "## 分析 Analysis"
   ]
  },
  {
   "cell_type": "markdown",
   "metadata": {},
   "source": [
    "核心思想：\n",
    "> 思路1：二分法\n",
    ">> 时间复杂度：O(logn)\n",
    ">> 空间复杂度：O(1)\n",
    "\n",
    "> 思路2：递归\n",
    ">> 时间复杂度：O(logn)\n",
    ">> 空间复杂度：O(1)\n",
    "\n",
    "> 思路3：牛顿法\n",
    ">> 时间复杂度：O(n)\n",
    ">> 空间复杂度：O(1)\n",
    "\n",
    "> 思路4：直接求解\n",
    ">> 时间复杂度：O(n)\n",
    ">> 空间复杂度：O(1)"
   ]
  },
  {
   "cell_type": "markdown",
   "metadata": {},
   "source": [
    "## 定义 Definition"
   ]
  },
  {
   "cell_type": "markdown",
   "metadata": {},
   "source": [
    "### Python"
   ]
  },
  {
   "cell_type": "code",
   "execution_count": 1,
   "metadata": {
    "collapsed": true
   },
   "outputs": [],
   "source": [
    "class Solution:\n",
    "    def mySqrt(self, x):\n",
    "        \"\"\"\n",
    "        :type x: int\n",
    "        :rtype: int\n",
    "        \"\"\""
   ]
  },
  {
   "cell_type": "markdown",
   "metadata": {},
   "source": [
    "### C++"
   ]
  },
  {
   "cell_type": "markdown",
   "metadata": {},
   "source": [
    "```c++\n",
    "class Solution {\n",
    "public:\n",
    "    int mySqrt(int x) {\n",
    "        \n",
    "    }\n",
    "};\n",
    "```"
   ]
  },
  {
   "cell_type": "markdown",
   "metadata": {},
   "source": [
    "### Java"
   ]
  },
  {
   "cell_type": "markdown",
   "metadata": {},
   "source": [
    "```java\n",
    "class Solution {\n",
    "    public int mySqrt(int x) {\n",
    "        \n",
    "    }\n",
    "}\n",
    "```"
   ]
  },
  {
   "cell_type": "markdown",
   "metadata": {},
   "source": [
    "## 解决方案 Solution"
   ]
  },
  {
   "cell_type": "markdown",
   "metadata": {},
   "source": [
    "### 1.二分法\n",
    "\n",
    "> 时间复杂度：O(logn)\n",
    "> 空间复杂度：O(1)"
   ]
  },
  {
   "cell_type": "markdown",
   "metadata": {},
   "source": [
    "### Python"
   ]
  },
  {
   "cell_type": "code",
   "execution_count": 4,
   "metadata": {},
   "outputs": [],
   "source": [
    "class Solution:\n",
    "    def mySqrt(self, x):\n",
    "        \"\"\"\n",
    "        :type x: int\n",
    "        :rtype: int\n",
    "        \"\"\"\n",
    "        if x < 4:\n",
    "            return 0 if x == 0 else 1\n",
    "        l, r = 1, x\n",
    "        m = int((l + r) / 2)\n",
    "        while l <= r:\n",
    "            if m == int(x / m):\n",
    "                return m\n",
    "            else:\n",
    "                if m > int(x / m):\n",
    "                    r = m - 1\n",
    "                else:\n",
    "                    l = m + 1\n",
    "                m = int((l + r) / 2)\n",
    "        return r"
   ]
  },
  {
   "cell_type": "markdown",
   "metadata": {},
   "source": [
    "### C++"
   ]
  },
  {
   "cell_type": "markdown",
   "metadata": {},
   "source": [
    "```c++\n",
    "\n",
    "```"
   ]
  },
  {
   "cell_type": "markdown",
   "metadata": {},
   "source": [
    "### Java"
   ]
  },
  {
   "cell_type": "markdown",
   "metadata": {},
   "source": [
    "```java\n",
    "class Solution {\n",
    "    public int mySqrt(int x) {\n",
    "        if (x <= 0) return 0;\n",
    "        int left = 1, right = x, mid = left + (right - left) / 2;\n",
    "        while (left <= right) {\n",
    "            if (mid == x / mid) return mid;\n",
    "            else {\n",
    "                if (mid > x / mid) right = mid - 1;\n",
    "                else left = mid + 1;\n",
    "                mid = left + (right - left) / 2;\n",
    "            }\n",
    "        }\n",
    "        return right;\n",
    "    }\n",
    "}\n",
    "```"
   ]
  },
  {
   "cell_type": "markdown",
   "metadata": {},
   "source": [
    "### 2递归\n",
    "\n",
    "> 时间复杂度：O(logn)\n",
    "> 空间复杂度：O(1)"
   ]
  },
  {
   "cell_type": "markdown",
   "metadata": {},
   "source": [
    "### Python"
   ]
  },
  {
   "cell_type": "code",
   "execution_count": null,
   "metadata": {
    "collapsed": true
   },
   "outputs": [],
   "source": [
    "class Solution:\n",
    "    def mySqrt(self, x):\n",
    "        \"\"\"\n",
    "        :type x: int\n",
    "        :rtype: int\n",
    "        \"\"\"\n",
    "        if x < 4:\n",
    "            return 0 if x == 0 else 1\n",
    "        res = int(2 * self.mySqrt(x / 4))\n",
    "        if 0 <= (res + 1) ** 2 <= x:\n",
    "            return res + 1\n",
    "        return res"
   ]
  },
  {
   "cell_type": "markdown",
   "metadata": {},
   "source": [
    "### C++"
   ]
  },
  {
   "cell_type": "markdown",
   "metadata": {},
   "source": [
    "```c++\n",
    "\n",
    "```"
   ]
  },
  {
   "cell_type": "markdown",
   "metadata": {},
   "source": [
    "### Java"
   ]
  },
  {
   "cell_type": "markdown",
   "metadata": {},
   "source": [
    "```java\n",
    "class Solution {\n",
    "    public int mySqrt(int x) {\n",
    "       if(x < 4) return x == 0 ? 0 : 1;\n",
    "    int res = 2 * mySqrt(x/4);\n",
    "    if((res+1) * (res+1) <= x && (res+1) * (res+1) >= 0) return res+1;\n",
    "    return res;\n",
    "    }\n",
    "}\n",
    "```"
   ]
  },
  {
   "cell_type": "markdown",
   "metadata": {},
   "source": [
    "### 3.牛顿法\n",
    "\n",
    "> 时间复杂度：O(n)\n",
    "> 空间复杂度：O(1)"
   ]
  },
  {
   "cell_type": "markdown",
   "metadata": {},
   "source": [
    "> 将求 x=sqrt(n) 转为求方程 f(x)=0 的解：\n",
    "    \n",
    "    f(x) = x^2 - n\n",
    "> 牛顿法可以很好快速求得 f(x)=0 的近似解，迭代公式如下：\n",
    "\n",
    "    x(n+1) = x(n) - f(x(n)) / f'(x(n))\n",
    "    x2 = x1 - f(x1) / f'(x1) = x1 - f(x1) / (2 * x1)\n",
    "> 对于本题来说，f(x) 的导数即为 2x，问题可以进一步转为：\n",
    "\n",
    "    x2 = x1 - (x1^2 - n)/(2 * x1) = x1 / 2 + n / (2 * x1)\n",
    "> 收敛结果为:\n",
    "    \n",
    "    |f(x)| < epsilon 或 |x1 - x2| < epsilon"
   ]
  },
  {
   "cell_type": "markdown",
   "metadata": {},
   "source": [
    "### Python"
   ]
  },
  {
   "cell_type": "code",
   "execution_count": null,
   "metadata": {
    "collapsed": true
   },
   "outputs": [],
   "source": [
    "class Solution:\n",
    "    def mySqrt(self, x):\n",
    "        \"\"\"\n",
    "        :type x: int\n",
    "        :rtype: int\n",
    "        \"\"\"\n",
    "        if x < 4:\n",
    "            return 0 if x == 0 else 1\n",
    "        x1, x2 = 0, 1\n",
    "        while abs(x1 - x2) > 0.000001:\n",
    "            x1 = x2\n",
    "            x2 = x1 / 2 + x / (2 * x1)\n",
    "        return int(x1)"
   ]
  },
  {
   "cell_type": "markdown",
   "metadata": {},
   "source": [
    "### C++"
   ]
  },
  {
   "cell_type": "markdown",
   "metadata": {},
   "source": [
    "```c++\n",
    "\n",
    "```"
   ]
  },
  {
   "cell_type": "markdown",
   "metadata": {},
   "source": [
    "### Java"
   ]
  },
  {
   "cell_type": "markdown",
   "metadata": {},
   "source": [
    "```Java\n",
    "class Solution {\n",
    "    public int mySqrt(int x) {\n",
    "        if (x <= 1) return x;\n",
    "        double x1 = 0, x2 = 1;\n",
    "        while (Math.abs(x1 - x2) > 0.000001) {\n",
    "            x1 = x2;\n",
    "            x2 = x1 / 2 + (double)x / (2 * x1);\n",
    "        }\n",
    "        return (int)x1;\n",
    "    }    \n",
    "}\n",
    "```"
   ]
  },
  {
   "cell_type": "markdown",
   "metadata": {},
   "source": [
    "### 4.直接求解\n",
    "\n",
    "> 时间复杂度：O(n)\n",
    "> 空间复杂度：O(1)"
   ]
  },
  {
   "cell_type": "markdown",
   "metadata": {},
   "source": [
    "### Python"
   ]
  },
  {
   "cell_type": "code",
   "execution_count": 2,
   "metadata": {
    "collapsed": true
   },
   "outputs": [],
   "source": [
    "class Solution:\n",
    "    def mySqrt(self, x):\n",
    "        return int(x ** 0.5)"
   ]
  },
  {
   "cell_type": "markdown",
   "metadata": {},
   "source": [
    "## 总结"
   ]
  },
  {
   "cell_type": "markdown",
   "metadata": {
    "collapsed": true
   },
   "source": [
    "### 1.看到这个问题，我最初是怎么思考的？我是怎么做的？遇到了哪些问题？\n",
    "> 思考：先分析 n<=4 的情况再递归\n",
    "\n",
    "> 问题：具体实现\n",
    "\n",
    "### 2.别人是怎么思考的？别人是怎么做的？\n",
    "> a.二分法 b.递归 c.牛顿法\n",
    "\n",
    "### 3.与他的做法相比，我有哪些可以提升的地方？\n",
    "> 复习掌握这一类问题的常见思路"
   ]
  },
  {
   "cell_type": "code",
   "execution_count": null,
   "metadata": {
    "collapsed": true
   },
   "outputs": [],
   "source": []
  }
 ],
 "metadata": {
  "kernelspec": {
   "display_name": "Python 3",
   "language": "python",
   "name": "python3"
  },
  "language_info": {
   "codemirror_mode": {
    "name": "ipython",
    "version": 3
   },
   "file_extension": ".py",
   "mimetype": "text/x-python",
   "name": "python",
   "nbconvert_exporter": "python",
   "pygments_lexer": "ipython3",
   "version": "3.6.1"
  }
 },
 "nbformat": 4,
 "nbformat_minor": 2
}
