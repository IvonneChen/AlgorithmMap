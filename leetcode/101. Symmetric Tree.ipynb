{
 "cells": [
  {
   "cell_type": "markdown",
   "metadata": {},
   "source": [
    "# 问题：101. Symmetric Tree\n",
    "# Problem: [101. Symmetric Tree](https://leetcode.com/problems/symmetric-tree/description/)\n",
    "\n",
    "## 描述 Description\n",
    "> ### Given a binary tree, check whether it is a mirror of itself (ie, symmetric around its center)."
   ]
  },
  {
   "cell_type": "markdown",
   "metadata": {},
   "source": [
    "## 例子 Example"
   ]
  },
  {
   "cell_type": "markdown",
   "metadata": {},
   "source": [
    "> ![example](https://github.com/Decalogue/AlgorithmMap/blob/master/img/leetcode/101.png \"example\")"
   ]
  },
  {
   "cell_type": "markdown",
   "metadata": {},
   "source": [
    "## 分析 Analysis"
   ]
  },
  {
   "cell_type": "markdown",
   "metadata": {},
   "source": [
    "核心思想：\n",
    "> 思路1：BFS 判断每一层是否是镜像\n",
    ">> 时间复杂度：O(n)\n",
    ">> 空间复杂度：O(n)\n",
    "\n",
    "> 思路2：DFS 拆解为判断两棵树是否对称\n",
    ">> 时间复杂度：O(n)\n",
    ">> 空间复杂度：O(1)"
   ]
  },
  {
   "cell_type": "markdown",
   "metadata": {},
   "source": [
    "## 定义 Definition"
   ]
  },
  {
   "cell_type": "markdown",
   "metadata": {},
   "source": [
    "### Python"
   ]
  },
  {
   "cell_type": "code",
   "execution_count": null,
   "metadata": {
    "collapsed": true
   },
   "outputs": [],
   "source": [
    "# Definition for a binary tree node.\n",
    "# class TreeNode:\n",
    "#     def __init__(self, x):\n",
    "#         self.val = x\n",
    "#         self.left = None\n",
    "#         self.right = None\n",
    "\n",
    "class Solution:\n",
    "    def isSymmetric(self, root):\n",
    "        \"\"\"\n",
    "        :type root: TreeNode\n",
    "        :rtype: bool\n",
    "        \"\"\""
   ]
  },
  {
   "cell_type": "markdown",
   "metadata": {},
   "source": [
    "### C++"
   ]
  },
  {
   "cell_type": "markdown",
   "metadata": {},
   "source": [
    "```c++\n",
    "/**\n",
    " * Definition for a binary tree node.\n",
    " * struct TreeNode {\n",
    " *     int val;\n",
    " *     TreeNode *left;\n",
    " *     TreeNode *right;\n",
    " *     TreeNode(int x) : val(x), left(NULL), right(NULL) {}\n",
    " * };\n",
    " */\n",
    "class Solution {\n",
    "public:\n",
    "    bool isSymmetric(TreeNode* root) {\n",
    "        \n",
    "    }\n",
    "};\n",
    "```"
   ]
  },
  {
   "cell_type": "markdown",
   "metadata": {},
   "source": [
    "### Java"
   ]
  },
  {
   "cell_type": "markdown",
   "metadata": {},
   "source": [
    "```java\n",
    "/**\n",
    " * Definition for a binary tree node.\n",
    " * public class TreeNode {\n",
    " *     int val;\n",
    " *     TreeNode left;\n",
    " *     TreeNode right;\n",
    " *     TreeNode(int x) { val = x; }\n",
    " * }\n",
    " */\n",
    "class Solution {\n",
    "    public boolean isSymmetric(TreeNode root) {\n",
    "        \n",
    "    }\n",
    "}\n",
    "```"
   ]
  },
  {
   "cell_type": "markdown",
   "metadata": {},
   "source": [
    "## 解决方案 Solution"
   ]
  },
  {
   "cell_type": "markdown",
   "metadata": {},
   "source": [
    "### 1.BFS 判断每一层是否是镜像\n",
    "\n",
    "> 时间复杂度：O(n)\n",
    "> 空间复杂度：O(n)"
   ]
  },
  {
   "cell_type": "markdown",
   "metadata": {},
   "source": [
    "### Python"
   ]
  },
  {
   "cell_type": "code",
   "execution_count": null,
   "metadata": {
    "collapsed": true
   },
   "outputs": [],
   "source": [
    "class Solution: # my\n",
    "    def isSymmetric(self, root):    \n",
    "        if not root:\n",
    "            return True\n",
    "        tqueue = collections.deque()\n",
    "        tqueue.append(root)\n",
    "        while tqueue:\n",
    "            nextlevel = collections.deque()\n",
    "            temp = []\n",
    "            while tqueue:\n",
    "                front = tqueue.popleft()\n",
    "                if front.left:\n",
    "                    nextlevel.append(front.left)\n",
    "                    temp.append(front.left.val)\n",
    "                else:\n",
    "                    temp.append(None)\n",
    "                if front.right:\n",
    "                    nextlevel.append(front.right)\n",
    "                    temp.append(front.right.val)\n",
    "                else:\n",
    "                    temp.append(None)\n",
    "            tqueue = nextlevel\n",
    "            if temp != temp[::-1]:\n",
    "                return False\n",
    "        return True"
   ]
  },
  {
   "cell_type": "markdown",
   "metadata": {},
   "source": [
    "### C++"
   ]
  },
  {
   "cell_type": "markdown",
   "metadata": {},
   "source": [
    "```c++\n",
    "\n",
    "```"
   ]
  },
  {
   "cell_type": "markdown",
   "metadata": {},
   "source": [
    "### Java"
   ]
  },
  {
   "cell_type": "markdown",
   "metadata": {},
   "source": [
    "```java\n",
    "\n",
    "```"
   ]
  },
  {
   "cell_type": "markdown",
   "metadata": {},
   "source": [
    "### 2.DFS 拆解为判断两棵树是否对称\n",
    "\n",
    "> 时间复杂度：O(n)\n",
    "> 空间复杂度：O(1)"
   ]
  },
  {
   "cell_type": "markdown",
   "metadata": {},
   "source": [
    "### Python"
   ]
  },
  {
   "cell_type": "code",
   "execution_count": null,
   "metadata": {
    "collapsed": true
   },
   "outputs": [],
   "source": [
    "class Solution: # others\n",
    "    def isSameTree(self, p, q):\n",
    "        \"\"\"\n",
    "        :type p: TreeNode\n",
    "        :type q: TreeNode\n",
    "        :rtype: bool\n",
    "        改造了problem isSameTree，变成一个测试两个树，是否镜像对称的函数\n",
    "        改造很简单，将递归中的左左对比、右右对比，改成左右和右左对比即可\n",
    "        \"\"\"\n",
    "        if p and q :\n",
    "            if p.val == q.val: #用递归和方式求解，改造了递归部分的参数，\n",
    "                return (Solution.isSameTree(self,p.left,q.right) and Solution.isSameTree(self,p.right,q.left))\n",
    "            else:\n",
    "                return False\n",
    "        elif not p and not q:\n",
    "            return True\n",
    "        else:\n",
    "            return False\n",
    "\n",
    "    def isSymmetric(self, root):\n",
    "        \"\"\"\n",
    "        :type root: TreeNode\n",
    "        :rtype: bool\n",
    "        \"\"\"\n",
    "        if root:\n",
    "            return Solution.isSameTree(self,root.left,root.right)\n",
    "        else:\n",
    "            return True  "
   ]
  },
  {
   "cell_type": "markdown",
   "metadata": {},
   "source": [
    "### C++"
   ]
  },
  {
   "cell_type": "markdown",
   "metadata": {},
   "source": [
    "```c++\n",
    "\n",
    "```"
   ]
  },
  {
   "cell_type": "markdown",
   "metadata": {},
   "source": [
    "### Java"
   ]
  },
  {
   "cell_type": "markdown",
   "metadata": {},
   "source": [
    "```Java\n",
    "\n",
    "```"
   ]
  },
  {
   "cell_type": "markdown",
   "metadata": {},
   "source": [
    "## 总结"
   ]
  },
  {
   "cell_type": "markdown",
   "metadata": {
    "collapsed": true
   },
   "source": [
    "### 1.看到这个问题，我最初是怎么思考的？我是怎么做的？遇到了哪些问题？\n",
    "> 思考：BFS 类似于 [104. Maximum Depth of Binary Tree](https://github.com/Decalogue/AlgorithmMap/blob/master/leetcode/104.md)\n",
    "\n",
    "> 方法：判断每一层是否是镜像\n",
    "\n",
    "> 问题：需要 temp 辅助存储值\n",
    "\n",
    "### 2.别人是怎么思考的？别人是怎么做的？\n",
    "> DFS 拆解为判断两棵树是否对称\n",
    "\n",
    "### 3.与他的做法相比，我有哪些可以提升的地方？\n",
    "> 拆解为子问题的过程"
   ]
  },
  {
   "cell_type": "code",
   "execution_count": null,
   "metadata": {
    "collapsed": true
   },
   "outputs": [],
   "source": []
  }
 ],
 "metadata": {
  "kernelspec": {
   "display_name": "Python 3",
   "language": "python",
   "name": "python3"
  },
  "language_info": {
   "codemirror_mode": {
    "name": "ipython",
    "version": 3
   },
   "file_extension": ".py",
   "mimetype": "text/x-python",
   "name": "python",
   "nbconvert_exporter": "python",
   "pygments_lexer": "ipython3",
   "version": "3.6.1"
  }
 },
 "nbformat": 4,
 "nbformat_minor": 2
}
