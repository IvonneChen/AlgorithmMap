{
 "cells": [
  {
   "cell_type": "markdown",
   "metadata": {},
   "source": [
    "# 问题：39. Combination Sum\n",
    "# Problem: [39. Combination Sum](https://leetcode.com/problems/combination-sum/description/)\n",
    "\n",
    "## 描述 Description\n",
    "> ### Given a set of candidate numbers (candidates) (without duplicates) and a target number (target), find all unique combinations in candidates where the candidate numbers sums to target.\n",
    "\n",
    "> ### The same repeated number may be chosen from candidates unlimited number of times.\n",
    "\n",
    "> ### Note:\n",
    ">> ### All numbers (including target) will be positive integers.\n",
    "\n",
    ">> ### The solution set must not contain duplicate combinations."
   ]
  },
  {
   "cell_type": "markdown",
   "metadata": {},
   "source": [
    "## 例子 Example"
   ]
  },
  {
   "cell_type": "markdown",
   "metadata": {},
   "source": [
    "> ![example](https://github.com/Decalogue/AlgorithmMap/blob/master/img/leetcode/39.png \"example\")"
   ]
  },
  {
   "cell_type": "markdown",
   "metadata": {},
   "source": [
    "## 分析 Analysis"
   ]
  },
  {
   "cell_type": "markdown",
   "metadata": {},
   "source": [
    "核心思想：\n",
    "> 思路1：BackTrack\n",
    ">> 时间复杂度：O(n!)\n",
    ">> 空间复杂度：O(n)\n",
    "\n",
    "> 思路2：\n",
    ">> 时间复杂度：O(n)\n",
    ">> 空间复杂度：O(n)"
   ]
  },
  {
   "cell_type": "markdown",
   "metadata": {},
   "source": [
    "## 定义 Definition"
   ]
  },
  {
   "cell_type": "markdown",
   "metadata": {},
   "source": [
    "### Python"
   ]
  },
  {
   "cell_type": "code",
   "execution_count": 1,
   "metadata": {
    "collapsed": true
   },
   "outputs": [],
   "source": [
    "class Solution:\n",
    "    def combinationSum(self, candidates, target):\n",
    "        \"\"\"\n",
    "        :type candidates: List[int]\n",
    "        :type target: int\n",
    "        :rtype: List[List[int]]\n",
    "        \"\"\""
   ]
  },
  {
   "cell_type": "markdown",
   "metadata": {},
   "source": [
    "### C++"
   ]
  },
  {
   "cell_type": "markdown",
   "metadata": {},
   "source": [
    "```c++\n",
    "class Solution {\n",
    "public:\n",
    "    vector<vector<int>> combinationSum(vector<int>& candidates, int target) {\n",
    "        \n",
    "    }\n",
    "};\n",
    "```"
   ]
  },
  {
   "cell_type": "markdown",
   "metadata": {},
   "source": [
    "### Java"
   ]
  },
  {
   "cell_type": "markdown",
   "metadata": {},
   "source": [
    "```java\n",
    "class Solution {\n",
    "    public List<List<Integer>> combinationSum(int[] candidates, int target) {\n",
    "        \n",
    "    }\n",
    "}\n",
    "```"
   ]
  },
  {
   "cell_type": "markdown",
   "metadata": {},
   "source": [
    "## 解决方案 Solution"
   ]
  },
  {
   "cell_type": "markdown",
   "metadata": {},
   "source": [
    "### 1.BackTrack\n",
    "\n",
    "> 时间复杂度：O(n!)\n",
    "> 空间复杂度：O(n)"
   ]
  },
  {
   "cell_type": "markdown",
   "metadata": {},
   "source": [
    "### Python"
   ]
  },
  {
   "cell_type": "code",
   "execution_count": null,
   "metadata": {
    "collapsed": true
   },
   "outputs": [],
   "source": [
    "from copy import deepcopy\n",
    "\n",
    "class Solution:\n",
    "    def combinationSum(self, candidates, target):\n",
    "        \"\"\"\n",
    "        :type candidates: List[int]\n",
    "        :type target: int\n",
    "        :rtype: List[List[int]]\n",
    "        \"\"\"\n",
    "        res = []\n",
    "        temp = []\n",
    "        candidates.sort()\n",
    "        self.backtrack(res, temp, candidates, target, 0)\n",
    "        return res\n",
    "        \n",
    "    def backtrack(self, res, temp, nums, remain, start):\n",
    "        if remain < 0:\n",
    "            return False\n",
    "        elif remain == 0:\n",
    "            res.append(deepcopy(temp))\n",
    "            return False\n",
    "        else:\n",
    "            for i in range(start, len(nums)):\n",
    "                temp.append(nums[i])\n",
    "                flag = self.backtrack(res, temp, nums, remain-nums[i], i)\n",
    "                temp.pop(len(temp) - 1)\n",
    "                if not flag:\n",
    "                    break\n",
    "            return True"
   ]
  },
  {
   "cell_type": "code",
   "execution_count": null,
   "metadata": {
    "collapsed": true
   },
   "outputs": [],
   "source": [
    "class Solution:\n",
    "    def combinationSum(self, candidates, target):\n",
    "        candidates.sort()\n",
    "        self.res = []\n",
    "        self.backtrack(0, candidates, target, [])\n",
    "        return self.res\n",
    "        \n",
    "    def backtrack(self, start, candidates, target, valuelist):\n",
    "        if target == 0:\n",
    "            return self.res.append(valuelist)\n",
    "        i = start\n",
    "        while i < len(candidates):\n",
    "            if candidates[i] > target:\n",
    "                return\n",
    "            self.backtrack(i, candidates, target - candidates[i], valuelist + [candidates[i]])\n",
    "            i += 1"
   ]
  },
  {
   "cell_type": "markdown",
   "metadata": {},
   "source": [
    "### C++"
   ]
  },
  {
   "cell_type": "markdown",
   "metadata": {},
   "source": [
    "```c++\n",
    "\n",
    "```"
   ]
  },
  {
   "cell_type": "markdown",
   "metadata": {},
   "source": [
    "### Java"
   ]
  },
  {
   "cell_type": "markdown",
   "metadata": {},
   "source": [
    "```java\n",
    "public class Solution \n",
    "{\n",
    "    public List<List<Integer>> combinationSum(int[] candidates, int target) \n",
    "    {\n",
    "        List<List<Integer>> list = new ArrayList<>();\n",
    "        Arrays.sort(candidates);\n",
    "        backtrack(list, new ArrayList<>(), candidates, target, 0);\n",
    "        \n",
    "        return list;\n",
    "    }\n",
    "    \n",
    "    public static boolean backtrack(List<List<Integer>> list, List<Integer> tempList, int[] nums, int remain, int start)\n",
    "    {\n",
    "        if(remain < 0) // if remain is 0 or less than 0, meaning the rest numbers are even greater\n",
    "            return false; // therefore, no need to continue the loop, return false\n",
    "        else if(remain == 0)\n",
    "        {\n",
    "            list.add(new ArrayList<>(tempList));\n",
    "            return false;\n",
    "        }\n",
    "        else\n",
    "        {\n",
    "            for(int i=start; i<nums.length; i++)\n",
    "            {\n",
    "                boolean flag;\n",
    "                tempList.add(nums[i]);\n",
    "                flag = backtrack(list, tempList, nums, remain - nums[i], i); // not i + 1 because we can use same number.\n",
    "                tempList.remove(tempList.size() - 1);\n",
    "                \n",
    "                if(!flag) // if find a sum or fail to find a sum, there is no need to continue\n",
    "                    break;// because it is a sorted array with no duplicates, the rest numbers are even greater.\n",
    "            }\n",
    "            \n",
    "            return true; // return true because previous tempList didn't find a sum or fail a sum\n",
    "        }\n",
    "    }\n",
    "}\n",
    "```"
   ]
  },
  {
   "cell_type": "markdown",
   "metadata": {},
   "source": [
    "### 2.\n",
    "\n",
    "> 时间复杂度：O(n!)\n",
    "> 空间复杂度：O(n)"
   ]
  },
  {
   "cell_type": "markdown",
   "metadata": {},
   "source": [
    "### Python"
   ]
  },
  {
   "cell_type": "code",
   "execution_count": null,
   "metadata": {
    "collapsed": true
   },
   "outputs": [],
   "source": []
  },
  {
   "cell_type": "markdown",
   "metadata": {},
   "source": [
    "### C++"
   ]
  },
  {
   "cell_type": "markdown",
   "metadata": {},
   "source": [
    "```c++\n",
    "\n",
    "```"
   ]
  },
  {
   "cell_type": "markdown",
   "metadata": {},
   "source": [
    "### Java"
   ]
  },
  {
   "cell_type": "markdown",
   "metadata": {},
   "source": [
    "```Java\n",
    "\n",
    "```"
   ]
  },
  {
   "cell_type": "markdown",
   "metadata": {},
   "source": [
    "## 总结"
   ]
  },
  {
   "cell_type": "markdown",
   "metadata": {
    "collapsed": true
   },
   "source": [
    "### 1.看到这个问题，我最初是怎么思考的？我是怎么做的？遇到了哪些问题？\n",
    "> 思考：遍历\n",
    "\n",
    "> 问题：超时\n",
    "\n",
    "### 2.别人是怎么思考的？别人是怎么做的？\n",
    "> 回溯\n",
    "\n",
    "### 3.与他的做法相比，我有哪些可以提升的地方？\n",
    "> 对于题意的分析：[原文](https://www.cnblogs.com/jimmycheng/p/7198156.html?utm_source=itdadao&utm_medium=referral)"
   ]
  },
  {
   "cell_type": "code",
   "execution_count": null,
   "metadata": {
    "collapsed": true
   },
   "outputs": [],
   "source": []
  }
 ],
 "metadata": {
  "kernelspec": {
   "display_name": "Python 3",
   "language": "python",
   "name": "python3"
  },
  "language_info": {
   "codemirror_mode": {
    "name": "ipython",
    "version": 3
   },
   "file_extension": ".py",
   "mimetype": "text/x-python",
   "name": "python",
   "nbconvert_exporter": "python",
   "pygments_lexer": "ipython3",
   "version": "3.6.1"
  }
 },
 "nbformat": 4,
 "nbformat_minor": 2
}
