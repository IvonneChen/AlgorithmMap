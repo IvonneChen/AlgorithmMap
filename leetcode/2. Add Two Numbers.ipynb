{
 "cells": [
  {
   "cell_type": "markdown",
   "metadata": {},
   "source": [
    "# 问题：2. Add Two Numbers\n",
    "# Problem: [2. Add Two Numbers](https://leetcode.com/problems/add-two-numbers/description/)\n",
    "\n",
    "## 描述 Description\n",
    "> ### You are given two non-empty linked lists representing two non-negative integers. The digits are stored in reverse order and each of their nodes contain a single digit. Add the two numbers and return it as a linked list.\n",
    "\n",
    "> ### You may assume the two numbers do not contain any leading zero, except the number 0 itself."
   ]
  },
  {
   "cell_type": "markdown",
   "metadata": {},
   "source": [
    "## 例子 Example"
   ]
  },
  {
   "cell_type": "markdown",
   "metadata": {},
   "source": [
    "> ![example](https://github.com/Decalogue/AlgorithmMap/blob/master/img/leetcode/2.png \"example\")"
   ]
  },
  {
   "cell_type": "markdown",
   "metadata": {},
   "source": [
    "## 分析 Analysis"
   ]
  },
  {
   "cell_type": "markdown",
   "metadata": {},
   "source": [
    "核心思想：\n",
    "> 思路1：遍历，对于长度不同的部分单独进行判断（my）\n",
    ">> 时间复杂度：O(n)\n",
    ">> 空间复杂度：O(n)\n",
    "\n",
    "> 思路2：遍历，对于长度不同的部分单独进行判断（others）\n",
    ">> 时间复杂度：O(n)\n",
    ">> 空间复杂度：O(n)"
   ]
  },
  {
   "cell_type": "markdown",
   "metadata": {},
   "source": [
    "## 定义 Definition"
   ]
  },
  {
   "cell_type": "markdown",
   "metadata": {},
   "source": [
    "### Python"
   ]
  },
  {
   "cell_type": "code",
   "execution_count": null,
   "metadata": {
    "collapsed": true
   },
   "outputs": [],
   "source": [
    "# Definition for singly-linked list.\n",
    "# class ListNode:\n",
    "     # def __init__(self, x):\n",
    "         # self.val = x\n",
    "         # self.next = None\n",
    "\n",
    "class Solution:\n",
    "    def addTwoNumbers(self, l1, l2):\n",
    "        \"\"\"\n",
    "        :type l1: ListNode\n",
    "        :type l2: ListNode\n",
    "        :rtype: ListNode\n",
    "        \"\"\""
   ]
  },
  {
   "cell_type": "markdown",
   "metadata": {},
   "source": [
    "### C++"
   ]
  },
  {
   "cell_type": "markdown",
   "metadata": {},
   "source": [
    "```c++\n",
    "/**\n",
    " * Definition for singly-linked list.\n",
    " * struct ListNode {\n",
    " *     int val;\n",
    " *     ListNode *next;\n",
    " *     ListNode(int x) : val(x), next(NULL) {}\n",
    " * };\n",
    " */\n",
    "class Solution {\n",
    "public:\n",
    "    ListNode* addTwoNumbers(ListNode* l1, ListNode* l2) {\n",
    "        \n",
    "    }\n",
    "};\n",
    "```"
   ]
  },
  {
   "cell_type": "markdown",
   "metadata": {},
   "source": [
    "### Java"
   ]
  },
  {
   "cell_type": "markdown",
   "metadata": {},
   "source": [
    "```java\n",
    "/**\n",
    " * Definition for singly-linked list.\n",
    " * public class ListNode {\n",
    " *     int val;\n",
    " *     ListNode next;\n",
    " *     ListNode(int x) { val = x; }\n",
    " * }\n",
    " */\n",
    "class Solution {\n",
    "    public ListNode addTwoNumbers(ListNode l1, ListNode l2) {\n",
    "        \n",
    "    }\n",
    "}\n",
    "```"
   ]
  },
  {
   "cell_type": "markdown",
   "metadata": {},
   "source": [
    "## 解决方案 Solution"
   ]
  },
  {
   "cell_type": "markdown",
   "metadata": {},
   "source": [
    "### 1.遍历，对于长度不同的部分单独进行判断（my）\n",
    "\n",
    "> 时间复杂度：O(n)\n",
    "> 空间复杂度：O(n)"
   ]
  },
  {
   "cell_type": "markdown",
   "metadata": {},
   "source": [
    "### Python"
   ]
  },
  {
   "cell_type": "code",
   "execution_count": null,
   "metadata": {
    "collapsed": true
   },
   "outputs": [],
   "source": [
    "class Solution:\n",
    "    def addTwoNumbers(self, l1, l2):\n",
    "        \"\"\"\n",
    "        :type l1: ListNode\n",
    "        :type l2: ListNode\n",
    "        :rtype: ListNode\n",
    "        \"\"\"\n",
    "        if l1 == None:\n",
    "            return l2\n",
    "        elif l2 == None:\n",
    "            return l1\n",
    "        tag = 0 # 进位标志\n",
    "        h1 = l1\n",
    "        h2 = l2\n",
    "        h = ListNode(0) # 结果\n",
    "        res = h\n",
    "        while h1 != None and h2 != None: # 加法直到其中一个为空\n",
    "            temp = h1.val + h2.val + tag\n",
    "            res.val = temp % 10\n",
    "            tag = int(temp / 10)\n",
    "            h1 = h1.next\n",
    "            h2 = h2.next\n",
    "            if h1 != None and h2 != None:\n",
    "                res.next = ListNode(0)\n",
    "                res = res.next\n",
    "        if tag == 0: # 没有进位时直接复制较长链表的剩余部分\n",
    "            res.next = h1 if h1 != None else h2\n",
    "        else:\n",
    "            if h1 == None and h2 == None: # 有进位但没有链表时生成一个进位节点\n",
    "                res.next = ListNode(tag)\n",
    "            else: # 有进位对较长链表的剩余部分进行加法\n",
    "                th = h1 if h1 != None else h2\n",
    "                while th != None:\n",
    "                    res.next = th\n",
    "                    res = res.next\n",
    "                    temp = th.val + tag\n",
    "                    res.val = temp % 10\n",
    "                    tag = int(temp / 10)\n",
    "                    th = th.next\n",
    "        if tag != 0: # 还有进位时生成一个进位节点\n",
    "            res.next = ListNode(tag)\n",
    "        return h"
   ]
  },
  {
   "cell_type": "markdown",
   "metadata": {},
   "source": [
    "### C++"
   ]
  },
  {
   "cell_type": "markdown",
   "metadata": {},
   "source": [
    "```c++\n",
    "\n",
    "```"
   ]
  },
  {
   "cell_type": "markdown",
   "metadata": {},
   "source": [
    "### Java"
   ]
  },
  {
   "cell_type": "markdown",
   "metadata": {},
   "source": [
    "```java\n",
    "\n",
    "```"
   ]
  },
  {
   "cell_type": "markdown",
   "metadata": {},
   "source": [
    "### 2.遍历，对于长度不同的部分单独进行判断（others）\n",
    "\n",
    "> 时间复杂度：O(n)\n",
    "> 空间复杂度：O(n)"
   ]
  },
  {
   "cell_type": "markdown",
   "metadata": {},
   "source": [
    "### Python"
   ]
  },
  {
   "cell_type": "code",
   "execution_count": null,
   "metadata": {
    "collapsed": true
   },
   "outputs": [],
   "source": [
    "class Solution1:\n",
    "    def addTwoNumbers(self, l1, l2):\n",
    "        \"\"\"\n",
    "        :type l1: ListNode\n",
    "        :type l2: ListNode\n",
    "        :rtype: ListNode\n",
    "        \"\"\"\n",
    "        \n",
    "        a = l1\n",
    "        b = l2\n",
    "        \n",
    "        curr = a\n",
    "        carry = 0\n",
    "        i = 1\n",
    "        total = 0\n",
    "        while(a and b):\n",
    "            sum_val = a.val + b.val + carry\n",
    "            carry = int(sum_val / 10)\n",
    "            sum_val = sum_val % 10\n",
    "            \n",
    "            curr = a\n",
    "            \n",
    "            a.val = sum_val\n",
    "            a = a.next\n",
    "            b = b.next\n",
    "        \n",
    "        while(a):\n",
    "            a.val = a.val + carry\n",
    "            carry = int(a.val / 10)\n",
    "            a.val = a.val % 10\n",
    "            \n",
    "            curr = a\n",
    "            a = a.next\n",
    "        \n",
    "        if(b):\n",
    "            curr.next = b\n",
    "            \n",
    "        while(b):\n",
    "            b.val = b.val + carry\n",
    "            carry = int(b.val / 10)\n",
    "            b.val = b.val % 10\n",
    "            curr = b\n",
    "            b = b.next\n",
    "        \n",
    "        if(carry):\n",
    "            curr.next = ListNode(carry)\n",
    "        \n",
    "        \n",
    "        return l1\n",
    "\n",
    "class Solution2:\n",
    "    def addTwoNumbers(self, l1, l2):\n",
    "        \"\"\"\n",
    "        :type l1: ListNode\n",
    "        :type l2: ListNode\n",
    "        :rtype: ListNode\n",
    "        \"\"\"\n",
    "        p = l1\n",
    "        q = l2\n",
    "        t = None\n",
    "        c = 0\n",
    "        while p and q:\n",
    "            p.val = p.val + q.val + c\n",
    "            c = p.val // 10\n",
    "            p.val = p.val%10\n",
    "            t = p\n",
    "            p = p.next\n",
    "            q = q.next\n",
    "        while p:\n",
    "            p.val = p.val + c\n",
    "            c = p.val //10\n",
    "            p.val = p.val%10\n",
    "            t = p\n",
    "            p = p.next\n",
    "        p = t\n",
    "        p.next = q\n",
    "        p = p.next\n",
    "        while p:\n",
    "            p.val = p.val + c\n",
    "            c = p.val //10\n",
    "            p.val = p.val%10\n",
    "            t = p\n",
    "            p = p.next\n",
    "        if c == 1:\n",
    "            p = t\n",
    "            x = ListNode(1)\n",
    "            p.next = x\n",
    "        return l1"
   ]
  },
  {
   "cell_type": "markdown",
   "metadata": {},
   "source": [
    "### C++"
   ]
  },
  {
   "cell_type": "markdown",
   "metadata": {},
   "source": [
    "```c++\n",
    "\n",
    "```"
   ]
  },
  {
   "cell_type": "markdown",
   "metadata": {},
   "source": [
    "### Java"
   ]
  },
  {
   "cell_type": "markdown",
   "metadata": {},
   "source": [
    "```Java\n",
    "\n",
    "```"
   ]
  },
  {
   "cell_type": "markdown",
   "metadata": {},
   "source": [
    "## 总结"
   ]
  },
  {
   "cell_type": "markdown",
   "metadata": {
    "collapsed": true
   },
   "source": [
    "### 1.看到这个问题，我最初是怎么思考的？我是怎么做的？遇到了哪些问题？\n",
    "> 思考：遍历，对于长度不同的部分单独进行判断\n",
    "\n",
    "> 方法：将 l1 和 l2 合并到一个新的链表中，过程中考虑进位，当较短链表为空时复制较长链表剩余部分并考虑进位\n",
    "\n",
    "> 问题：指针位置以及遍历中的逻辑\n",
    "\n",
    "### 2.别人是怎么思考的？别人是怎么做的？\n",
    "> a.整除 // b.加法进位最大为 1\n",
    "\n",
    "### 3.与他的做法相比，我有哪些可以提升的地方？\n",
    "> 指针与常见运算的熟练程度"
   ]
  },
  {
   "cell_type": "code",
   "execution_count": null,
   "metadata": {
    "collapsed": true
   },
   "outputs": [],
   "source": []
  }
 ],
 "metadata": {
  "kernelspec": {
   "display_name": "Python 3",
   "language": "python",
   "name": "python3"
  },
  "language_info": {
   "codemirror_mode": {
    "name": "ipython",
    "version": 3
   },
   "file_extension": ".py",
   "mimetype": "text/x-python",
   "name": "python",
   "nbconvert_exporter": "python",
   "pygments_lexer": "ipython3",
   "version": "3.6.1"
  }
 },
 "nbformat": 4,
 "nbformat_minor": 2
}
