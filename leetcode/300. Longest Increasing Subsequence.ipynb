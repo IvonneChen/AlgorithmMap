{
 "cells": [
  {
   "cell_type": "markdown",
   "metadata": {},
   "source": [
    "# 问题：300. Longest Increasing Subsequence 最长递增子序列\n",
    "# Problem: [300. Longest Increasing Subsequence](https://leetcode.com/problems/longest-increasing-subsequence/description/)\n",
    "\n",
    "## 描述 Description\n",
    "> ### Given an unsorted array of integers, find the length of longest increasing subsequence.\n",
    "\n",
    "> ### Note:\n",
    ">>### There may be more than one LIS combination, it is only necessary for you to return the length.\n",
    "\n",
    ">>### Your algorithm should run in O(n^2) complexity.\n",
    "\n",
    "> ### Follow up: Could you improve it to O(n log n) time complexity?"
   ]
  },
  {
   "cell_type": "markdown",
   "metadata": {},
   "source": [
    "## 例子 Example"
   ]
  },
  {
   "cell_type": "markdown",
   "metadata": {},
   "source": [
    "> ![example](https://github.com/Decalogue/AlgorithmMap/blob/master/img/leetcode/300.png \"example\")"
   ]
  },
  {
   "cell_type": "markdown",
   "metadata": {},
   "source": [
    "## 分析 Analysis"
   ]
  },
  {
   "cell_type": "markdown",
   "metadata": {},
   "source": [
    "核心思想：\n",
    "> 思路1：动态规划\n",
    ">> 时间复杂度：O(n^2)\n",
    ">> 空间复杂度：O(n)\n",
    "\n",
    "> 思路2：动态规划 + 二分查找\n",
    ">> 时间复杂度：O(nlogn)\n",
    ">> 空间复杂度：O(n)"
   ]
  },
  {
   "cell_type": "markdown",
   "metadata": {},
   "source": [
    "## 定义 Definition"
   ]
  },
  {
   "cell_type": "markdown",
   "metadata": {},
   "source": [
    "### Python"
   ]
  },
  {
   "cell_type": "code",
   "execution_count": null,
   "metadata": {
    "collapsed": true
   },
   "outputs": [],
   "source": [
    "class Solution:\n",
    "    def lengthOfLIS(self, nums):\n",
    "        \"\"\"\n",
    "        :type nums: List[int]\n",
    "        :rtype: int\n",
    "        \"\"\""
   ]
  },
  {
   "cell_type": "markdown",
   "metadata": {},
   "source": [
    "### C++"
   ]
  },
  {
   "cell_type": "markdown",
   "metadata": {},
   "source": [
    "```c++\n",
    "class Solution {\n",
    "public:\n",
    "    int lengthOfLIS(vector<int>& nums) {\n",
    "        \n",
    "    }\n",
    "};\n",
    "```"
   ]
  },
  {
   "cell_type": "markdown",
   "metadata": {},
   "source": [
    "### Java"
   ]
  },
  {
   "cell_type": "markdown",
   "metadata": {},
   "source": [
    "```java\n",
    "class Solution {\n",
    "    public int lengthOfLIS(int[] nums) {\n",
    "        \n",
    "    }\n",
    "}\n",
    "```"
   ]
  },
  {
   "cell_type": "markdown",
   "metadata": {},
   "source": [
    "## 解决方案 Solution"
   ]
  },
  {
   "cell_type": "markdown",
   "metadata": {},
   "source": [
    "### 1.动态规划\n",
    "\n",
    "> 时间复杂度：O(n^2)\n",
    "> 空间复杂度：O(n)"
   ]
  },
  {
   "cell_type": "markdown",
   "metadata": {},
   "source": [
    "### Python"
   ]
  },
  {
   "cell_type": "code",
   "execution_count": 3,
   "metadata": {
    "collapsed": true
   },
   "outputs": [],
   "source": [
    "class Solution:\n",
    "    def lengthOfLIS(self, nums):\n",
    "        \"\"\"\n",
    "        :type nums: List[int]\n",
    "        :rtype: int\n",
    "        \"\"\"\n",
    "        if len(nums) == 0:\n",
    "            return 0\n",
    "        dp = self.getdp_n(nums)\n",
    "        l = 0 # 最长递增子序列长度\n",
    "        index = 0 # 最长递增子序列末尾值索引\n",
    "        # 遍历 dp 数组，找到最大值以及位置\n",
    "        for i, v in enumerate(dp):\n",
    "            if v > l:\n",
    "                l = v\n",
    "                index = i\n",
    "        # 只需要返回长度(也可在 getdp_n 中记录从而省略上面遍历这一步)\n",
    "        return l\n",
    "\n",
    "        # 需要返回子序列\n",
    "        # lis = [0] * l\n",
    "        # 根据 dp 数组逆序还原出决策路径\n",
    "        # l -= 1\n",
    "        # lis[l] = nums[index]\n",
    "        # j = index\n",
    "        # for i in range(index, -1, -1):\n",
    "            # if nums[i] < nums[j] and dp[i] == dp[j] - 1:\n",
    "                # l -= 1\n",
    "                # lis[l] = nums[i]\n",
    "                # j = i\n",
    "        # return lis\n",
    "    \n",
    "    def getdp_n(self, nums):\n",
    "        # 生成长度为N的数组dp, dp[i]表示在以nums[i]这个数结尾的情况下，nums[0..i]中的最大递增子序列长度\n",
    "        dp = [1] * len(nums)\n",
    "        for i in range(len(nums)):\n",
    "            dp[i] = 1\n",
    "            for j in range(0, i):\n",
    "                if nums[i] > nums[j]:\n",
    "                    dp[i] = max(dp[i], dp[j]+1)\n",
    "        return dp"
   ]
  },
  {
   "cell_type": "markdown",
   "metadata": {},
   "source": [
    "### C++"
   ]
  },
  {
   "cell_type": "markdown",
   "metadata": {},
   "source": [
    "```c++\n",
    "class Solution {\n",
    "public://动态规划。时间复杂度为O(n^2)。\n",
    "    int lengthOfLIS(vector<int>& nums) {\n",
    "        int n=nums.size();\n",
    "        if(n <= 1) return n;\n",
    "        vector<int> dp(n, 1);\n",
    "        for(int i=1;i<n;i++)\n",
    "        {//dp[i]表示LIS的长度。nums[i]作为LIS的最后一个元素。\n",
    "            for(int j=0;j<i;j++)\n",
    "            {\n",
    "                if(nums[i] > nums[j])\n",
    "                {//满足递增\n",
    "                    dp[i]=max(dp[i], dp[j]+1);//利用状态转移方程\n",
    "                }\n",
    "            }\n",
    "        }\n",
    "        int res=0;\n",
    "        for(int i=0;i<n;i++)\n",
    "        {//求得最大的dp[i]\n",
    "            res = max(res, dp[i]);\n",
    "        }\n",
    "        return res;\n",
    "    }\n",
    "};\n",
    "```"
   ]
  },
  {
   "cell_type": "markdown",
   "metadata": {},
   "source": [
    "### Java"
   ]
  },
  {
   "cell_type": "markdown",
   "metadata": {},
   "source": [
    "```java\n",
    "\n",
    "```"
   ]
  },
  {
   "cell_type": "markdown",
   "metadata": {},
   "source": [
    "### 2.动态规划 + 二分查找\n",
    "\n",
    "> 时间复杂度：O(nlogn)\n",
    "> 空间复杂度：O(n)"
   ]
  },
  {
   "cell_type": "markdown",
   "metadata": {},
   "source": [
    "### Python"
   ]
  },
  {
   "cell_type": "code",
   "execution_count": 2,
   "metadata": {
    "collapsed": true
   },
   "outputs": [],
   "source": [
    "class Solution:\n",
    "    def lengthOfLIS(self, nums):\n",
    "        \"\"\"\n",
    "        :type nums: List[int]\n",
    "        :rtype: int\n",
    "        \"\"\"\n",
    "        if len(nums) == 0:\n",
    "            return 0\n",
    "        dp = self.getdp_logn(nums)\n",
    "        l = 0 # 最长递增子序列长度\n",
    "        index = 0 # 最长递增子序列末尾值索引\n",
    "        # 遍历 dp 数组，找到最大值以及位置\n",
    "        for i, v in enumerate(dp):\n",
    "            if v > l:\n",
    "                l = v\n",
    "                index = i\n",
    "        # 只需要返回长度(也可在 getdp_logn 中记录从而省略上面遍历这一步)\n",
    "        return l\n",
    "\n",
    "        # 需要返回子序列\n",
    "        # lis = [0] * l\n",
    "        # 根据 dp 数组逆序还原出决策路径\n",
    "        # l -= 1\n",
    "        # lis[l] = nums[index]\n",
    "        # j = index\n",
    "        # for i in range(index, -1, -1):\n",
    "            # if nums[i] < nums[j] and dp[i] == dp[j] - 1:\n",
    "                # l -= 1\n",
    "                # lis[l] = nums[i]\n",
    "                # j = i\n",
    "        # return lis\n",
    "            \n",
    "    def getdp_logn(self, nums):\n",
    "        # 生成长度为N的数组dp, dp[i]表示在以nums[i]这个数结尾的情况下，nums[0..i]中的最大递增子序列长度\n",
    "        dp = [1] * len(nums)\n",
    "        # ends[0..right] 为有效区，ends[right+1..N-1] 为无效区。ends[b] = c 表示遍历到目前为止，在所有长度为 b+1 的递增序列中，最小的结尾数是 c\n",
    "        ends = [0] * len(nums)\n",
    "        ends[0] = nums[0]\n",
    "        dp[0] = 1\n",
    "        right = 0\n",
    "        l, r, m = 0, 0, 0\n",
    "        # maxl = 0\n",
    "        for i in range(len(nums)):\n",
    "            l = 0\n",
    "            r = right\n",
    "            # 在有效区中找到最左边的大于等于 nums[i] 的数\n",
    "            while l <= r:\n",
    "                m = int((l + r) / 2)\n",
    "                if nums[i] > ends[m]:\n",
    "                    l = m + 1\n",
    "                else:\n",
    "                    r = m - 1\n",
    "            # 当 l > right 时扩充有效区\n",
    "            right = max(right, l)\n",
    "            # 设定结尾数\n",
    "            ends[l] = nums[i]\n",
    "            dp[i] = l + 1\n",
    "            # if maxl < dp[i]:\n",
    "                # maxl = dp[i]\n",
    "        return dp\n",
    "        # return maxl"
   ]
  },
  {
   "cell_type": "markdown",
   "metadata": {},
   "source": [
    "### C++"
   ]
  },
  {
   "cell_type": "markdown",
   "metadata": {},
   "source": [
    "```c++\n",
    "class Solution1 {\n",
    "public://\n",
    "    int lengthOfLIS(vector<int>& nums) {\n",
    "        int n=nums.size();\n",
    "        if(n <= 1) return n;\n",
    "        //tail[i]表示长度为i的递增序列末尾的数字\n",
    "        //tail[]数组性质：tail[0]<tail[1]<...tail[n] ！！！\n",
    "        vector<int> tail(n);//初始化为n个值为0的元素\n",
    "        //1.len为当前最长的递增序列长度(为方便操作将len减1,从0开始，最后再加上1)\n",
    "        int len=0;\n",
    "        tail[0]=nums[0];\n",
    "        //2.每次读入一个新元素nums[i]\n",
    "        for(int i=1;i<n;i++)\n",
    "        {//遍历nums[]中的数\n",
    "            if(nums[i] < tail[0])\n",
    "            {//(1)nums[i]比所有递增序列的末尾都小,则长度为1的序列更新为这个更小的末尾。\n",
    "                tail[0]=nums[i];\n",
    "            }\n",
    "            else if(nums[i] > tail[len])\n",
    "            {//(2)nums[i]比所有序列的末尾都大,则直接将nums[i]加到后面\n",
    "                tail[++len]=nums[i];\n",
    "            }\n",
    "            else\n",
    "            {//(3)在中间，则更新那个末尾数字刚好大于等于nums[i]的那个序列，nums[i]替换其末尾数字\n",
    "                tail[biSearch(tail, 0, len, nums[i])]=nums[i];\n",
    "            }\n",
    "        }\n",
    "        return len+1;\n",
    "    }\n",
    "    int biSearch(vector<int>& tail, int low, int high, int target)\n",
    "    {//由于tail数组是有序的，故可二分查找其中元素\n",
    "        while(low <= high)//不能是low<high\n",
    "        {//当low=high时还要进行一次循环！！！\n",
    "         //此时mid=low=high.若tail[mid]<target,则low=mid+1.而不是直接返回low！！！\n",
    "            int mid = low + (high-low)/2;\n",
    "            if(tail[mid] == target) return mid;\n",
    "            else if(tail[mid] > target)\n",
    "            {\n",
    "                high=mid-1;\n",
    "            }\n",
    "            else\n",
    "            {\n",
    "                low=mid+1;\n",
    "            }\n",
    "        }\n",
    "        return low;\n",
    "    }\n",
    "};\n",
    "\n",
    "class Solution2 {\n",
    "public:\n",
    "    int lengthOfLIS(vector<int>& nums) {\n",
    "        int len = nums.size();\n",
    "        if(len <= 1) return len;\n",
    "        vector<int> before;\n",
    "        before.push_back(nums[0]);\n",
    "        for(int i = 1; i < len; i++){\n",
    "            if(before.back() < nums[i]){\n",
    "                before.push_back(nums[i]);\n",
    "            }\n",
    "            else{\n",
    "                int tmp = lower_bound(before.begin(), before.end(), nums[i]) - before.begin();\n",
    "                before[tmp] = nums[i];\n",
    "            }\n",
    "        }\n",
    "        return before.size();\n",
    "    }\n",
    "};\n",
    "\n",
    "class Solution3 {\n",
    "public:\n",
    "    int lengthOfLIS(vector<int>& nums) {\n",
    "        vector<int> r;\n",
    "        \n",
    "        for(auto v : nums) {\n",
    "            auto p = std::lower_bound(r.begin(), r.end(), v);\n",
    "            if (r.end() == p)\n",
    "                r.push_back(v);\n",
    "            else\n",
    "                *p = v;\n",
    "        }\n",
    "        return r.size();\n",
    "    }\n",
    "};\n",
    "```"
   ]
  },
  {
   "cell_type": "markdown",
   "metadata": {},
   "source": [
    "### Java"
   ]
  },
  {
   "cell_type": "markdown",
   "metadata": {},
   "source": [
    "```Java\n",
    "\n",
    "```"
   ]
  },
  {
   "cell_type": "markdown",
   "metadata": {},
   "source": [
    "## 总结"
   ]
  },
  {
   "cell_type": "markdown",
   "metadata": {
    "collapsed": true
   },
   "source": [
    "### 1.看到这个问题，我最初是怎么思考的？我是怎么做的？遇到了哪些问题？\n",
    "> \n",
    "\n",
    "### 2.别人是怎么思考的？别人是怎么做的？\n",
    "> \n",
    "\n",
    "### 3.与他的做法相比，我有哪些可以提升的地方？\n",
    "> "
   ]
  },
  {
   "cell_type": "code",
   "execution_count": null,
   "metadata": {
    "collapsed": true
   },
   "outputs": [],
   "source": []
  }
 ],
 "metadata": {
  "kernelspec": {
   "display_name": "Python 3",
   "language": "python",
   "name": "python3"
  },
  "language_info": {
   "codemirror_mode": {
    "name": "ipython",
    "version": 3
   },
   "file_extension": ".py",
   "mimetype": "text/x-python",
   "name": "python",
   "nbconvert_exporter": "python",
   "pygments_lexer": "ipython3",
   "version": "3.6.1"
  }
 },
 "nbformat": 4,
 "nbformat_minor": 2
}
