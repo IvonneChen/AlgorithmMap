{
 "cells": [
  {
   "cell_type": "markdown",
   "metadata": {},
   "source": [
    "# 问题：40. Combination Sum II\n",
    "# Problem: [40. Combination Sum II](https://leetcode.com/problems/combination-sum-ii/description/)\n",
    "\n",
    "## 描述 Description\n",
    "> ### Given a collection of candidate numbers (candidates) and a target number (target), find all unique combinations in candidates where the candidate numbers sums to target.\n",
    "\n",
    "> ### Each number in candidates may only be used once in the combination.\n",
    "\n",
    "> ### Note:\n",
    ">> ### All numbers (including target) will be positive integers.\n",
    "\n",
    ">> ### The solution set must not contain duplicate combinations."
   ]
  },
  {
   "cell_type": "markdown",
   "metadata": {},
   "source": [
    "## 例子 Example"
   ]
  },
  {
   "cell_type": "markdown",
   "metadata": {},
   "source": [
    "> ![example](https://github.com/Decalogue/AlgorithmMap/blob/master/img/leetcode/40.png \"example\")"
   ]
  },
  {
   "cell_type": "markdown",
   "metadata": {},
   "source": [
    "## 分析 Analysis"
   ]
  },
  {
   "cell_type": "markdown",
   "metadata": {},
   "source": [
    "核心思想：\n",
    "> 思路1：BackTrack\n",
    ">> 时间复杂度：O(n!)\n",
    ">> 空间复杂度：O(n)\n",
    "\n",
    "> 思路2：\n",
    ">> 时间复杂度：O(n)\n",
    ">> 空间复杂度：O(n)"
   ]
  },
  {
   "cell_type": "markdown",
   "metadata": {},
   "source": [
    "## 定义 Definition"
   ]
  },
  {
   "cell_type": "markdown",
   "metadata": {},
   "source": [
    "### Python"
   ]
  },
  {
   "cell_type": "code",
   "execution_count": null,
   "metadata": {
    "collapsed": true
   },
   "outputs": [],
   "source": [
    "class Solution:\n",
    "    def combinationSum2(self, candidates, target):\n",
    "        \"\"\"\n",
    "        :type candidates: List[int]\n",
    "        :type target: int\n",
    "        :rtype: List[List[int]]\n",
    "        \"\"\""
   ]
  },
  {
   "cell_type": "markdown",
   "metadata": {},
   "source": [
    "### C++"
   ]
  },
  {
   "cell_type": "markdown",
   "metadata": {},
   "source": [
    "```c++\n",
    "class Solution {\n",
    "public:\n",
    "    vector<vector<int>> combinationSum2(vector<int>& candidates, int target) {\n",
    "        \n",
    "    }\n",
    "};\n",
    "```"
   ]
  },
  {
   "cell_type": "markdown",
   "metadata": {},
   "source": [
    "### Java"
   ]
  },
  {
   "cell_type": "markdown",
   "metadata": {},
   "source": [
    "```java\n",
    "class Solution {\n",
    "    public List<List<Integer>> combinationSum2(int[] candidates, int target) {\n",
    "        \n",
    "    }\n",
    "}\n",
    "```"
   ]
  },
  {
   "cell_type": "markdown",
   "metadata": {},
   "source": [
    "## 解决方案 Solution"
   ]
  },
  {
   "cell_type": "markdown",
   "metadata": {},
   "source": [
    "### 1.BackTrack\n",
    "\n",
    "> 时间复杂度：O(n!)\n",
    "> 空间复杂度：O(n)"
   ]
  },
  {
   "cell_type": "markdown",
   "metadata": {},
   "source": [
    "### Python"
   ]
  },
  {
   "cell_type": "code",
   "execution_count": null,
   "metadata": {
    "collapsed": true
   },
   "outputs": [],
   "source": [
    "class Solution:\n",
    "    def combinationSum2(self, candidates, target):\n",
    "        candidates.sort()\n",
    "        self.res = []\n",
    "        self.backtrack(0, candidates, target, [])\n",
    "        return self.res\n",
    "        \n",
    "    def backtrack(self, start, candidates, target, valuelist):\n",
    "        if target == 0:\n",
    "            return self.res.append(valuelist)\n",
    "        i = start\n",
    "        while i < len(candidates):\n",
    "            if i > start and candidates[i] == candidates[i-1]:\n",
    "                i += 1\n",
    "                continue\n",
    "            if candidates[i] > target:\n",
    "                return\n",
    "            self.backtrack(i+1, candidates, target - candidates[i], valuelist + [candidates[i]])\n",
    "            i += 1"
   ]
  },
  {
   "cell_type": "markdown",
   "metadata": {},
   "source": [
    "### C++"
   ]
  },
  {
   "cell_type": "markdown",
   "metadata": {},
   "source": [
    "```c++\n",
    "\n",
    "```"
   ]
  },
  {
   "cell_type": "markdown",
   "metadata": {},
   "source": [
    "### Java"
   ]
  },
  {
   "cell_type": "markdown",
   "metadata": {},
   "source": [
    "```java\n",
    "public class Solution \n",
    "{\n",
    "    public List<List<Integer>> combinationSum2(int[] candidates, int target) \n",
    "    {\n",
    "        List<List<Integer>> list = new ArrayList<>();\n",
    "        Arrays.sort(candidates);\n",
    "        backtrack(list, new ArrayList<>(), candidates, target, 0);\n",
    "        \n",
    "        return list;\n",
    "    }\n",
    "    \n",
    "    public boolean backtrack(List<List<Integer>> list, List<Integer> tempList, \n",
    "            int[] nums, int remain, int start)\n",
    "    {\n",
    "        if(remain < 0) // if remain is 0 or less than 0, meaning the rest numbers are even greater\n",
    "            return false; // therefore, no need to continue the loop, return false\n",
    "        else if(remain == 0)\n",
    "        {\n",
    "            list.add(new ArrayList<>(tempList));\n",
    "            return false;\n",
    "        }\n",
    "        else\n",
    "        {\n",
    "            for(int i=start; i<nums.length; i++)\n",
    "            {\n",
    "                if(i > start && nums[i] == nums[i-1])\n",
    "                    continue;\n",
    "                boolean flag;\n",
    "                tempList.add(nums[i]);\n",
    "                flag = backtrack(list, tempList, nums, remain - nums[i], i+1); // i + 1 because we cannot use same number.\n",
    "                tempList.remove(tempList.size() - 1);\n",
    "                \n",
    "                if(!flag) // if find a sum or fail to find a sum, there is no need to continue\n",
    "                    break;// because it is a sorted array with no duplicates, the rest numbers are even greater.\n",
    "            }\n",
    "            \n",
    "            return true; // return true because previous tempList didn't find a sum or fail a sum\n",
    "        }\n",
    "\n",
    "    }\n",
    "}\n",
    "```"
   ]
  },
  {
   "cell_type": "markdown",
   "metadata": {},
   "source": [
    "### 2.\n",
    "\n",
    "> 时间复杂度：O()\n",
    "> 空间复杂度：O()"
   ]
  },
  {
   "cell_type": "markdown",
   "metadata": {},
   "source": [
    "### Python"
   ]
  },
  {
   "cell_type": "code",
   "execution_count": null,
   "metadata": {
    "collapsed": true
   },
   "outputs": [],
   "source": []
  },
  {
   "cell_type": "markdown",
   "metadata": {},
   "source": [
    "### C++"
   ]
  },
  {
   "cell_type": "markdown",
   "metadata": {},
   "source": [
    "```c++\n",
    "\n",
    "```"
   ]
  },
  {
   "cell_type": "markdown",
   "metadata": {},
   "source": [
    "### Java"
   ]
  },
  {
   "cell_type": "markdown",
   "metadata": {},
   "source": [
    "```Java\n",
    "\n",
    "```"
   ]
  },
  {
   "cell_type": "markdown",
   "metadata": {},
   "source": [
    "## 总结"
   ]
  },
  {
   "cell_type": "markdown",
   "metadata": {
    "collapsed": true
   },
   "source": [
    "### 1.看到这个问题，我最初是怎么思考的？我是怎么做的？遇到了哪些问题？\n",
    "> 思考：类似于 [39. Combination Sum](https://leetcode.com/problems/combination-sum/description/)\n",
    "\n",
    "### 2.别人是怎么思考的？别人是怎么做的？\n",
    "> [原文](https://www.cnblogs.com/jimmycheng/p/7198156.html?utm_source=itdadao&utm_medium=referral) 这道题目和 [39. Combination Sum](https://leetcode.com/problems/combination-sum/description/) 本质一摸一样，不同之处是，这题每一个数字只能用一次，之前那题可以无限用；这一题给的 array 里有重复的，之前那题没有。所以只要之前那题做了，稍微改动一下就可以了。把递归下去的数字 index 从 i 改成 i + 1，因为这里不需要重复的数字了。再有就是要设一个条件，如果一个重复的数字，不是出现在第一位的话，就跳过它。\n",
    "\n",
    "### 3.与他的做法相比，我有哪些可以提升的地方？\n",
    "> 对于题意的分析：[原文](https://www.cnblogs.com/jimmycheng/p/7198156.html?utm_source=itdadao&utm_medium=referral)"
   ]
  },
  {
   "cell_type": "code",
   "execution_count": null,
   "metadata": {
    "collapsed": true
   },
   "outputs": [],
   "source": []
  }
 ],
 "metadata": {
  "kernelspec": {
   "display_name": "Python 3",
   "language": "python",
   "name": "python3"
  },
  "language_info": {
   "codemirror_mode": {
    "name": "ipython",
    "version": 3
   },
   "file_extension": ".py",
   "mimetype": "text/x-python",
   "name": "python",
   "nbconvert_exporter": "python",
   "pygments_lexer": "ipython3",
   "version": "3.6.1"
  }
 },
 "nbformat": 4,
 "nbformat_minor": 2
}
