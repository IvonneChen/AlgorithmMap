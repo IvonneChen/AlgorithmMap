{
 "cells": [
  {
   "cell_type": "markdown",
   "metadata": {},
   "source": [
    "# 问题：190. Reverse Bits 反转位\n",
    "# Problem: [190. Reverse Bits](https://leetcode.com/problems/reverse-bits/description/)\n",
    "\n",
    "## 描述 Description\n",
    "> ### Reverse bits of a given 32 bits unsigned integer."
   ]
  },
  {
   "cell_type": "markdown",
   "metadata": {},
   "source": [
    "## 例子 Example"
   ]
  },
  {
   "cell_type": "markdown",
   "metadata": {},
   "source": [
    "> ![example](https://github.com/Decalogue/AlgorithmMap/blob/master/img/leetcode/190.png \"example\")"
   ]
  },
  {
   "cell_type": "markdown",
   "metadata": {},
   "source": [
    "## 分析 Analysis"
   ]
  },
  {
   "cell_type": "markdown",
   "metadata": {},
   "source": [
    "核心思想：\n",
    "> 思路1：设这个数为 k，用一个初值为0的数 r 保存反转后的结果，用1对 k 进行求与，其结果与 r 进行相加，再对 k 向右进行一位移位，对 r 向左进行一位移位。直到 k 的最后一位处理完。\n",
    ">> 时间复杂度：O(n)\n",
    ">> 空间复杂度：O(1)\n",
    "\n",
    "> 思路2：\n",
    ">> 时间复杂度：O(n)\n",
    ">> 空间复杂度：O(1)"
   ]
  },
  {
   "cell_type": "markdown",
   "metadata": {},
   "source": [
    "## 定义 Definition"
   ]
  },
  {
   "cell_type": "markdown",
   "metadata": {},
   "source": [
    "### Python"
   ]
  },
  {
   "cell_type": "code",
   "execution_count": 10,
   "metadata": {
    "collapsed": true
   },
   "outputs": [],
   "source": [
    "class Solution:\n",
    "    def reverseBits(self, n):\n",
    "        \"\"\"\n",
    "        :type n: int\n",
    "        :rtype: int\n",
    "        \"\"\""
   ]
  },
  {
   "cell_type": "markdown",
   "metadata": {},
   "source": [
    "### C++"
   ]
  },
  {
   "cell_type": "markdown",
   "metadata": {},
   "source": [
    "```c++\n",
    "class Solution {\n",
    "public:\n",
    "    uint32_t reverseBits(uint32_t n) {\n",
    "        \n",
    "    }\n",
    "};\n",
    "```"
   ]
  },
  {
   "cell_type": "markdown",
   "metadata": {},
   "source": [
    "### Java"
   ]
  },
  {
   "cell_type": "markdown",
   "metadata": {},
   "source": [
    "```java\n",
    "public class Solution {\n",
    "    // you need treat n as an unsigned value\n",
    "    public int reverseBits(int n) {\n",
    "        \n",
    "    }\n",
    "```"
   ]
  },
  {
   "cell_type": "markdown",
   "metadata": {},
   "source": [
    "## 解决方案 Solution"
   ]
  },
  {
   "cell_type": "markdown",
   "metadata": {},
   "source": [
    "### 1.设这个数为 k，用一个初值为0的数 r 保存反转后的结果，用1对 k 进行求与，其结果与 r 进行相加，再对 k 向右进行一位移位，对 r 向左进行一位移位。直到 k 的最后一位处理完。\n",
    "\n",
    "> 时间复杂度：O(n)\n",
    "> 空间复杂度：O(1)"
   ]
  },
  {
   "cell_type": "markdown",
   "metadata": {},
   "source": [
    "### Python"
   ]
  },
  {
   "cell_type": "code",
   "execution_count": 11,
   "metadata": {
    "collapsed": true
   },
   "outputs": [],
   "source": [
    "class Solution:\n",
    "    def reverseBits(self, n):\n",
    "        res = 0\n",
    "        for i in range(32):\n",
    "            res += n & 1\n",
    "            n >>= 1\n",
    "            if i < 31:\n",
    "                res <<= 1\n",
    "        return res"
   ]
  },
  {
   "cell_type": "markdown",
   "metadata": {},
   "source": [
    "### C++"
   ]
  },
  {
   "cell_type": "markdown",
   "metadata": {},
   "source": [
    "```c++\n",
    "\n",
    "```"
   ]
  },
  {
   "cell_type": "markdown",
   "metadata": {},
   "source": [
    "### Java"
   ]
  },
  {
   "cell_type": "markdown",
   "metadata": {},
   "source": [
    "```java\n",
    "public class Solution {\n",
    "    public int reverseBits(int n) {\n",
    "        int result = 0;\n",
    "        for (int i = 0; i < 32; i++) {\n",
    "            result += n & 1;\n",
    "            n >>>= 1;\n",
    "            if (i < 31) {\n",
    "                result <<= 1;\n",
    "            }\n",
    "        }\n",
    "        return result;\n",
    "    }\n",
    "}\n",
    "```"
   ]
  },
  {
   "cell_type": "markdown",
   "metadata": {},
   "source": [
    "### 2.\n",
    "\n",
    "> 时间复杂度：O(n)\n",
    "> 空间复杂度：O(1)"
   ]
  },
  {
   "cell_type": "markdown",
   "metadata": {},
   "source": [
    "### Python"
   ]
  },
  {
   "cell_type": "code",
   "execution_count": null,
   "metadata": {
    "collapsed": true
   },
   "outputs": [],
   "source": []
  },
  {
   "cell_type": "markdown",
   "metadata": {},
   "source": [
    "### C++"
   ]
  },
  {
   "cell_type": "markdown",
   "metadata": {},
   "source": [
    "```c++\n",
    "\n",
    "```"
   ]
  },
  {
   "cell_type": "markdown",
   "metadata": {},
   "source": [
    "### Java"
   ]
  },
  {
   "cell_type": "markdown",
   "metadata": {},
   "source": [
    "```Java\n",
    "\n",
    "```"
   ]
  },
  {
   "cell_type": "markdown",
   "metadata": {},
   "source": [
    "## 总结"
   ]
  },
  {
   "cell_type": "markdown",
   "metadata": {
    "collapsed": true
   },
   "source": [
    "### 1.看到这个问题，我最初是怎么思考的？我是怎么做的？遇到了哪些问题？\n",
    "> 思考：转换为32位后再反转\n",
    "\n",
    "> 方法：设这个数为 k，用一个初值为0的数 r 保存反转后的结果，用1对 k 进行求与，其结果与 r 进行相加，再对 k 向右进行一位移位，对 r 向左进行一位移位。直到 k 的最后一位处理完。\n",
    "\n",
    "> 问题：Python 和 Java 部分移位操作写法不一致\n",
    "\n",
    "### 2.别人是怎么思考的？别人是怎么做的？\n",
    "> [原文](https://blog.csdn.net/DERRANTCM/article/details/47945389)\n",
    "\n",
    "### 3.与他的做法相比，我有哪些可以提升的地方？\n",
    "> 熟练掌握位运算性质及操作"
   ]
  },
  {
   "cell_type": "code",
   "execution_count": null,
   "metadata": {
    "collapsed": true
   },
   "outputs": [],
   "source": []
  }
 ],
 "metadata": {
  "kernelspec": {
   "display_name": "Python 3",
   "language": "python",
   "name": "python3"
  },
  "language_info": {
   "codemirror_mode": {
    "name": "ipython",
    "version": 3
   },
   "file_extension": ".py",
   "mimetype": "text/x-python",
   "name": "python",
   "nbconvert_exporter": "python",
   "pygments_lexer": "ipython3",
   "version": "3.6.1"
  }
 },
 "nbformat": 4,
 "nbformat_minor": 2
}
