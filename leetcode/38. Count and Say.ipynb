{
 "cells": [
  {
   "cell_type": "markdown",
   "metadata": {},
   "source": [
    "# 问题：38. Count and Say\n",
    "# Problem: [38. Count and Say](https://leetcode.com/problems/count-and-say/description/)\n",
    "\n",
    "## 描述 Description\n",
    "> ### The count-and-say sequence is the sequence of integers with the first five terms as following:"
   ]
  },
  {
   "cell_type": "markdown",
   "metadata": {},
   "source": [
    "## 例子 Example"
   ]
  },
  {
   "cell_type": "markdown",
   "metadata": {},
   "source": [
    "> ![example](https://github.com/Decalogue/AlgorithmMap/blob/master/img/leetcode/38.png \"example\")"
   ]
  },
  {
   "cell_type": "markdown",
   "metadata": {},
   "source": [
    "## 分析 Analysis"
   ]
  },
  {
   "cell_type": "markdown",
   "metadata": {},
   "source": [
    "核心思想：\n",
    "> 思路1：\n",
    ">> 时间复杂度：O(n)\n",
    ">> 空间复杂度：O(n)\n",
    "\n",
    "> 思路2：\n",
    ">> 时间复杂度：O(n)\n",
    ">> 空间复杂度：O(n)"
   ]
  },
  {
   "cell_type": "markdown",
   "metadata": {},
   "source": [
    "## 定义 Definition"
   ]
  },
  {
   "cell_type": "markdown",
   "metadata": {},
   "source": [
    "### Python"
   ]
  },
  {
   "cell_type": "code",
   "execution_count": null,
   "metadata": {
    "collapsed": true
   },
   "outputs": [],
   "source": [
    "class Solution:\n",
    "    def countAndSay(self, n):\n",
    "        \"\"\"\n",
    "        :type n: int\n",
    "        :rtype: str\n",
    "        \"\"\""
   ]
  },
  {
   "cell_type": "markdown",
   "metadata": {},
   "source": [
    "### C++"
   ]
  },
  {
   "cell_type": "markdown",
   "metadata": {},
   "source": [
    "```c++\n",
    "class Solution {\n",
    "public:\n",
    "    string countAndSay(int n) {\n",
    "        \n",
    "    }\n",
    "};\n",
    "```"
   ]
  },
  {
   "cell_type": "markdown",
   "metadata": {},
   "source": [
    "### Java"
   ]
  },
  {
   "cell_type": "markdown",
   "metadata": {},
   "source": [
    "```java\n",
    "class Solution {\n",
    "    public String countAndSay(int n) {\n",
    "        \n",
    "    }\n",
    "}\n",
    "```"
   ]
  },
  {
   "cell_type": "markdown",
   "metadata": {},
   "source": [
    "## 解决方案 Solution"
   ]
  },
  {
   "cell_type": "markdown",
   "metadata": {},
   "source": [
    "### 1.直接循环\n",
    "\n",
    "> 时间复杂度：O(n)\n",
    "> 空间复杂度：O(1)"
   ]
  },
  {
   "cell_type": "markdown",
   "metadata": {},
   "source": [
    "### Python"
   ]
  },
  {
   "cell_type": "code",
   "execution_count": null,
   "metadata": {
    "collapsed": true
   },
   "outputs": [],
   "source": [
    "class Solution:\n",
    "    def countAndSay(self, n):\n",
    "        if n < 2: return '1'\n",
    "        res = '1'\n",
    "        while n > 1:\n",
    "            temp, current_num = '', 0\n",
    "            for i, v in enumerate(res):\n",
    "                if i > 0 and v != res[i - 1]:\n",
    "                    temp += str(current_num) + res[i - 1]\n",
    "                    current_num = 1\n",
    "                else:\n",
    "                    current_num += 1\n",
    "            res = temp + (str(current_num) + res[-1] if current_num != 0 else '')\n",
    "            n -= 1\n",
    "        return res\n",
    "\n",
    "class Solution:\n",
    "    def countAndSay(self, n):\n",
    "        s = '1'\n",
    "        for _ in range(n-1):\n",
    "            let, temp, count = s[0], \"\", 0\n",
    "            for l in s:\n",
    "                if let == l:\n",
    "                    count += 1\n",
    "                else:\n",
    "                    temp += str(count) + let\n",
    "                    let = l\n",
    "                    count = 1\n",
    "            temp += str(count) + let\n",
    "            s = temp\n",
    "        return s"
   ]
  },
  {
   "cell_type": "markdown",
   "metadata": {},
   "source": [
    "### C++"
   ]
  },
  {
   "cell_type": "markdown",
   "metadata": {},
   "source": [
    "```c++\n",
    "class Solution {\n",
    "public:\n",
    "  std::string countAndSay(int n) {\n",
    "    std::vector<char> buf1, buf2;\n",
    "    std::vector<char> *pre = &buf1, *cur = &buf2;\n",
    "    pre->push_back('1');\n",
    "\n",
    "    while (--n) {\n",
    "      cur->clear();\n",
    "      char c = (*pre)[0];\n",
    "      int cnt = 1;\n",
    "      for (int i = 1; i < pre->size(); ++i) {\n",
    "        if ((*pre)[i] == c) {\n",
    "          cnt += 1;\n",
    "        } else {\n",
    "          append_int(*cur, cnt);\n",
    "          cur->push_back(c);\n",
    "          c = (*pre)[i];\n",
    "          cnt = 1;\n",
    "        }\n",
    "      }\n",
    "      append_int(*cur, cnt);\n",
    "      cur->push_back(c);\n",
    "      std::swap(pre, cur);\n",
    "    }\n",
    "    return std::string(pre->begin(), pre->end());\n",
    "  }\n",
    "\n",
    "private:\n",
    "  void append_int(std::vector<char> &buf, int n) {\n",
    "    while (n != 0) {\n",
    "      buf.push_back('0' + n % 10);\n",
    "      n /= 10;\n",
    "    }\n",
    "  }\n",
    "};\n",
    "```"
   ]
  },
  {
   "cell_type": "markdown",
   "metadata": {},
   "source": [
    "### Java"
   ]
  },
  {
   "cell_type": "markdown",
   "metadata": {},
   "source": [
    "```java\n",
    "\n",
    "```"
   ]
  },
  {
   "cell_type": "markdown",
   "metadata": {},
   "source": [
    "### 2.\n",
    "\n",
    "> 时间复杂度：O()\n",
    "> 空间复杂度：O()"
   ]
  },
  {
   "cell_type": "markdown",
   "metadata": {},
   "source": [
    "### Python"
   ]
  },
  {
   "cell_type": "code",
   "execution_count": null,
   "metadata": {
    "collapsed": true
   },
   "outputs": [],
   "source": []
  },
  {
   "cell_type": "markdown",
   "metadata": {},
   "source": [
    "### C++"
   ]
  },
  {
   "cell_type": "markdown",
   "metadata": {},
   "source": [
    "```c++\n",
    "\n",
    "```"
   ]
  },
  {
   "cell_type": "markdown",
   "metadata": {},
   "source": [
    "### Java"
   ]
  },
  {
   "cell_type": "markdown",
   "metadata": {},
   "source": [
    "```Java\n",
    "\n",
    "```"
   ]
  },
  {
   "cell_type": "markdown",
   "metadata": {},
   "source": [
    "## 总结"
   ]
  },
  {
   "cell_type": "markdown",
   "metadata": {
    "collapsed": true
   },
   "source": [
    "### 1.看到这个问题，我最初是怎么思考的？我是怎么做的？遇到了哪些问题？\n",
    "> 思考：对于题意理解有误\n",
    "\n",
    "### 2.别人是怎么思考的？别人是怎么做的？\n",
    "> 直接循环 [原文](https://www.cnblogs.com/zhuifengjingling/p/5285758.html)\n",
    "\n",
    "### 3.与他的做法相比，我有哪些可以提升的地方？\n",
    "> 对于题意的理解：直接循环，每个数字按照题目要求翻译成口语对应的数字，按照顺序找到第n个返回"
   ]
  },
  {
   "cell_type": "code",
   "execution_count": null,
   "metadata": {
    "collapsed": true
   },
   "outputs": [],
   "source": []
  }
 ],
 "metadata": {
  "kernelspec": {
   "display_name": "Python 3",
   "language": "python",
   "name": "python3"
  },
  "language_info": {
   "codemirror_mode": {
    "name": "ipython",
    "version": 3
   },
   "file_extension": ".py",
   "mimetype": "text/x-python",
   "name": "python",
   "nbconvert_exporter": "python",
   "pygments_lexer": "ipython3",
   "version": "3.6.1"
  }
 },
 "nbformat": 4,
 "nbformat_minor": 2
}
