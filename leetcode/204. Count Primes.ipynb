{
 "cells": [
  {
   "cell_type": "markdown",
   "metadata": {},
   "source": [
    "# 问题：204. Count Primes 小于 n 的素数\n",
    "# Problem: [204. Count Primes](https://leetcode.com/problems/count-primes/description/)\n",
    "\n",
    "## 描述 Description\n",
    "> ### Count the number of prime numbers less than a non-negative number, n."
   ]
  },
  {
   "cell_type": "markdown",
   "metadata": {},
   "source": [
    "## 例子 Example"
   ]
  },
  {
   "cell_type": "markdown",
   "metadata": {},
   "source": [
    "> ![example](https://github.com/Decalogue/AlgorithmMap/blob/master/img/leetcode/204.png \"example\")"
   ]
  },
  {
   "cell_type": "markdown",
   "metadata": {},
   "source": [
    "## 分析 Analysis"
   ]
  },
  {
   "cell_type": "markdown",
   "metadata": {},
   "source": [
    "核心思想：\n",
    "> 思路1：直接循环（超时）\n",
    ">> 时间复杂度：O(nsqrt(n))\n",
    ">> 空间复杂度：O(1)\n",
    "\n",
    "> 思路2：厄拉多塞筛法\n",
    ">> 时间复杂度：O(nlogn)\n",
    ">> 空间复杂度：O(n)"
   ]
  },
  {
   "cell_type": "markdown",
   "metadata": {},
   "source": [
    "## 定义 Definition"
   ]
  },
  {
   "cell_type": "markdown",
   "metadata": {},
   "source": [
    "### Python"
   ]
  },
  {
   "cell_type": "code",
   "execution_count": null,
   "metadata": {
    "collapsed": true
   },
   "outputs": [],
   "source": [
    "class Solution:\n",
    "    def countPrimes(self, n):\n",
    "        \"\"\"\n",
    "        :type n: int\n",
    "        :rtype: int\n",
    "        \"\"\""
   ]
  },
  {
   "cell_type": "markdown",
   "metadata": {},
   "source": [
    "### C++"
   ]
  },
  {
   "cell_type": "markdown",
   "metadata": {},
   "source": [
    "```c++\n",
    "class Solution {\n",
    "public:\n",
    "    int countPrimes(int n) {\n",
    "        \n",
    "    }\n",
    "};\n",
    "```"
   ]
  },
  {
   "cell_type": "markdown",
   "metadata": {},
   "source": [
    "### Java"
   ]
  },
  {
   "cell_type": "markdown",
   "metadata": {},
   "source": [
    "```java\n",
    "class Solution {\n",
    "    public int countPrimes(int n) {\n",
    "        \n",
    "    }\n",
    "}\n",
    "```"
   ]
  },
  {
   "cell_type": "markdown",
   "metadata": {},
   "source": [
    "## 解决方案 Solution"
   ]
  },
  {
   "cell_type": "markdown",
   "metadata": {},
   "source": [
    "### 1.直接循环（超时）\n",
    "\n",
    "> 时间复杂度：O(nsqrt(n))\n",
    "> 空间复杂度：O(1)"
   ]
  },
  {
   "cell_type": "markdown",
   "metadata": {},
   "source": [
    "### Python"
   ]
  },
  {
   "cell_type": "code",
   "execution_count": null,
   "metadata": {
    "collapsed": true
   },
   "outputs": [],
   "source": [
    "from math import sqrt\n",
    "\n",
    "class Solution:\n",
    "    def countPrimes(self, n):\n",
    "        def helper(n):\n",
    "            if n <= 3:\n",
    "                return n > 1\n",
    "            elif n % 2 == 0 or n % 3 == 0:\n",
    "                return False\n",
    "            for i in range(2, int(sqrt(n))+1):\n",
    "                if n % i == 0:\n",
    "                    return False\n",
    "            return True\n",
    "        \n",
    "        res = 0\n",
    "        for i in range(n):\n",
    "            if helper(i):\n",
    "                res += 1\n",
    "        return res"
   ]
  },
  {
   "cell_type": "markdown",
   "metadata": {},
   "source": [
    "### C++"
   ]
  },
  {
   "cell_type": "markdown",
   "metadata": {},
   "source": [
    "```c++\n",
    "\n",
    "```"
   ]
  },
  {
   "cell_type": "markdown",
   "metadata": {},
   "source": [
    "### Java"
   ]
  },
  {
   "cell_type": "markdown",
   "metadata": {},
   "source": [
    "```java\n",
    "\n",
    "```"
   ]
  },
  {
   "cell_type": "markdown",
   "metadata": {},
   "source": [
    "### 2.厄拉多塞筛法\n",
    "    建立从2到n的集合G={2, 3, 4, ..., n}，每次从集合中取出最小的数A，这个数就是质数；然后将数A * times从集合中删除，其中1<=times<=n/A。得到一个新的集合G'，重复上述步骤直到集合为空，就取出了所有质数。\n",
    "\n",
    "> 时间复杂度：O(nlogn)\n",
    "> 空间复杂度：O(n)"
   ]
  },
  {
   "cell_type": "markdown",
   "metadata": {},
   "source": [
    "### Python"
   ]
  },
  {
   "cell_type": "code",
   "execution_count": null,
   "metadata": {
    "collapsed": true
   },
   "outputs": [],
   "source": [
    "class Solution: # 使用集合：超时\n",
    "    def countPrimes(self, n):\n",
    "        s = set(range(2, n))\n",
    "        res = 0\n",
    "        while s:\n",
    "            t = min(s)\n",
    "            res += 1\n",
    "            for i in range(1, n // t + 1):\n",
    "                s.discard(t * i)\n",
    "        return res"
   ]
  },
  {
   "cell_type": "code",
   "execution_count": null,
   "metadata": {
    "collapsed": true
   },
   "outputs": [],
   "source": [
    "class Solution: # 使用 bool 数组：AC\n",
    "    def countPrimes(self, n):\n",
    "        is_deleted = [False] * n\n",
    "        res = 0\n",
    "        for i in range(2, n):\n",
    "            if not is_deleted[i]:\n",
    "                res += 1\n",
    "                times = 1\n",
    "                while i * times < n:\n",
    "                    is_deleted[i * times] = True\n",
    "                    times += 1\n",
    "        return res"
   ]
  },
  {
   "cell_type": "markdown",
   "metadata": {},
   "source": [
    "### C++"
   ]
  },
  {
   "cell_type": "markdown",
   "metadata": {},
   "source": [
    "```c++\n",
    "\n",
    "```"
   ]
  },
  {
   "cell_type": "markdown",
   "metadata": {},
   "source": [
    "### Java"
   ]
  },
  {
   "cell_type": "markdown",
   "metadata": {},
   "source": [
    "```Java\n",
    "\n",
    "```"
   ]
  },
  {
   "cell_type": "markdown",
   "metadata": {},
   "source": [
    "## 总结"
   ]
  },
  {
   "cell_type": "markdown",
   "metadata": {
    "collapsed": true
   },
   "source": [
    "### 1.看到这个问题，我最初是怎么思考的？我是怎么做的？遇到了哪些问题？\n",
    "> 思考：直接循环，对于每一个数的判断需要 sqrt(t) 次，时间复杂度：O(nsqrt(n))\n",
    "\n",
    "> 方法：直接循环（超时）\n",
    "\n",
    "> 问题：a.超时 b.索引\n",
    "\n",
    "### 2.别人是怎么思考的？别人是怎么做的？\n",
    "> [厄拉多塞筛法](https://www.jianshu.com/p/12c0e91c696e)\n",
    "\n",
    "### 3.与他的做法相比，我有哪些可以提升的地方？\n",
    "> a.时间复杂度分析，素数的另一个思考角度\n",
    "\n",
    "> b.数据量很大且需要频繁操作时对于集合和列表的效率分析"
   ]
  },
  {
   "cell_type": "code",
   "execution_count": null,
   "metadata": {
    "collapsed": true
   },
   "outputs": [],
   "source": []
  }
 ],
 "metadata": {
  "kernelspec": {
   "display_name": "Python 3",
   "language": "python",
   "name": "python3"
  },
  "language_info": {
   "codemirror_mode": {
    "name": "ipython",
    "version": 3
   },
   "file_extension": ".py",
   "mimetype": "text/x-python",
   "name": "python",
   "nbconvert_exporter": "python",
   "pygments_lexer": "ipython3",
   "version": "3.6.1"
  }
 },
 "nbformat": 4,
 "nbformat_minor": 2
}
