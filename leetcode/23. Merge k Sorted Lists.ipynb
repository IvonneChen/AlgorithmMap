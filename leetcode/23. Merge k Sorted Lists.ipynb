{
 "cells": [
  {
   "cell_type": "markdown",
   "metadata": {},
   "source": [
    "# 问题：23. Merge k Sorted Lists\n",
    "# Problem: [23. Merge k Sorted Lists](https://leetcode.com/problems/merge-k-sorted-lists/description/)\n",
    "\n",
    "## 描述 Description\n",
    "> ### Merge k sorted linked lists and return it as one sorted list. Analyze and describe its complexity."
   ]
  },
  {
   "cell_type": "markdown",
   "metadata": {},
   "source": [
    "## 例子 Example"
   ]
  },
  {
   "cell_type": "markdown",
   "metadata": {},
   "source": [
    "> ![example](https://github.com/Decalogue/AlgorithmMap/blob/master/img/leetcode/23.png \"example\")"
   ]
  },
  {
   "cell_type": "markdown",
   "metadata": {},
   "source": [
    "## 分析 Analysis"
   ]
  },
  {
   "cell_type": "markdown",
   "metadata": {},
   "source": [
    "核心思想：\n",
    "\n",
    "假设每个链表的平均长度是 n，那么总节点数 N = nk\n",
    "> 思路1：利用最小堆方法（堆大小为K）\n",
    "\n",
    "    问题：在O(N lgK) 时间内合并K个有序链表， 这里N指的是K个链表中所有的元素个数。\n",
    "    方法：利用最小堆方法（堆大小为K）\n",
    "    实现：A：用优先队列 + 自定义降序实现\n",
    "          优先队列就是大顶堆，队头元素最大，自定义为降序后，就变成小顶堆，队头元素最小\n",
    "          步骤：1.把K个链表的头结点放入堆中，时间复杂度O(K)；\n",
    "                2.每次取堆顶元素；\n",
    "                3.然后将堆顶元素所在链表的下一个结点加入堆中，时间复杂度O(lgK)；\n",
    "                4.不断的重复步骤2~3，直到所有的链表都为空。\n",
    "          B：数组实现建堆\n",
    "          步骤：1.从每个链表中取出第一个值，将它们放到大小为K的数组里，时间复杂度O(K)；\n",
    "                2.然后把这个数组当成heap，然后把该数组建成最小堆，时间复杂度O(lgK)；\n",
    "                3.取出堆中的最小值（数组的第一个值）；\n",
    "                4.然后把该最小值所处的链表的下一个值放在数组的第一个位置；\n",
    "                5.如果链表中有一个已经为空，则改变heap的大小，执行MIN-HEAPIFY操作，时间复杂度O(lgK)；\n",
    "                6.不断的重复步骤3~5，直到所有的链表都为空。\n",
    ">> 时间复杂度：O(Nlogk)\n",
    ">> 空间复杂度：O(k)\n",
    "\n",
    "> 思路2：分治法\n",
    ">> 利用归并排序的思想，利用递归和分治法将链表数组划分成为越来越小的半链表数组，再对半链表数组排序，最后再用递归步骤将排好序的半链表数组合并成为越来越大的有序链表。\n",
    "\n",
    ">> 时间复杂度：O(Nlogk)\n",
    ">> 空间复杂度：O(1)\n",
    "\n",
    "> 思路3：直接循环\n",
    ">> 时间复杂度：O(Nk)\n",
    ">> 空间复杂度：O(1)"
   ]
  },
  {
   "cell_type": "markdown",
   "metadata": {},
   "source": [
    "## 定义 Definition"
   ]
  },
  {
   "cell_type": "markdown",
   "metadata": {},
   "source": [
    "### Python"
   ]
  },
  {
   "cell_type": "code",
   "execution_count": null,
   "metadata": {
    "collapsed": true
   },
   "outputs": [],
   "source": [
    "# Definition for singly-linked list.\n",
    "# class ListNode:\n",
    "#     def __init__(self, x):\n",
    "#         self.val = x\n",
    "#         self.next = None\n",
    "\n",
    "class Solution:\n",
    "    def mergeKLists(self, lists):\n",
    "        \"\"\"\n",
    "        :type lists: List[ListNode]\n",
    "        :rtype: ListNode\n",
    "        \"\"\""
   ]
  },
  {
   "cell_type": "markdown",
   "metadata": {},
   "source": [
    "### C++"
   ]
  },
  {
   "cell_type": "markdown",
   "metadata": {},
   "source": [
    "```c++\n",
    "/**\n",
    " * Definition for singly-linked list.\n",
    " * struct ListNode {\n",
    " *     int val;\n",
    " *     ListNode *next;\n",
    " *     ListNode(int x) : val(x), next(NULL) {}\n",
    " * };\n",
    " */\n",
    "class Solution {\n",
    "public:\n",
    "    ListNode* mergeKLists(vector<ListNode*>& lists) {\n",
    "        \n",
    "    }\n",
    "};\n",
    "```"
   ]
  },
  {
   "cell_type": "markdown",
   "metadata": {},
   "source": [
    "### Java"
   ]
  },
  {
   "cell_type": "markdown",
   "metadata": {},
   "source": [
    "```java\n",
    "/**\n",
    " * Definition for singly-linked list.\n",
    " * public class ListNode {\n",
    " *     int val;\n",
    " *     ListNode next;\n",
    " *     ListNode(int x) { val = x; }\n",
    " * }\n",
    " */\n",
    "class Solution {\n",
    "    public ListNode mergeKLists(ListNode[] lists) {\n",
    "        \n",
    "    }\n",
    "}\n",
    "```"
   ]
  },
  {
   "cell_type": "markdown",
   "metadata": {},
   "source": [
    "## 解决方案 Solution"
   ]
  },
  {
   "cell_type": "markdown",
   "metadata": {},
   "source": [
    "### 1.利用最小堆方法（堆大小为K）\n",
    "\n",
    "> 时间复杂度：O(Nlogk)\n",
    "> 空间复杂度：O(k)"
   ]
  },
  {
   "cell_type": "markdown",
   "metadata": {},
   "source": [
    "### Python"
   ]
  },
  {
   "cell_type": "code",
   "execution_count": null,
   "metadata": {
    "collapsed": true
   },
   "outputs": [],
   "source": [
    "class Solution:\n",
    "    def mergeKLists(self, lists):\n",
    "        heap = []\n",
    "        for node in lists:\n",
    "            if node: \n",
    "                heap.append((node.val, node))\n",
    "        heapq.heapify(heap)\n",
    "        head = ListNode(0)\n",
    "        curr = head\n",
    "        while heap:\n",
    "            pop = heapq.heappop(heap)\n",
    "            curr.next = ListNode(pop[0])\n",
    "            curr = curr.next\n",
    "            if pop[1].next: \n",
    "                heapq.heappush(heap, (pop[1].next.val, pop[1].next))\n",
    "        return head.next"
   ]
  },
  {
   "cell_type": "markdown",
   "metadata": {},
   "source": [
    "### C++"
   ]
  },
  {
   "cell_type": "markdown",
   "metadata": {},
   "source": [
    "```c++\n",
    "class Solution\n",
    "{\n",
    "public:\n",
    "    struct cmp\n",
    "    {\n",
    "        bool operator() (const ListNode* a,const ListNode* b)\n",
    "        {\n",
    "            return a->val  > b->val;\n",
    "        }\n",
    "    };\n",
    "    ListNode* mergeKLists(vector<ListNode*>& lists)\n",
    "    {\n",
    "        priority_queue<ListNode*, vector<ListNode*>, cmp>pq;\n",
    "        for(auto i:lists)\n",
    "        {\n",
    "            if(i) //这句判断很有必要，不能把空的加入队列。比如这组数据：[[],[]]\n",
    "            {\n",
    "                pq.push(i);\n",
    "            }\n",
    "        }\n",
    "        if(pq.empty())\n",
    "        {\n",
    "            return nullptr;\n",
    "        }\n",
    "        ListNode* ans = pq.top();\n",
    "        pq.pop();\n",
    "        ListNode* tail = ans;\n",
    "        if(tail->next)\n",
    "        {\n",
    "            pq.push(tail->next);\n",
    "        }\n",
    "        while(!pq.empty())\n",
    "        {\n",
    "            tail->next = pq.top();\n",
    "            tail = tail->next;\n",
    "            pq.pop();\n",
    "            if(tail->next)\n",
    "            {\n",
    "                pq.push(tail->next);\n",
    "            }\n",
    "        }\n",
    "        return ans;\n",
    "    }\n",
    "};\n",
    "```"
   ]
  },
  {
   "cell_type": "markdown",
   "metadata": {},
   "source": [
    "### Java"
   ]
  },
  {
   "cell_type": "markdown",
   "metadata": {},
   "source": [
    "```java\n",
    "\n",
    "```"
   ]
  },
  {
   "cell_type": "markdown",
   "metadata": {},
   "source": [
    "### 2.分治法\n",
    "\n",
    "> 时间复杂度：O(Nlogk)\n",
    "> 空间复杂度：O(1)"
   ]
  },
  {
   "cell_type": "markdown",
   "metadata": {},
   "source": [
    "### Python"
   ]
  },
  {
   "cell_type": "code",
   "execution_count": null,
   "metadata": {
    "collapsed": true
   },
   "outputs": [],
   "source": []
  },
  {
   "cell_type": "markdown",
   "metadata": {},
   "source": [
    "### C++"
   ]
  },
  {
   "cell_type": "markdown",
   "metadata": {},
   "source": [
    "```c++\n",
    "class Solution {\n",
    "public:\n",
    "   ListNode *mergeKLists(vector<ListNode *> &lists) {\n",
    "    if(lists.empty()){\n",
    "        return nullptr;\n",
    "    }\n",
    "    while(lists.size() > 1){\n",
    "        lists.push_back(mergeTwoLists(lists[0], lists[1]));\n",
    "        lists.erase(lists.begin());\n",
    "        lists.erase(lists.begin());\n",
    "    }\n",
    "    return lists.front();\n",
    "    }\n",
    "    ListNode *mergeTwoLists(ListNode *l1, ListNode *l2) {\n",
    "        if(l1 == nullptr){\n",
    "            return l2;\n",
    "        }\n",
    "        if(l2 == nullptr){\n",
    "            return l1;\n",
    "        }\n",
    "        if(l1->val <= l2->val){\n",
    "            l1->next = mergeTwoLists(l1->next, l2);\n",
    "            return l1;\n",
    "        }\n",
    "        else{\n",
    "            l2->next = mergeTwoLists(l1, l2->next);\n",
    "            return l2;\n",
    "        }\n",
    "    }\n",
    "};\n",
    "```"
   ]
  },
  {
   "cell_type": "markdown",
   "metadata": {},
   "source": [
    "### Java"
   ]
  },
  {
   "cell_type": "markdown",
   "metadata": {},
   "source": [
    "```Java\n",
    "\n",
    "```"
   ]
  },
  {
   "cell_type": "markdown",
   "metadata": {},
   "source": [
    "### 3.直接循环  \n",
    "\n",
    "> 时间复杂度：O(Nk)\n",
    "> 空间复杂度：O(1)"
   ]
  },
  {
   "cell_type": "markdown",
   "metadata": {},
   "source": [
    "### Python"
   ]
  },
  {
   "cell_type": "code",
   "execution_count": null,
   "metadata": {
    "collapsed": true
   },
   "outputs": [],
   "source": [
    "class Solution(object):\n",
    "    def mergeKLists(self, lists):\n",
    "        Len=len(lists)\n",
    "        for i in range(Len-1,-1,-1):\n",
    "            if lists[i]==None:del lists[i]\n",
    "        if len(lists)==0:return []\n",
    "        \n",
    "        ans=ListNode(0)\n",
    "        h=ans;\n",
    "        while len(lists)>0:\n",
    "            m=lists[0].val\n",
    "            cur=0\n",
    "            for i in range(1,len(lists)):\n",
    "                if lists[i].val<=m:\n",
    "                    cur=i\n",
    "                    m=lists[i].val\n",
    "            ans.next=ListNode(m)\n",
    "            ans=ans.next\n",
    "            lists[cur]=lists[cur].next\n",
    "            if lists[cur]==None:\n",
    "                del lists[cur];\n",
    "        return h.next"
   ]
  },
  {
   "cell_type": "markdown",
   "metadata": {},
   "source": [
    "## 总结"
   ]
  },
  {
   "cell_type": "markdown",
   "metadata": {
    "collapsed": true
   },
   "source": [
    "### 1.看到这个问题，我最初是怎么思考的？我是怎么做的？遇到了哪些问题？\n",
    "> 思考：使用最小堆\n",
    "\n",
    "> 方法：优先队列\n",
    "\n",
    "> 问题：不熟悉 python 的优先队列\n",
    "\n",
    "### 2.别人是怎么思考的？别人是怎么做的？\n",
    "> a.最小堆 b.分治法 [原文](https://www.cnblogs.com/zywscq/p/5403051.html)\n",
    "\n",
    "### 3.与他的做法相比，我有哪些可以提升的地方？\n",
    "> 熟练掌握堆和堆的应用，掌握 python 的优先队列"
   ]
  },
  {
   "cell_type": "code",
   "execution_count": null,
   "metadata": {
    "collapsed": true
   },
   "outputs": [],
   "source": []
  }
 ],
 "metadata": {
  "kernelspec": {
   "display_name": "Python 3",
   "language": "python",
   "name": "python3"
  },
  "language_info": {
   "codemirror_mode": {
    "name": "ipython",
    "version": 3
   },
   "file_extension": ".py",
   "mimetype": "text/x-python",
   "name": "python",
   "nbconvert_exporter": "python",
   "pygments_lexer": "ipython3",
   "version": "3.6.1"
  }
 },
 "nbformat": 4,
 "nbformat_minor": 2
}
