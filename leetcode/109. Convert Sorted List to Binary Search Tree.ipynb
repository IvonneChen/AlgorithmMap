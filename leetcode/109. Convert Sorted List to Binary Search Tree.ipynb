{
 "cells": [
  {
   "cell_type": "markdown",
   "metadata": {},
   "source": [
    "# 问题：109. 有序链表转换为平衡二叉树\n",
    "# Problem: [109. Convert Sorted List to Binary Search Tree](https://leetcode.com/problems/convert-sorted-list-to-binary-search-tree/description/)\n",
    "\n",
    "## 描述 Description\n",
    "> ### Given a singly linked list where elements are sorted in ascending order, convert it to a height balanced BST.\n",
    "\n",
    "> ### For this problem, a height-balanced binary tree is defined as a binary tree in which the depth of the two subtrees of every node never differ by more than 1."
   ]
  },
  {
   "cell_type": "markdown",
   "metadata": {},
   "source": [
    "## 例子 Example"
   ]
  },
  {
   "cell_type": "markdown",
   "metadata": {},
   "source": [
    "> ![example](https://github.com/Decalogue/AlgorithmMap/blob/master/img/leetcode/109.png \"example\")"
   ]
  },
  {
   "cell_type": "markdown",
   "metadata": {},
   "source": [
    "## 分析 Analysis"
   ]
  },
  {
   "cell_type": "markdown",
   "metadata": {},
   "source": [
    "核心思想：中序遍历\n",
    "> 思路1：使用快慢指针来找到中间节点，将其作为根节点，并分别递归根节点左右两边的链表产生左右子树。好处：不需要使用额外空间\n",
    ">> 时间复杂度：O(nlogn)\n",
    ">> 空间复杂度：O(n)\n",
    "\n",
    "> 思路2：将有序链表转换为有序数组，问题就变成了：有序数组转换为平衡二叉树[108. Convert Sorted Array to Binary Search Tree](https://leetcode.com/problems/convert-sorted-array-to-binary-search-tree/description/)\n",
    ">> 时间复杂度：O(n)\n",
    ">> 空间复杂度：O(n)"
   ]
  },
  {
   "cell_type": "markdown",
   "metadata": {},
   "source": [
    "## 定义 Definition"
   ]
  },
  {
   "cell_type": "markdown",
   "metadata": {},
   "source": [
    "### Python"
   ]
  },
  {
   "cell_type": "code",
   "execution_count": null,
   "metadata": {
    "collapsed": true
   },
   "outputs": [],
   "source": [
    "# Definition for singly-linked list.\n",
    "# class ListNode(object):\n",
    "#     def __init__(self, x):\n",
    "#         self.val = x\n",
    "#         self.next = None\n",
    "\n",
    "# Definition for a binary tree node.\n",
    "# class TreeNode(object):\n",
    "#     def __init__(self, x):\n",
    "#         self.val = x\n",
    "#         self.left = None\n",
    "#         self.right = None"
   ]
  },
  {
   "cell_type": "markdown",
   "metadata": {},
   "source": [
    "### C++"
   ]
  },
  {
   "cell_type": "markdown",
   "metadata": {},
   "source": [
    "```c++\n",
    "/**\n",
    " * Definition for singly-linked list.\n",
    " * struct ListNode {\n",
    " *     int val;\n",
    " *     ListNode *next;\n",
    " *     ListNode(int x) : val(x), next(NULL) {}\n",
    " * };\n",
    " */\n",
    "/**\n",
    " * Definition for a binary tree node.\n",
    " * struct TreeNode {\n",
    " *     int val;\n",
    " *     TreeNode *left;\n",
    " *     TreeNode *right;\n",
    " *     TreeNode(int x) : val(x), left(NULL), right(NULL) {}\n",
    " * };\n",
    " */\n",
    "```"
   ]
  },
  {
   "cell_type": "markdown",
   "metadata": {},
   "source": [
    "### Java"
   ]
  },
  {
   "cell_type": "markdown",
   "metadata": {},
   "source": [
    "```java\n",
    "/**\n",
    " * Definition for singly-linked list.\n",
    " * public class ListNode {\n",
    " *     int val;\n",
    " *     ListNode next;\n",
    " *     ListNode(int x) { val = x; }\n",
    " * }\n",
    " */\n",
    "/**\n",
    " * Definition for a binary tree node.\n",
    " * public class TreeNode {\n",
    " *     int val;\n",
    " *     TreeNode left;\n",
    " *     TreeNode right;\n",
    " *     TreeNode(int x) { val = x; }\n",
    " * }\n",
    " */\n",
    "```"
   ]
  },
  {
   "cell_type": "markdown",
   "metadata": {},
   "source": [
    "## 解决方案 Solution"
   ]
  },
  {
   "cell_type": "markdown",
   "metadata": {},
   "source": [
    "### 1.快慢指针\n",
    "\n",
    "> 时间复杂度：O(nlogn)\n",
    "> 空间复杂度：O(n)"
   ]
  },
  {
   "cell_type": "markdown",
   "metadata": {},
   "source": [
    "### Python"
   ]
  },
  {
   "cell_type": "code",
   "execution_count": 7,
   "metadata": {
    "collapsed": true
   },
   "outputs": [],
   "source": [
    "# 实现-1\n",
    "class Solution(object):\n",
    "    def sortedListToBST(self, head):\n",
    "        \"\"\"\n",
    "        :type head: ListNode\n",
    "        :rtype: TreeNode\n",
    "        \"\"\"\n",
    "        return self.to_bst(head, None) if head != None else None\n",
    "    \n",
    "    def to_bst(self, head, tail):\n",
    "        if head == tail:\n",
    "            return None\n",
    "        fast = head\n",
    "        slow = head\n",
    "        while fast != tail and fast.next != tail:\n",
    "            fast = fast.next.next\n",
    "            slow = slow.next\n",
    "        thead = TreeNode(slow.val)\n",
    "        thead.left = self.to_bst(head, slow)\n",
    "        thead.right = self.to_bst(slow.next, tail)\n",
    "        return thead"
   ]
  },
  {
   "cell_type": "code",
   "execution_count": 8,
   "metadata": {
    "collapsed": true
   },
   "outputs": [],
   "source": [
    "# 实现-2\n",
    "class Solution(object):\n",
    "    def sortedListToBST(self, head):\n",
    "        \"\"\"\n",
    "        :type head: ListNode\n",
    "        :rtype: TreeNode\n",
    "        \"\"\"\n",
    "        if not head:\n",
    "            return \n",
    "        if not head.next:\n",
    "            return TreeNode(head.val)\n",
    "        # here we get the middle point,\n",
    "        # even case, like '1234', slow points to '2',\n",
    "        # '3' is root, '12' belongs to left, '4' is right\n",
    "        # odd case, like '12345', slow points to '2', '12'\n",
    "        # belongs to left, '3' is root, '45' belongs to right\n",
    "        slow, fast = head, head.next.next\n",
    "        while fast and fast.next:\n",
    "            fast = fast.next.next\n",
    "            slow = slow.next\n",
    "        # tmp points to root\n",
    "        tmp = slow.next\n",
    "        # cut down the left child\n",
    "        slow.next = None\n",
    "        root = TreeNode(tmp.val)\n",
    "        root.left = self.sortedListToBST(head)\n",
    "        root.right = self.sortedListToBST(tmp.next)\n",
    "        return root"
   ]
  },
  {
   "cell_type": "markdown",
   "metadata": {},
   "source": [
    "### C++"
   ]
  },
  {
   "cell_type": "markdown",
   "metadata": {},
   "source": [
    "```c++\n",
    "class Solution {\n",
    "    TreeNode * sortedListToBST(ListNode *  list_node)\n",
    "    {\n",
    "        if (!list_node) return nullptr;\n",
    "        if (!list_node->next) return (new TreeNode(list_node->data));\n",
    "\n",
    "        //用快慢指针找到中间节点  \n",
    "        ListNode * pre_slow = nullptr;  //记录慢指针的前一个节点\n",
    "        ListNode * slow = list_node;    //慢指针\n",
    "        ListNode * fast = list_node;    //快指针\n",
    "        while (fast && fast->next)\n",
    "        {\n",
    "            pre_slow = slow;\n",
    "            slow = slow->next;\n",
    "            fast = fast->next->next;\n",
    "        }\n",
    "        TreeNode * mid = new TreeNode(slow->data);\n",
    "\n",
    "        //分别递归左右两部分  \n",
    "        if (pre_slow)\n",
    "        {\n",
    "            pre_slow->next = nullptr;\n",
    "            mid->left = sortedListToBST(list_node);\n",
    "        }\n",
    "        mid->right = sortedListToBST(slow->next);\n",
    "\n",
    "        return mid;\n",
    "    }\n",
    "};\n",
    "```"
   ]
  },
  {
   "cell_type": "markdown",
   "metadata": {},
   "source": [
    "### Java"
   ]
  },
  {
   "cell_type": "markdown",
   "metadata": {},
   "source": [
    "```java\n",
    "class Solution {\n",
    "    public TreeNode sortedListToBST(ListNode head) {\n",
    "        if (head == null) return null;\n",
    "        return toBST(head, null);\n",
    "    }\n",
    "    \n",
    "    public TreeNode toBST(ListNode head, ListNode tail) {\n",
    "        ListNode slow = head;\n",
    "        ListNode fast = head;\n",
    "        if (head == tail) return null;\n",
    "        while (fast != tail && fast.next != tail) {\n",
    "            fast = fast.next.next;\n",
    "            slow = slow.next;\n",
    "        }\n",
    "        TreeNode thead = new TreeNode(slow.val);\n",
    "        thead.left = toBST(head, slow);\n",
    "        thead.right = toBST(slow.next, tail);\n",
    "        return thead;    \n",
    "    }\n",
    "}\n",
    "```"
   ]
  },
  {
   "cell_type": "markdown",
   "metadata": {},
   "source": [
    "### 2.有序数组\n",
    "\n",
    "> 时间复杂度：O(n)\n",
    "> 空间复杂度：O(n)"
   ]
  },
  {
   "cell_type": "markdown",
   "metadata": {},
   "source": [
    "### Python"
   ]
  },
  {
   "cell_type": "code",
   "execution_count": 9,
   "metadata": {
    "collapsed": true
   },
   "outputs": [],
   "source": [
    "class Solution(object):\n",
    "    def sortedListToBST(self, head):\n",
    "        \"\"\"\n",
    "        :type head: ListNode\n",
    "        :rtype: TreeNode\n",
    "        \"\"\"\n",
    "        array = []\n",
    "        p = head\n",
    "        while p:\n",
    "            array.append(p.val)\n",
    "            p = p.next\n",
    "        return self.sortedArrayToBST(array)\n",
    "\n",
    "    def sortedArrayToBST(self, array):\n",
    "        length = len(array)\n",
    "        if length==0: return None\n",
    "        if length==1: return TreeNode(array[0])\n",
    "        root = TreeNode(array[length/2])\n",
    "        root.left = self.sortedArrayToBST(array[:length/2])\n",
    "        root.right = self.sortedArrayToBST(array[length/2+1:])\n",
    "        return root"
   ]
  },
  {
   "cell_type": "markdown",
   "metadata": {},
   "source": [
    "### C++"
   ]
  },
  {
   "cell_type": "markdown",
   "metadata": {},
   "source": [
    "```c++\n",
    "class Solution {\n",
    "public:\n",
    "    ListNode *list;\n",
    "    int count(ListNode *node){\n",
    "        int size = 0;\n",
    "        while (node) {\n",
    "            ++size;\n",
    "            node = node->next;\n",
    "        }\n",
    "        return size;\n",
    "    }\n",
    "\n",
    "    TreeNode *generate(int n){\n",
    "        if (n == 0)\n",
    "            return NULL;\n",
    "        TreeNode *node = new TreeNode(0);\n",
    "        node->left = generate(n / 2);\n",
    "        node->val = list->val;\n",
    "        list = list->next;\n",
    "        node->right = generate(n - n / 2 - 1);\n",
    "        return node;\n",
    "    }\n",
    "\n",
    "    TreeNode *sortedListToBST(ListNode *head) {\n",
    "        this->list = head;\n",
    "        return generate(count(head));\n",
    "    }\n",
    "};\n",
    "```"
   ]
  },
  {
   "cell_type": "markdown",
   "metadata": {},
   "source": [
    "```c++\n",
    "class Solution {\n",
    "public:\n",
    "    TreeNode* _sortedListToBST(ListNode* &head, int start, int end) {\n",
    "        if (start > end)\n",
    "            return NULL;\n",
    "        int mid = start + (end-start)/2;\n",
    "        TreeNode *left_child = _sortedListToBST(head, start, mid-1);\n",
    "        TreeNode *node = new TreeNode(head->val);\n",
    "        node->left = left_child;\n",
    "        head = head->next;\n",
    "        node->right = _sortedListToBST(head, mid+1, end);\n",
    "        return node;\n",
    "    }\n",
    "    \n",
    "    TreeNode* sortedListToBST(ListNode* head) {\n",
    "        if (!head)\n",
    "            return NULL;       \n",
    "        ListNode *tmp = head;\n",
    "        int sz = 0;\n",
    "        while (tmp) {\n",
    "            sz++;\n",
    "            tmp = tmp->next;\n",
    "        }\n",
    "        return _sortedListToBST(head, 0, sz-1);\n",
    "    }\n",
    "```"
   ]
  },
  {
   "cell_type": "markdown",
   "metadata": {},
   "source": [
    "### Java"
   ]
  },
  {
   "cell_type": "markdown",
   "metadata": {},
   "source": [
    "```Java\n",
    "class Solution {\n",
    "    private ListNode current;\n",
    "    private int getSize(ListNode head){\n",
    "        int size = 0;\n",
    "        while(head != null){\n",
    "            size++;\n",
    "            head = head.next;\n",
    "        }\n",
    "        return size;\n",
    "    }\n",
    "    private TreeNode sortedListToBSTHelper(int size){\n",
    "        if (size <= 0){\n",
    "            return null;\n",
    "        }\n",
    "       \n",
    "        TreeNode left = sortedListToBSTHelper(size / 2);\n",
    "        TreeNode root = new TreeNode(current.val);\n",
    "        current = current.next;\n",
    "        TreeNode right = sortedListToBSTHelper(size - size / 2 - 1);\n",
    "        root.left = left;\n",
    "        root.right = right;\n",
    "       \n",
    "        return root;\n",
    "    }\n",
    "    \n",
    "    public TreeNode sortedListToBST(ListNode head) {\n",
    "        if (head == null){\n",
    "            return null;\n",
    "        }\n",
    "        current = head;\n",
    "        int size = getSize(head);\n",
    "        return sortedListToBSTHelper(size);\n",
    "    }\n",
    "}\n",
    "```"
   ]
  },
  {
   "cell_type": "markdown",
   "metadata": {},
   "source": [
    "## 总结"
   ]
  },
  {
   "cell_type": "markdown",
   "metadata": {
    "collapsed": true
   },
   "source": [
    "链表的特点是从头到尾依次遍历，因为是有序递增的，所以也就是从小到大依次遍历。而二叉搜索树的中序遍历结果就是一个递增的序列，所以按照树的中序遍历方式即可解决。"
   ]
  },
  {
   "cell_type": "markdown",
   "metadata": {},
   "source": [
    "### 1.看到这个问题，我最初是怎么思考的？我是怎么做的？遇到了哪些问题？\n",
    "> \n",
    "\n",
    "### 2.别人是怎么思考的？别人是怎么做的？遇到了哪些问题？\n",
    "> \n",
    "\n",
    "### 3.与他的做法相比，我有哪些可以提升的地方？\n",
    "> \n",
    "\n",
    "### 4.整合升级，分享\n",
    "> \n",
    "\n",
    "### 5.迭代第1步到第4步\n",
    "> "
   ]
  },
  {
   "cell_type": "code",
   "execution_count": null,
   "metadata": {
    "collapsed": true
   },
   "outputs": [],
   "source": []
  }
 ],
 "metadata": {
  "kernelspec": {
   "display_name": "Python 3",
   "language": "python",
   "name": "python3"
  },
  "language_info": {
   "codemirror_mode": {
    "name": "ipython",
    "version": 3
   },
   "file_extension": ".py",
   "mimetype": "text/x-python",
   "name": "python",
   "nbconvert_exporter": "python",
   "pygments_lexer": "ipython3",
   "version": "3.6.1"
  }
 },
 "nbformat": 4,
 "nbformat_minor": 2
}
