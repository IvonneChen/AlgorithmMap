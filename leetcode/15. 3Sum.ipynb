{
 "cells": [
  {
   "cell_type": "markdown",
   "metadata": {},
   "source": [
    "# 问题：15. 3Sum\n",
    "# Problem: [15. 3Sum](https://leetcode.com/problems/3sum/description/)\n",
    "\n",
    "## 描述 Description\n",
    "> ### Given an array nums of n integers, are there elements a, b, c in nums such that a + b + c = 0? Find all unique triplets in the array which gives the sum of zero.\n",
    "\n",
    "> ### Note: The solution set must not contain duplicate triplets."
   ]
  },
  {
   "cell_type": "markdown",
   "metadata": {},
   "source": [
    "## 例子 Example"
   ]
  },
  {
   "cell_type": "markdown",
   "metadata": {},
   "source": [
    "> ![example](https://github.com/Decalogue/AlgorithmMap/blob/master/img/leetcode/15.png \"example\")"
   ]
  },
  {
   "cell_type": "markdown",
   "metadata": {},
   "source": [
    "## 分析 Analysis"
   ]
  },
  {
   "cell_type": "markdown",
   "metadata": {},
   "source": [
    "核心思想：\n",
    "> 思路1：转化为遍历 + twoSum 问题（超时）\n",
    ">> 时间复杂度：O(n^2)\n",
    ">> 空间复杂度：O(n)\n",
    "\n",
    "> 思路2：从第一个元素开始，找剩下两个元素，分别用两根指针一头一尾，慢慢靠近。\n",
    ">> 时间复杂度：O(n^2)\n",
    ">> 空间复杂度：O(n)\n",
    "\n",
    "> 思路3：用字典 value2index（效率最高）\n",
    ">> 时间复杂度：O(n^2)\n",
    ">> 空间复杂度：O(n)"
   ]
  },
  {
   "cell_type": "markdown",
   "metadata": {},
   "source": [
    "## 定义 Definition"
   ]
  },
  {
   "cell_type": "markdown",
   "metadata": {},
   "source": [
    "### Python"
   ]
  },
  {
   "cell_type": "code",
   "execution_count": 1,
   "metadata": {
    "collapsed": true
   },
   "outputs": [],
   "source": [
    "class Solution:\n",
    "    def threeSum(self, nums):\n",
    "        \"\"\"\n",
    "        :type nums: List[int]\n",
    "        :rtype: List[List[int]]\n",
    "        \"\"\""
   ]
  },
  {
   "cell_type": "markdown",
   "metadata": {},
   "source": [
    "### C++"
   ]
  },
  {
   "cell_type": "markdown",
   "metadata": {},
   "source": [
    "```c++\n",
    "class Solution {\n",
    "public:\n",
    "    vector<vector<int>> threeSum(vector<int>& nums) {\n",
    "        \n",
    "    }\n",
    "};\n",
    "```"
   ]
  },
  {
   "cell_type": "markdown",
   "metadata": {},
   "source": [
    "### Java"
   ]
  },
  {
   "cell_type": "markdown",
   "metadata": {},
   "source": [
    "```java\n",
    "class Solution {\n",
    "    public List<List<Integer>> threeSum(int[] nums) {\n",
    "        \n",
    "    }\n",
    "}\n",
    "```"
   ]
  },
  {
   "cell_type": "markdown",
   "metadata": {},
   "source": [
    "## 解决方案 Solution"
   ]
  },
  {
   "cell_type": "markdown",
   "metadata": {},
   "source": [
    "### 1.转化为遍历 + twoSum 问题（超时）\n",
    "\n",
    "> 时间复杂度：O(n^2)\n",
    "> 空间复杂度：O(n)"
   ]
  },
  {
   "cell_type": "markdown",
   "metadata": {},
   "source": [
    "### Python"
   ]
  },
  {
   "cell_type": "code",
   "execution_count": null,
   "metadata": {
    "collapsed": true
   },
   "outputs": [],
   "source": [
    "class Solution: # O(n^2)\n",
    "    def threeSum(self, nums):\n",
    "        \"\"\"\n",
    "        :type nums: List[int]\n",
    "        :rtype: List[List[int]]\n",
    "        \"\"\"\n",
    "        if not nums:\n",
    "            return []\n",
    "        self.res = []\n",
    "        for i in range(len(nums)): # O(n)\n",
    "            self.twoSum(nums[:i]+nums[i+1:], nums[i])\n",
    "        return self.res\n",
    "        \n",
    "    def twoSum(self, nums, target): # O(n)\n",
    "        d = {}\n",
    "        for i, num in enumerate(nums):\n",
    "            if -target-num in d:\n",
    "                temp = sorted([target, num, nums[d[-target-num]]])\n",
    "                if temp not in self.res:\n",
    "                    self.res.append(temp)\n",
    "            d[num] = i"
   ]
  },
  {
   "cell_type": "markdown",
   "metadata": {},
   "source": [
    "### C++"
   ]
  },
  {
   "cell_type": "markdown",
   "metadata": {},
   "source": [
    "```c++\n",
    "\n",
    "```"
   ]
  },
  {
   "cell_type": "markdown",
   "metadata": {},
   "source": [
    "### Java"
   ]
  },
  {
   "cell_type": "markdown",
   "metadata": {},
   "source": [
    "```java\n",
    "\n",
    "```"
   ]
  },
  {
   "cell_type": "markdown",
   "metadata": {},
   "source": [
    "### 2.从第一个元素开始，找剩下两个元素，分别用两根指针一头一尾，慢慢靠近。\n",
    "\n",
    "> 时间复杂度：O(n^2)\n",
    "> 空间复杂度：O(n)"
   ]
  },
  {
   "cell_type": "markdown",
   "metadata": {},
   "source": [
    "### Python"
   ]
  },
  {
   "cell_type": "code",
   "execution_count": null,
   "metadata": {
    "collapsed": true
   },
   "outputs": [],
   "source": [
    "class Solution:\n",
    "    def threeSum(self, nums):\n",
    "        \"\"\"\n",
    "        :type nums: List[int]\n",
    "        :rtype: List[List[int]]\n",
    "        \"\"\"\n",
    "        if not nums:\n",
    "            return []\n",
    "        res = []\n",
    "        nums.sort()\n",
    "        for i in range(len(nums)-2):\n",
    "            if i != 0 and nums[i] == nums[i-1]:\n",
    "                continue\n",
    "            l, r = i + 1, len(nums) - 1\n",
    "            while l < r:\n",
    "                s = nums[i] + nums[l] + nums[r]\n",
    "                if s < 0:\n",
    "                    l += 1\n",
    "                elif s > 0:\n",
    "                    r -= 1\n",
    "                else:\n",
    "                    res.append([nums[i], nums[l], nums[r]])\n",
    "                    l += 1\n",
    "                    r -= 1\n",
    "                    while l < r and nums[l] == nums[l-1]:\n",
    "                        l += 1\n",
    "                    while l < r and nums[r] == nums[r+1]:\n",
    "                        r -= 1\n",
    "        return res"
   ]
  },
  {
   "cell_type": "markdown",
   "metadata": {},
   "source": [
    "### C++"
   ]
  },
  {
   "cell_type": "markdown",
   "metadata": {},
   "source": [
    "```c++\n",
    "\n",
    "```"
   ]
  },
  {
   "cell_type": "markdown",
   "metadata": {},
   "source": [
    "### Java"
   ]
  },
  {
   "cell_type": "markdown",
   "metadata": {},
   "source": [
    "```Java\n",
    "public class Solution {\n",
    "    public ArrayList<ArrayList<Integer>> threeSum(int[] nums) {\n",
    "        //先将数组排序，由小到大，然后依次从第一个元素开始，两根指针，一头一尾遍历，如果找到等于target也就是0的就add进结果。\n",
    "        \n",
    "        //判断边界情况，当nums为空或者null的时候\n",
    "        if(nums == null || nums.length == 0) {\n",
    "            return null;\n",
    "        }\n",
    "        \n",
    "        ArrayList<ArrayList<Integer>> res = new ArrayList<>();\n",
    "        //首先对数组进行排序\n",
    "        Arrays.sort(nums);\n",
    "        \n",
    "        //从第一个元素开始循环\n",
    "        for(int i=0;i<nums.length-2;i++) {\n",
    "            //优化情况，如果两个或多个元素相等判断一次就行了，相等的元素可以直接跳过\n",
    "            if(i != 0 && nums[i] == nums[i-1])\n",
    "                continue;\n",
    "            \n",
    "            //设置两个指针一头一尾开始找\n",
    "            int left = i+1;\n",
    "            int right = nums.length-1;\n",
    "            \n",
    "            //两根指针没相遇时寻找\n",
    "            while(left < right) {\n",
    "                int sum = nums[i] + nums[left] + nums[right];\n",
    "                \n",
    "                if(sum > 0)\n",
    "                    right--;\n",
    "                else if(sum < 0)\n",
    "                    left++;\n",
    "                else{\n",
    "                    ArrayList<Integer> temp = new ArrayList<>();\n",
    "                    temp.add(nums[i]);\n",
    "                    temp.add(nums[left]);\n",
    "                    temp.add(nums[right]);\n",
    "                    res.add(temp);\n",
    "                    left++;\n",
    "                    right--;\n",
    "                    //同样可以优化，如果有相等的元素判断一次就可以\n",
    "                    while(left<right && nums[left] == nums[left-1])\n",
    "                        left++;\n",
    "                    while(left<right && nums[right] == nums[right+1])\n",
    "                        right--;\n",
    "                }\n",
    "                \n",
    "            }\n",
    "        }\n",
    "      return res;\n",
    "    }\n",
    "    \n",
    "}\n",
    "```"
   ]
  },
  {
   "cell_type": "markdown",
   "metadata": {},
   "source": [
    "### 3.用字典 value2index（效率最高）\n",
    "\n",
    "> 时间复杂度：O(n^2)\n",
    "> 空间复杂度：O(n)"
   ]
  },
  {
   "cell_type": "markdown",
   "metadata": {},
   "source": [
    "### Python"
   ]
  },
  {
   "cell_type": "code",
   "execution_count": 2,
   "metadata": {
    "collapsed": true
   },
   "outputs": [],
   "source": [
    "class Solution:\n",
    "    def threeSum(self, nums):\n",
    "        dic={}\n",
    "        for num in nums:\n",
    "            if num in dic:\n",
    "                dic[num]+=1\n",
    "            else:\n",
    "                dic[num]=1\n",
    "        if 0 in dic and dic[0]>=3:\n",
    "            ans=[[0,0,0]]\n",
    "        else:\n",
    "            ans=[]\n",
    "        ns = sorted([x for x in dic if x<0], reverse=True) # 使遍历时 ns 和 nns 绝对值接近\n",
    "        nns = sorted([x for x in dic if x>=0])\n",
    "        for n in ns:\n",
    "            for nn in nns:\n",
    "                chk = -(nn + n)\n",
    "                if chk in dic:\n",
    "                    if chk in [n,nn] and dic[chk] > 1:\n",
    "                        ans.append([n, chk, nn])\n",
    "                    elif chk<n: \n",
    "                        ans.append([chk, n, nn])\n",
    "                    elif nn<chk:\n",
    "                        ans.append([n,nn,chk])\n",
    "        return ans"
   ]
  },
  {
   "cell_type": "markdown",
   "metadata": {},
   "source": [
    "### C++"
   ]
  },
  {
   "cell_type": "markdown",
   "metadata": {},
   "source": [
    "```c++\n",
    "\n",
    "```"
   ]
  },
  {
   "cell_type": "markdown",
   "metadata": {},
   "source": [
    "### Java"
   ]
  },
  {
   "cell_type": "markdown",
   "metadata": {},
   "source": [
    "```java\n",
    "\n",
    "```"
   ]
  },
  {
   "cell_type": "markdown",
   "metadata": {},
   "source": [
    "## 总结"
   ]
  },
  {
   "cell_type": "markdown",
   "metadata": {
    "collapsed": true
   },
   "source": [
    "### 1.看到这个问题，我最初是怎么思考的？我是怎么做的？遇到了哪些问题？\n",
    "> 思考：这个问题和  [1. Two Sum](https://leetcode.com/problems/two-sum/description/) 类似，都可以用字典 value2index（效率最高）实现\n",
    "\n",
    "> 方法：没有写出第3种方案，就转化为遍历 + twoSum 问题（超时）\n",
    "\n",
    "> 问题：a.超时 b.去重\n",
    "\n",
    "### 2.别人是怎么思考的？别人是怎么做的？\n",
    "> a.从第一个元素开始，找剩下两个元素，分别用两根指针一头一尾，慢慢靠近。\n",
    "\n",
    "> b.用字典 value2index（效率最高）\n",
    "\n",
    "### 3.与他的做法相比，我有哪些可以提升的地方？\n",
    "> 对相似问题的深入分析，找出关键点"
   ]
  },
  {
   "cell_type": "code",
   "execution_count": null,
   "metadata": {
    "collapsed": true
   },
   "outputs": [],
   "source": []
  }
 ],
 "metadata": {
  "kernelspec": {
   "display_name": "Python 3",
   "language": "python",
   "name": "python3"
  },
  "language_info": {
   "codemirror_mode": {
    "name": "ipython",
    "version": 3
   },
   "file_extension": ".py",
   "mimetype": "text/x-python",
   "name": "python",
   "nbconvert_exporter": "python",
   "pygments_lexer": "ipython3",
   "version": "3.6.1"
  }
 },
 "nbformat": 4,
 "nbformat_minor": 2
}
