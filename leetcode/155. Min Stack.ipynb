{
 "cells": [
  {
   "cell_type": "markdown",
   "metadata": {},
   "source": [
    "# 问题：155. Min Stack\n",
    "# Problem: [155. Min Stack](https://leetcode.com/problems/min-stack/description/)\n",
    "\n",
    "## 描述 Description\n",
    "> ### Design a stack that supports push, pop, top, and retrieving the minimum element in constant time."
   ]
  },
  {
   "cell_type": "markdown",
   "metadata": {},
   "source": [
    "## 例子 Example"
   ]
  },
  {
   "cell_type": "markdown",
   "metadata": {},
   "source": [
    "> ![example](https://github.com/Decalogue/AlgorithmMap/blob/master/img/leetcode/155.png \"example\")"
   ]
  },
  {
   "cell_type": "markdown",
   "metadata": {},
   "source": [
    "## 分析 Analysis"
   ]
  },
  {
   "cell_type": "markdown",
   "metadata": {},
   "source": [
    "核心思想：\n",
    "> 思路1：用另一个栈，存储各个状态的最小值\n",
    ">> 时间复杂度：O(n)\n",
    ">> 空间复杂度：O(n)\n",
    "\n",
    "> 思路2：\n",
    ">> 时间复杂度：O(n)\n",
    ">> 空间复杂度：O(1)"
   ]
  },
  {
   "cell_type": "markdown",
   "metadata": {},
   "source": [
    "## 定义 Definition"
   ]
  },
  {
   "cell_type": "markdown",
   "metadata": {},
   "source": [
    "### Python"
   ]
  },
  {
   "cell_type": "code",
   "execution_count": 1,
   "metadata": {
    "collapsed": true
   },
   "outputs": [],
   "source": [
    "class MinStack:\n",
    "    def __init__(self):\n",
    "        \"\"\"\n",
    "        initialize your data structure here.\n",
    "        \"\"\"\n",
    "        \n",
    "    def push(self, x):\n",
    "        \"\"\"\n",
    "        :type x: int\n",
    "        :rtype: void\n",
    "        \"\"\"\n",
    "        \n",
    "    def pop(self):\n",
    "        \"\"\"\n",
    "        :rtype: void\n",
    "        \"\"\"\n",
    "        \n",
    "    def top(self):\n",
    "        \"\"\"\n",
    "        :rtype: int\n",
    "        \"\"\"\n",
    "        \n",
    "    def getMin(self):\n",
    "        \"\"\"\n",
    "        :rtype: int\n",
    "        \"\"\"\n",
    "\n",
    "# Your MinStack object will be instantiated and called as such:\n",
    "# obj = MinStack()\n",
    "# obj.push(x)\n",
    "# obj.pop()\n",
    "# param_3 = obj.top()\n",
    "# param_4 = obj.getMin()"
   ]
  },
  {
   "cell_type": "markdown",
   "metadata": {},
   "source": [
    "### C++"
   ]
  },
  {
   "cell_type": "markdown",
   "metadata": {},
   "source": [
    "```c++\n",
    "class MinStack {\n",
    "public:\n",
    "    /** initialize your data structure here. */\n",
    "    MinStack() {\n",
    "        \n",
    "    }\n",
    "    \n",
    "    void push(int x) {\n",
    "        \n",
    "    }\n",
    "    \n",
    "    void pop() {\n",
    "        \n",
    "    }\n",
    "    \n",
    "    int top() {\n",
    "        \n",
    "    }\n",
    "    \n",
    "    int getMin() {\n",
    "        \n",
    "    }\n",
    "};\n",
    "\n",
    "/**\n",
    " * Your MinStack object will be instantiated and called as such:\n",
    " * MinStack obj = new MinStack();\n",
    " * obj.push(x);\n",
    " * obj.pop();\n",
    " * int param_3 = obj.top();\n",
    " * int param_4 = obj.getMin();\n",
    " */\n",
    "```"
   ]
  },
  {
   "cell_type": "markdown",
   "metadata": {},
   "source": [
    "### Java"
   ]
  },
  {
   "cell_type": "markdown",
   "metadata": {},
   "source": [
    "```java\n",
    "class MinStack {\n",
    "\n",
    "    /** initialize your data structure here. */\n",
    "    public MinStack() {\n",
    "        \n",
    "    }\n",
    "    \n",
    "    public void push(int x) {\n",
    "        \n",
    "    }\n",
    "    \n",
    "    public void pop() {\n",
    "        \n",
    "    }\n",
    "    \n",
    "    public int top() {\n",
    "        \n",
    "    }\n",
    "    \n",
    "    public int getMin() {\n",
    "        \n",
    "    }\n",
    "}\n",
    "\n",
    "/**\n",
    " * Your MinStack object will be instantiated and called as such:\n",
    " * MinStack obj = new MinStack();\n",
    " * obj.push(x);\n",
    " * obj.pop();\n",
    " * int param_3 = obj.top();\n",
    " * int param_4 = obj.getMin();\n",
    " */\n",
    "```"
   ]
  },
  {
   "cell_type": "markdown",
   "metadata": {},
   "source": [
    "## 解决方案 Solution"
   ]
  },
  {
   "cell_type": "markdown",
   "metadata": {},
   "source": [
    "### 1.用另一个栈，存储各个状态的最小值\n",
    "\n",
    "> 时间复杂度：O(n)\n",
    "> 空间复杂度：O(n)"
   ]
  },
  {
   "cell_type": "markdown",
   "metadata": {},
   "source": [
    "### Python"
   ]
  },
  {
   "cell_type": "code",
   "execution_count": null,
   "metadata": {
    "collapsed": true
   },
   "outputs": [],
   "source": [
    "class MinStack:\n",
    "    def __init__(self):\n",
    "        \"\"\"\n",
    "        initialize your data structure here.\n",
    "        \"\"\"\n",
    "        self.data = []\n",
    "        self.mdata = []\n",
    "        \n",
    "    def push(self, x):\n",
    "        \"\"\"\n",
    "        :type x: int\n",
    "        :rtype: void\n",
    "        \"\"\"\n",
    "        self.data.append(x)\n",
    "        if self.mdata == []:\n",
    "            self.mdata.append(x)\n",
    "        else:\n",
    "            if x > self.mdata[-1]:\n",
    "                x = self.mdata[-1]\n",
    "            self.mdata.append(x)\n",
    "\n",
    "    def pop(self):\n",
    "        \"\"\"\n",
    "        :rtype: void\n",
    "        \"\"\"\n",
    "        self.mdata.pop()\n",
    "        return self.data.pop()\n",
    " \n",
    "    def top(self):\n",
    "        \"\"\"\n",
    "        :rtype: int\n",
    "        \"\"\"\n",
    "        return self.data[-1]\n",
    "\n",
    "    def getMin(self):\n",
    "        \"\"\"\n",
    "        :rtype: int\n",
    "        \"\"\"\n",
    "        return self.mdata[-1]"
   ]
  },
  {
   "cell_type": "markdown",
   "metadata": {},
   "source": [
    "### C++"
   ]
  },
  {
   "cell_type": "markdown",
   "metadata": {},
   "source": [
    "```c++\n",
    "class MinStack {\n",
    "public:\n",
    "    /** initialize your data structure here. */\n",
    "    MinStack() {\n",
    "        \n",
    "    }\n",
    "    \n",
    "    void push(int x) {\n",
    "        _data.push(x);\n",
    "        if (_min.empty()){\n",
    "            _min.push(x);\n",
    "        }\n",
    "        else{\n",
    "            if (x > _min.top()){\n",
    "                x = _min.top();\n",
    "            }\n",
    "            _min.push(x);\n",
    "        }\n",
    "    }\n",
    "    \n",
    "    void pop() {\n",
    "        _data.pop();\n",
    "        _min.pop();\n",
    "    }\n",
    "    \n",
    "    int top() {\n",
    "        return _data.top();\n",
    "    }\n",
    "    \n",
    "    int getMin() {\n",
    "        return _min.top();\n",
    "    }\n",
    "private:\n",
    "    std::stack<int> _data;\n",
    "    std::stack<int> _min;\n",
    "};\n",
    "```"
   ]
  },
  {
   "cell_type": "markdown",
   "metadata": {},
   "source": [
    "### Java"
   ]
  },
  {
   "cell_type": "markdown",
   "metadata": {},
   "source": [
    "```java\n",
    "\n",
    "```"
   ]
  },
  {
   "cell_type": "markdown",
   "metadata": {},
   "source": [
    "### 2.\n",
    "\n",
    "> 时间复杂度：O(n)\n",
    "> 空间复杂度：O(1)"
   ]
  },
  {
   "cell_type": "markdown",
   "metadata": {},
   "source": [
    "### Python"
   ]
  },
  {
   "cell_type": "code",
   "execution_count": null,
   "metadata": {
    "collapsed": true
   },
   "outputs": [],
   "source": []
  },
  {
   "cell_type": "markdown",
   "metadata": {},
   "source": [
    "### C++"
   ]
  },
  {
   "cell_type": "markdown",
   "metadata": {},
   "source": [
    "```c++\n",
    "\n",
    "```"
   ]
  },
  {
   "cell_type": "markdown",
   "metadata": {},
   "source": [
    "### Java"
   ]
  },
  {
   "cell_type": "markdown",
   "metadata": {},
   "source": [
    "```Java\n",
    "\n",
    "```"
   ]
  },
  {
   "cell_type": "markdown",
   "metadata": {},
   "source": [
    "## 总结"
   ]
  },
  {
   "cell_type": "markdown",
   "metadata": {
    "collapsed": true
   },
   "source": [
    "### 1.看到这个问题，我最初是怎么思考的？我是怎么做的？遇到了哪些问题？\n",
    "> 思考：用变量存储最小值\n",
    "\n",
    "> 方法：参考用另一个栈，存储各个状态的最小值\n",
    "\n",
    "> 问题：C++ 版的写法\n",
    "\n",
    "### 2.别人是怎么思考的？别人是怎么做的？\n",
    "> 用另一个栈，存储各个状态的最小值 [小象学院视频课](http://www.chinahadoop.cn/course/open/lesson/19297/play)\n",
    "\n",
    "### 3.与他的做法相比，我有哪些可以提升的地方？\n",
    "> 分析过程"
   ]
  },
  {
   "cell_type": "code",
   "execution_count": null,
   "metadata": {
    "collapsed": true
   },
   "outputs": [],
   "source": []
  }
 ],
 "metadata": {
  "kernelspec": {
   "display_name": "Python 3",
   "language": "python",
   "name": "python3"
  },
  "language_info": {
   "codemirror_mode": {
    "name": "ipython",
    "version": 3
   },
   "file_extension": ".py",
   "mimetype": "text/x-python",
   "name": "python",
   "nbconvert_exporter": "python",
   "pygments_lexer": "ipython3",
   "version": "3.6.1"
  }
 },
 "nbformat": 4,
 "nbformat_minor": 2
}
